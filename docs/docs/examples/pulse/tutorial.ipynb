{
 "cells": [
  {
   "cell_type": "code",
   "execution_count": null,
   "metadata": {},
   "outputs": [],
   "source": [
    "# Install qubex library if not installed\n",
    "# !pip install git+https://github.com/amachino/qubex.git"
   ]
  },
  {
   "cell_type": "code",
   "execution_count": null,
   "metadata": {},
   "outputs": [],
   "source": [
    "import numpy as np\n",
    "import qubex as qx"
   ]
  },
  {
   "cell_type": "code",
   "execution_count": null,
   "metadata": {},
   "outputs": [],
   "source": [
    "# Create a flat-top pulse\n",
    "flattop = qx.pulse.FlatTop(\n",
    "    duration=30,\n",
    "    amplitude=0.5,\n",
    "    tau=10,\n",
    ")\n",
    "\n",
    "# Plot the pulse\n",
    "flattop.plot()\n",
    "\n",
    "# Print the pulse values\n",
    "print(flattop.values)"
   ]
  },
  {
   "cell_type": "code",
   "execution_count": null,
   "metadata": {},
   "outputs": [],
   "source": [
    "# Scale the amplitude of the pulse\n",
    "flattop.scaled(1.5).plot()\n",
    "\n",
    "# Shift the phase of the pulse\n",
    "flattop.shifted(np.pi).plot()\n",
    "\n",
    "# Repeat the pulse\n",
    "flattop.repeated(3).plot()"
   ]
  },
  {
   "cell_type": "code",
   "execution_count": null,
   "metadata": {},
   "outputs": [],
   "source": [
    "# Create a Gaussian pulse\n",
    "gaussian = qx.pulse.Gaussian(\n",
    "    duration=60,\n",
    "    amplitude=0.5,\n",
    "    sigma=10,\n",
    ")\n",
    "\n",
    "# Create a pulse array\n",
    "arr = qx.PulseArray(\n",
    "    [\n",
    "        gaussian.shifted(np.pi / 2),\n",
    "        qx.VirtualZ(np.pi / 2),\n",
    "        gaussian.shifted(-np.pi / 2),\n",
    "    ]\n",
    ")\n",
    "\n",
    "# Plot the logical pulse array\n",
    "arr.plot(show_physical_pulse=False)\n",
    "\n",
    "# Plot the physical pulse array\n",
    "arr.plot(show_physical_pulse=True)\n",
    "\n",
    "# Print the pulse array values\n",
    "print(arr.values)"
   ]
  },
  {
   "cell_type": "code",
   "execution_count": null,
   "metadata": {},
   "outputs": [],
   "source": [
    "# Create an arbitrary pulse\n",
    "iq_array = [\n",
    "    0.1 + 0.2j,\n",
    "    0.2 + 0.3j,\n",
    "    0.3 + 0.4j,\n",
    "    0.4 + 0.6j,\n",
    "    0.5 + 0.6j,\n",
    "]\n",
    "arbit = qx.Pulse(iq_array)\n",
    "\n",
    "# Plot the pulse\n",
    "arbit.plot()\n",
    "\n",
    "# Plot the reverse of the pulse\n",
    "arbit.reversed().plot()"
   ]
  },
  {
   "cell_type": "code",
   "execution_count": null,
   "metadata": {},
   "outputs": [],
   "source": [
    "# Create a pulse schedule for the channels\n",
    "with qx.PulseSchedule() as ps1:\n",
    "    ps1.add(\"Q00\", flattop.repeated(5))\n",
    "    ps1.add(\"Q01\", arr.scaled(2))\n",
    "    ps1.barrier()\n",
    "    ps1.add(\"Q00\", arbit.repeated(3))\n",
    "    ps1.barrier([\"Q00\", \"Q01\"])\n",
    "    ps1.add(\"Q01\", qx.pulse.FlatTop(duration=100, amplitude=1, tau=10))\n",
    "    ps1.add(\"Q02\", qx.PulseArray([gaussian, qx.VirtualZ(np.pi / 2), gaussian]))\n",
    "\n",
    "# Plot the pulse schedule\n",
    "ps1.plot()\n",
    "\n",
    "# Get the PulseArray dictionary of the channels\n",
    "ps1.get_sequences()"
   ]
  },
  {
   "cell_type": "code",
   "execution_count": null,
   "metadata": {},
   "outputs": [],
   "source": [
    "# Get the sampled sequences of the channels\n",
    "ps1.get_sampled_sequences()"
   ]
  },
  {
   "cell_type": "code",
   "execution_count": null,
   "metadata": {},
   "outputs": [],
   "source": [
    "# Create a pulse schedule using the previous pulse schedule\n",
    "\n",
    "with qx.PulseSchedule() as ps2:\n",
    "    ps2.call(ps1)\n",
    "    ps2.barrier()\n",
    "    ps2.add(\"Q00\", qx.Blank(100))\n",
    "    ps2.barrier()\n",
    "    ps2.call(ps1.reversed())\n",
    "\n",
    "ps2.plot()"
   ]
  },
  {
   "cell_type": "code",
   "execution_count": null,
   "metadata": {},
   "outputs": [],
   "source": [
    "# Cross-resonance sequence\n",
    "\n",
    "x180 = qx.pulse.Drag(duration=16, amplitude=0.02, beta=0.1)\n",
    "\n",
    "zx90 = qx.pulse.CrossResonance(\n",
    "    control_qubit=\"Q00\",\n",
    "    target_qubit=\"Q01\",\n",
    "    cr_amplitude=1.0,\n",
    "    cr_duration=200,\n",
    "    cr_ramptime=30,\n",
    "    cr_phase=0.0,\n",
    "    cancel_amplitude=0.01,\n",
    "    cancel_phase=np.pi / 6,\n",
    "    echo=True,\n",
    "    pi_pulse=x180,\n",
    ")\n",
    "\n",
    "zx90.plot()"
   ]
  },
  {
   "cell_type": "code",
   "execution_count": null,
   "metadata": {},
   "outputs": [],
   "source": [
    "# CNOT sequence\n",
    "\n",
    "x90 = qx.pulse.Drag(duration=16, amplitude=0.01, beta=0.1)\n",
    "x90m = x90.scaled(-1)\n",
    "z90m = qx.VirtualZ(-np.pi / 2)\n",
    "\n",
    "with qx.PulseSchedule() as cnot:\n",
    "    cnot.call(zx90)\n",
    "    cnot.add(\"Q00\", z90m)\n",
    "    cnot.add(\"Q01\", x90m)\n",
    "\n",
    "cnot.plot()"
   ]
  },
  {
   "cell_type": "code",
   "execution_count": null,
   "metadata": {},
   "outputs": [],
   "source": [
    "# Inverse CNOT sequence\n",
    "\n",
    "y90 = x90.shifted(np.pi / 2)\n",
    "z180 = qx.VirtualZ(np.pi)\n",
    "\n",
    "xz90 = qx.pulse.CrossResonance(\n",
    "    control_qubit=\"Q01\",\n",
    "    target_qubit=\"Q00\",\n",
    "    cr_amplitude=1.0,\n",
    "    cr_duration=200,\n",
    "    cr_ramptime=30,\n",
    "    cr_phase=0.0,\n",
    "    cancel_amplitude=0.01,\n",
    "    cancel_phase=np.pi / 6,\n",
    "    echo=True,\n",
    "    pi_pulse=x180,\n",
    ")\n",
    "\n",
    "hadamard = qx.PulseArray([z180, y90])\n",
    "\n",
    "with qx.PulseSchedule() as cnot_inv:\n",
    "    cnot_inv.add(\"Q00\", hadamard)\n",
    "    cnot_inv.add(\"Q01\", hadamard)\n",
    "    cnot_inv.add(\"Q00-Q01\", z180)\n",
    "    cnot_inv.call(cnot)\n",
    "    cnot_inv.add(\"Q00-Q01\", z180)\n",
    "    cnot_inv.add(\"Q00\", hadamard)\n",
    "    cnot_inv.add(\"Q01\", hadamard)\n",
    "\n",
    "cnot_inv.plot()"
   ]
  },
  {
   "cell_type": "code",
   "execution_count": null,
   "metadata": {},
   "outputs": [],
   "source": [
    "# CNOT sequence with CPMG\n",
    "\n",
    "with qx.PulseSchedule() as cnot_dd:\n",
    "    cnot_dd.call(cnot_inv)\n",
    "    tau = (cnot.duration - 2 * x180.duration) // 4\n",
    "    cnot_dd.add(\"Q02\", qx.pulse.CPMG(tau=tau, pi=x180))\n",
    "\n",
    "cnot_dd.plot()"
   ]
  },
  {
   "cell_type": "code",
   "execution_count": null,
   "metadata": {},
   "outputs": [],
   "source": [
    "# Bell sequence\n",
    "\n",
    "with qx.PulseSchedule() as bell:\n",
    "    bell.add(\"Q00\", hadamard)\n",
    "    bell.call(cnot_dd)\n",
    "\n",
    "bell.plot(show_physical_pulse=False)"
   ]
  },
  {
   "cell_type": "code",
   "execution_count": null,
   "metadata": {},
   "outputs": [],
   "source": [
    "with qx.PulseSchedule() as echo:\n",
    "    echo.call(bell)\n",
    "    echo.call(bell.reversed())\n",
    "\n",
    "echo.plot(show_physical_pulse=False)\n",
    "\n",
    "echo.plot(show_physical_pulse=True)"
   ]
  }
 ],
 "metadata": {
  "kernelspec": {
   "display_name": ".venv",
   "language": "python",
   "name": "python3"
  },
  "language_info": {
   "codemirror_mode": {
    "name": "ipython",
    "version": 3
   },
   "file_extension": ".py",
   "mimetype": "text/x-python",
   "name": "python",
   "nbconvert_exporter": "python",
   "pygments_lexer": "ipython3",
   "version": "3.9.18"
  }
 },
 "nbformat": 4,
 "nbformat_minor": 2
}
