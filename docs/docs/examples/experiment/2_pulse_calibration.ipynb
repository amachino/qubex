{
 "cells": [
  {
   "cell_type": "code",
   "execution_count": null,
   "metadata": {},
   "outputs": [],
   "source": [
    "import numpy as np\n",
    "import qubex as qx\n",
    "\n",
    "ex = qx.Experiment(\n",
    "    chip_id=\"xxQ\",\n",
    "    muxes=[0],\n",
    ")"
   ]
  },
  {
   "cell_type": "code",
   "execution_count": null,
   "metadata": {},
   "outputs": [],
   "source": [
    "result = ex.check_waveform()"
   ]
  },
  {
   "cell_type": "code",
   "execution_count": null,
   "metadata": {},
   "outputs": [],
   "source": [
    "result = ex.obtain_rabi_params()"
   ]
  },
  {
   "cell_type": "code",
   "execution_count": null,
   "metadata": {},
   "outputs": [],
   "source": [
    "# Calibrate the default π/2 pulse\n",
    "result_hpi = ex.calibrate_hpi_pulse(\n",
    "    ex.qubit_labels,\n",
    "    n_rotations=1,\n",
    ")"
   ]
  },
  {
   "cell_type": "code",
   "execution_count": null,
   "metadata": {},
   "outputs": [],
   "source": [
    "# Update params\n",
    "ex.reload()\n",
    "ex.obtain_rabi_params()"
   ]
  },
  {
   "cell_type": "code",
   "execution_count": null,
   "metadata": {},
   "outputs": [],
   "source": [
    "# Calibrate the control frequency\n",
    "ex.calibrate_control_frequency(\n",
    "    ex.qubit_labels,\n",
    "    detuning_range=np.linspace(-0.01, 0.01, 21),\n",
    "    time_range=range(0, 101, 4),\n",
    ")"
   ]
  },
  {
   "cell_type": "code",
   "execution_count": null,
   "metadata": {},
   "outputs": [],
   "source": [
    "# Calibrate the readout frequency\n",
    "ex.calibrate_readout_frequency(\n",
    "    ex.qubit_labels,\n",
    "    detuning_range=np.linspace(-0.01, 0.01, 21),\n",
    "    time_range=range(0, 101, 4),\n",
    ")"
   ]
  },
  {
   "cell_type": "code",
   "execution_count": null,
   "metadata": {},
   "outputs": [],
   "source": [
    "# Update params\n",
    "ex.reload()\n",
    "ex.obtain_rabi_params()"
   ]
  },
  {
   "cell_type": "code",
   "execution_count": null,
   "metadata": {},
   "outputs": [],
   "source": [
    "# Calibrate the default π/2 pulse\n",
    "result_hpi = ex.calibrate_hpi_pulse(\n",
    "    ex.qubit_labels,\n",
    "    n_rotations=1,\n",
    ")"
   ]
  },
  {
   "cell_type": "code",
   "execution_count": null,
   "metadata": {},
   "outputs": [],
   "source": [
    "# Plot the calibrated pulse\n",
    "for qubit in ex.qubit_labels:\n",
    "    ex.hpi_pulse[qubit].plot()"
   ]
  },
  {
   "cell_type": "code",
   "execution_count": null,
   "metadata": {},
   "outputs": [],
   "source": [
    "# Check the calibrated π/2 pulses\n",
    "result_hpi = ex.repeat_sequence(\n",
    "    ex.hpi_pulse,\n",
    "    repetitions=20,\n",
    ")"
   ]
  },
  {
   "cell_type": "code",
   "execution_count": null,
   "metadata": {},
   "outputs": [],
   "source": [
    "# Save images if needed\n",
    "result_hpi.plot(normalize=True, images_dir=\"./images\")"
   ]
  },
  {
   "cell_type": "code",
   "execution_count": null,
   "metadata": {},
   "outputs": [],
   "source": [
    "# Calibrate the default π pulse\n",
    "result_pi = ex.calibrate_pi_pulse(\n",
    "    ex.qubit_labels,\n",
    "    n_rotations=1,\n",
    ")"
   ]
  },
  {
   "cell_type": "code",
   "execution_count": null,
   "metadata": {},
   "outputs": [],
   "source": [
    "# Check the calibrated π pulses\n",
    "result_pi = ex.repeat_sequence(\n",
    "    ex.pi_pulse,\n",
    "    repetitions=20,\n",
    ")"
   ]
  },
  {
   "cell_type": "code",
   "execution_count": null,
   "metadata": {},
   "outputs": [],
   "source": [
    "# Save the calibrated parameters\n",
    "ex.calib_note.save()"
   ]
  }
 ],
 "metadata": {
  "kernelspec": {
   "display_name": ".venv",
   "language": "python",
   "name": "python3"
  },
  "language_info": {
   "codemirror_mode": {
    "name": "ipython",
    "version": 3
   },
   "file_extension": ".py",
   "mimetype": "text/x-python",
   "name": "python",
   "nbconvert_exporter": "python",
   "pygments_lexer": "ipython3",
   "version": "3.9.18"
  }
 },
 "nbformat": 4,
 "nbformat_minor": 2
}
