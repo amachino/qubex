{
 "cells": [
  {
   "cell_type": "code",
   "execution_count": null,
   "metadata": {},
   "outputs": [],
   "source": [
    "import numpy as np\n",
    "import qubex as qx\n",
    "\n",
    "ex = qx.Experiment(\n",
    "    chip_id=\"xxQ\",\n",
    "    muxes=[0],\n",
    ")"
   ]
  },
  {
   "cell_type": "code",
   "execution_count": null,
   "metadata": {},
   "outputs": [],
   "source": [
    "result = ex.check_waveform()"
   ]
  },
  {
   "cell_type": "code",
   "execution_count": null,
   "metadata": {},
   "outputs": [],
   "source": [
    "result_rabi = ex.obtain_rabi_params()\n",
    "result_hpi = ex.calibrate_hpi_pulse()\n",
    "ex.calib_note.save()"
   ]
  },
  {
   "cell_type": "code",
   "execution_count": null,
   "metadata": {},
   "outputs": [],
   "source": [
    "result = ex.measure_state_distribution(\n",
    "    ex.qubit_labels,\n",
    "    n_states=2,\n",
    ")"
   ]
  },
  {
   "cell_type": "code",
   "execution_count": null,
   "metadata": {},
   "outputs": [],
   "source": [
    "result = ex.build_classifier(\n",
    "    ex.qubit_labels,\n",
    "    n_states=2,\n",
    "    shots=10000,\n",
    ")"
   ]
  },
  {
   "cell_type": "code",
   "execution_count": null,
   "metadata": {},
   "outputs": [],
   "source": [
    "result_ef_rabi = ex.obtain_ef_rabi_params(\n",
    "    ex.qubit_labels,\n",
    "    time_range=np.arange(0, 201, 4),\n",
    "    shots=1024,\n",
    ")"
   ]
  },
  {
   "cell_type": "code",
   "execution_count": null,
   "metadata": {},
   "outputs": [],
   "source": [
    "result = ex.calibrate_ef_control_frequency(\n",
    "    ex.qubit_labels,\n",
    "    detuning_range=np.linspace(-0.02, 0.02, 41),\n",
    "    time_range=np.arange(0, 101, 4),\n",
    ")"
   ]
  },
  {
   "cell_type": "code",
   "execution_count": 7,
   "metadata": {},
   "outputs": [],
   "source": [
    "ex.reload()"
   ]
  },
  {
   "cell_type": "code",
   "execution_count": null,
   "metadata": {},
   "outputs": [],
   "source": [
    "result_ef_rabi = ex.obtain_ef_rabi_params(\n",
    "    ex.qubit_labels,\n",
    "    time_range=np.arange(0, 201, 4),\n",
    "    shots=1024,\n",
    ")"
   ]
  },
  {
   "cell_type": "code",
   "execution_count": null,
   "metadata": {},
   "outputs": [],
   "source": [
    "result_ef_hpi = ex.calibrate_ef_hpi_pulse(\n",
    "    ex.qubit_labels,\n",
    "    n_rotations=1,\n",
    ")"
   ]
  },
  {
   "cell_type": "code",
   "execution_count": null,
   "metadata": {},
   "outputs": [],
   "source": [
    "ex.calib_note.save()"
   ]
  },
  {
   "cell_type": "code",
   "execution_count": null,
   "metadata": {},
   "outputs": [],
   "source": [
    "ex.build_classifier(\n",
    "    ex.qubit_labels,\n",
    "    n_states=3,\n",
    "    shots=1000,\n",
    ")"
   ]
  }
 ],
 "metadata": {
  "kernelspec": {
   "display_name": ".venv",
   "language": "python",
   "name": "python3"
  },
  "language_info": {
   "codemirror_mode": {
    "name": "ipython",
    "version": 3
   },
   "file_extension": ".py",
   "mimetype": "text/x-python",
   "name": "python",
   "nbconvert_exporter": "python",
   "pygments_lexer": "ipython3",
   "version": "3.9.18"
  }
 },
 "nbformat": 4,
 "nbformat_minor": 2
}
