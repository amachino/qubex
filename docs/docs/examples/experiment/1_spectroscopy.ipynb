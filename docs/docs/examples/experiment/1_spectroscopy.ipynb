{
 "cells": [
  {
   "cell_type": "code",
   "execution_count": null,
   "metadata": {},
   "outputs": [],
   "source": [
    "import numpy as np\n",
    "import qubex as qx\n",
    "\n",
    "ex = qx.Experiment(\n",
    "    chip_id=\"xxQ\",\n",
    "    muxes=[0],\n",
    ")"
   ]
  },
  {
   "cell_type": "code",
   "execution_count": null,
   "metadata": {},
   "outputs": [],
   "source": [
    "# Configure the measurement devices if necessary\n",
    "# ex.configure()"
   ]
  },
  {
   "cell_type": "code",
   "execution_count": null,
   "metadata": {},
   "outputs": [],
   "source": [
    "# Check the readout waveform\n",
    "ex.check_waveform()"
   ]
  },
  {
   "cell_type": "code",
   "execution_count": null,
   "metadata": {},
   "outputs": [],
   "source": [
    "# Measure the readout SNR\n",
    "ex.measure_readout_snr()"
   ]
  },
  {
   "cell_type": "code",
   "execution_count": null,
   "metadata": {},
   "outputs": [],
   "source": [
    "# Sweep the readout amplitude to find the optimal readout power\n",
    "ex.sweep_readout_amplitude()"
   ]
  },
  {
   "cell_type": "code",
   "execution_count": null,
   "metadata": {},
   "outputs": [],
   "source": [
    "# Measure the phase shift caused by the transmission line\n",
    "phase_shift = ex.measure_phase_shift(\n",
    "    ex.qubit_labels[0],\n",
    "    frequency_range=np.arange(10.05, 10.1, 0.002),\n",
    ")"
   ]
  },
  {
   "cell_type": "code",
   "execution_count": null,
   "metadata": {},
   "outputs": [],
   "source": [
    "# Sweep the readout frequency to find resonator frequency\n",
    "result = ex.scan_resonator_frequencies(\n",
    "    ex.qubit_labels[0],\n",
    "    frequency_range=np.arange(9.75, 10.75, 0.002),\n",
    "    phase_shift=phase_shift,\n",
    "    save_image=True,\n",
    ")"
   ]
  },
  {
   "cell_type": "code",
   "execution_count": null,
   "metadata": {},
   "outputs": [],
   "source": [
    "# Sweep the readout frequency and power\n",
    "result = ex.resonator_spectroscopy(\n",
    "    ex.qubit_labels[0],\n",
    "    frequency_range=np.arange(9.75, 10.75, 0.002),\n",
    "    power_range=np.arange(-60, 5, 5),\n",
    "    phase_shift=phase_shift,\n",
    ")"
   ]
  },
  {
   "cell_type": "code",
   "execution_count": null,
   "metadata": {},
   "outputs": [],
   "source": [
    "resonator_frequencies = {\n",
    "    ex.qubit_labels[0]: 10.2,\n",
    "    ex.qubit_labels[1]: 10.4,\n",
    "    ex.qubit_labels[2]: 10.3,\n",
    "    ex.qubit_labels[3]: 10.1,\n",
    "}\n",
    "\n",
    "# Measure the reflection coefficient and fit\n",
    "for label, freq in resonator_frequencies.items():\n",
    "    ex.measure_reflection_coefficient(\n",
    "        label,\n",
    "        frequency_range=np.arange(freq - 0.02, freq + 0.02, 0.002),\n",
    "        phase_shift=phase_shift,\n",
    "    )"
   ]
  },
  {
   "cell_type": "code",
   "execution_count": null,
   "metadata": {},
   "outputs": [],
   "source": [
    "# Sweep the control frequency to find qubit frequency\n",
    "result = ex.scan_qubit_frequencies(\n",
    "    ex.qubit_labels[0],\n",
    "    frequency_range=np.arange(6.5, 9.5, 0.002),\n",
    "    control_amplitude=0.1,\n",
    "    readout_amplitude=0.01,\n",
    ")"
   ]
  },
  {
   "cell_type": "code",
   "execution_count": null,
   "metadata": {},
   "outputs": [],
   "source": [
    "# Sweep control frequency and power\n",
    "for qubit in ex.qubit_labels:\n",
    "    result = ex.qubit_spectroscopy(\n",
    "        qubit,\n",
    "        frequency_range=np.arange(6.5, 9.5, 0.002),\n",
    "        power_range=np.arange(-60, 5, 5),\n",
    "    )"
   ]
  },
  {
   "cell_type": "code",
   "execution_count": null,
   "metadata": {},
   "outputs": [],
   "source": [
    "qubit_frequencies = {\n",
    "    ex.qubit_labels[0]: 7.2,\n",
    "    ex.qubit_labels[1]: 8.2,\n",
    "    ex.qubit_labels[2]: 8.5,\n",
    "    ex.qubit_labels[3]: 7.5,\n",
    "}\n",
    "\n",
    "# Estimate the control amplitude\n",
    "for label, freq in qubit_frequencies.items():\n",
    "    ex.estimate_control_amplitude(\n",
    "        label,\n",
    "        frequency_range=np.linspace(freq - 0.1, freq + 0.1, 100),\n",
    "    )"
   ]
  },
  {
   "cell_type": "code",
   "execution_count": null,
   "metadata": {},
   "outputs": [],
   "source": [
    "# Measure the Rabi oscillation\n",
    "ex.obtain_rabi_params()"
   ]
  },
  {
   "cell_type": "code",
   "execution_count": null,
   "metadata": {},
   "outputs": [],
   "source": [
    "# Calculate the control amplitudes\n",
    "ex.calc_control_amplitudes()"
   ]
  },
  {
   "cell_type": "code",
   "execution_count": null,
   "metadata": {},
   "outputs": [],
   "source": [
    "# Reload the configuration files\n",
    "ex.reload()"
   ]
  },
  {
   "cell_type": "code",
   "execution_count": null,
   "metadata": {},
   "outputs": [],
   "source": [
    "# Obtain the Chevron pattern\n",
    "ex.chevron_pattern(\n",
    "    ex.qubit_labels,\n",
    "    detuning_range=np.linspace(-0.05, 0.05, 51),\n",
    "    time_range=np.arange(0, 201, 4),\n",
    ")"
   ]
  }
 ],
 "metadata": {
  "kernelspec": {
   "display_name": ".venv",
   "language": "python",
   "name": "python3"
  },
  "language_info": {
   "codemirror_mode": {
    "name": "ipython",
    "version": 3
   },
   "file_extension": ".py",
   "mimetype": "text/x-python",
   "name": "python",
   "nbconvert_exporter": "python",
   "pygments_lexer": "ipython3",
   "version": "3.9.18"
  }
 },
 "nbformat": 4,
 "nbformat_minor": 2
}
