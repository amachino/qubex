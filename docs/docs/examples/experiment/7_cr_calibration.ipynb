{
 "cells": [
  {
   "cell_type": "code",
   "execution_count": null,
   "metadata": {},
   "outputs": [],
   "source": [
    "import numpy as np\n",
    "import qubex as qx\n",
    "\n",
    "ex = qx.Experiment(\n",
    "    chip_id=\"xxQ\",\n",
    "    qubits=[8, 10],\n",
    ")\n",
    "\n",
    "cr_control = \"Q08\"\n",
    "cr_target = \"Q10\"\n",
    "cr_label = f\"{cr_control}-{cr_target}\""
   ]
  },
  {
   "cell_type": "code",
   "execution_count": null,
   "metadata": {},
   "outputs": [],
   "source": [
    "result_rabi = ex.obtain_rabi_params()\n",
    "result_hpi = ex.calibrate_hpi_pulse()\n",
    "result_pi = ex.calibrate_pi_pulse()\n",
    "result_drag_hpi = ex.calibrate_drag_hpi_pulse()\n",
    "result_drag_pi = ex.calibrate_drag_pi_pulse()\n",
    "result_classifier = ex.build_classifier()"
   ]
  },
  {
   "cell_type": "code",
   "execution_count": null,
   "metadata": {},
   "outputs": [],
   "source": [
    "result_cr = ex.obtain_cr_params(cr_control, cr_target)"
   ]
  },
  {
   "cell_type": "code",
   "execution_count": null,
   "metadata": {},
   "outputs": [],
   "source": [
    "result_cr_calib = ex.calibrate_zx90(\n",
    "    control_qubit=cr_control,\n",
    "    target_qubit=cr_target,\n",
    ")"
   ]
  },
  {
   "cell_type": "code",
   "execution_count": null,
   "metadata": {},
   "outputs": [],
   "source": [
    "zx90 = ex.zx90(cr_control, cr_target)\n",
    "\n",
    "zx90.plot()"
   ]
  },
  {
   "cell_type": "code",
   "execution_count": null,
   "metadata": {},
   "outputs": [],
   "source": [
    "result = ex.repeat_sequence(zx90)"
   ]
  },
  {
   "cell_type": "code",
   "execution_count": null,
   "metadata": {},
   "outputs": [],
   "source": [
    "result = ex.pulse_tomography(zx90.repeated(4), initial_state={cr_control: \"0\"})"
   ]
  },
  {
   "cell_type": "code",
   "execution_count": null,
   "metadata": {},
   "outputs": [],
   "source": [
    "result = ex.pulse_tomography(zx90.repeated(4), initial_state={cr_control: \"1\"})"
   ]
  },
  {
   "cell_type": "code",
   "execution_count": null,
   "metadata": {},
   "outputs": [],
   "source": [
    "result_bell = ex.measure_bell_state(cr_control, cr_target)"
   ]
  },
  {
   "cell_type": "code",
   "execution_count": null,
   "metadata": {},
   "outputs": [],
   "source": [
    "result_irb = ex.interleaved_randomized_benchmarking(\n",
    "    target=cr_label,\n",
    "    interleaved_waveform=zx90,\n",
    "    interleaved_clifford=\"ZX90\",\n",
    "    n_cliffords_range=np.arange(0, 21, 2),\n",
    "    n_trials=30,\n",
    ")"
   ]
  },
  {
   "cell_type": "code",
   "execution_count": null,
   "metadata": {},
   "outputs": [],
   "source": [
    "ex.calib_note.save()"
   ]
  }
 ],
 "metadata": {
  "kernelspec": {
   "display_name": ".venv",
   "language": "python",
   "name": "python3"
  },
  "language_info": {
   "codemirror_mode": {
    "name": "ipython",
    "version": 3
   },
   "file_extension": ".py",
   "mimetype": "text/x-python",
   "name": "python",
   "nbconvert_exporter": "python",
   "pygments_lexer": "ipython3",
   "version": "3.9.18"
  }
 },
 "nbformat": 4,
 "nbformat_minor": 2
}
