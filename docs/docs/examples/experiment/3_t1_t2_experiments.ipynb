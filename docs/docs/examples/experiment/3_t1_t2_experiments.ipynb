{
 "cells": [
  {
   "cell_type": "code",
   "execution_count": null,
   "metadata": {},
   "outputs": [],
   "source": [
    "import numpy as np\n",
    "import qubex as qx\n",
    "\n",
    "ex = qx.Experiment(\n",
    "    chip_id=\"xxQ\",\n",
    "    qubits=[8, 10],\n",
    ")"
   ]
  },
  {
   "cell_type": "code",
   "execution_count": null,
   "metadata": {},
   "outputs": [],
   "source": [
    "result = ex.check_waveform()"
   ]
  },
  {
   "cell_type": "code",
   "execution_count": null,
   "metadata": {},
   "outputs": [],
   "source": [
    "result_rabi = ex.obtain_rabi_params()\n",
    "result_hpi = ex.calibrate_hpi_pulse()\n",
    "ex.calib_note.save()"
   ]
  },
  {
   "cell_type": "code",
   "execution_count": null,
   "metadata": {},
   "outputs": [],
   "source": [
    "# Conduct a T1 experiment\n",
    "result_t1 = ex.t1_experiment(\n",
    "    ex.qubit_labels,\n",
    "    time_range=np.logspace(\n",
    "        np.log10(100),\n",
    "        np.log10(100 * 1000),\n",
    "        51,\n",
    "    ),\n",
    "    save_image=True,\n",
    ")"
   ]
  },
  {
   "cell_type": "code",
   "execution_count": null,
   "metadata": {},
   "outputs": [],
   "source": [
    "# Conduct a T2 (echo) experiment\n",
    "result_t2 = ex.t2_experiment(\n",
    "    ex.qubit_labels,\n",
    "    time_range=np.logspace(\n",
    "        np.log10(300),\n",
    "        np.log10(100 * 1000),\n",
    "        51,\n",
    "    ),\n",
    "    save_image=True,\n",
    ")"
   ]
  },
  {
   "cell_type": "code",
   "execution_count": null,
   "metadata": {},
   "outputs": [],
   "source": [
    "# Conduct a Ramsey experiment with spectator |0>\n",
    "result_ramsey_0 = ex.ramsey_experiment(\n",
    "    ex.qubit_labels,\n",
    "    time_range=np.arange(0, 10_001, 100),\n",
    "    detuning=0.001,\n",
    "    spectator_state=\"0\",\n",
    ")"
   ]
  },
  {
   "cell_type": "code",
   "execution_count": null,
   "metadata": {},
   "outputs": [],
   "source": [
    "# Conduct a Ramsey experiment with spectator |1>\n",
    "result_ramsey_1 = ex.ramsey_experiment(\n",
    "    ex.qubit_labels,\n",
    "    time_range=np.arange(0, 10_001, 100),\n",
    "    detuning=0.001,\n",
    "    spectator_state=\"1\",\n",
    ")"
   ]
  },
  {
   "cell_type": "code",
   "execution_count": null,
   "metadata": {},
   "outputs": [],
   "source": [
    "# Obtain the effective control frequency as (f_0 + f_1) / 2\n",
    "ex.obtain_effective_control_frequency(\n",
    "    ex.qubit_labels,\n",
    "    time_range=np.arange(0, 10_001, 100),\n",
    "    detuning=0.001,\n",
    ")"
   ]
  },
  {
   "cell_type": "code",
   "execution_count": null,
   "metadata": {},
   "outputs": [],
   "source": [
    "# Obtain coupling strength g for each qubit-spectator pair\n",
    "for qubit in ex.qubit_labels:\n",
    "    for spectator in ex.get_spectators(qubit):\n",
    "        if spectator.label in ex.qubit_labels:\n",
    "            ex.obtain_coupling_strength(qubit, spectator.label)"
   ]
  }
 ],
 "metadata": {
  "kernelspec": {
   "display_name": ".venv",
   "language": "python",
   "name": "python3"
  },
  "language_info": {
   "codemirror_mode": {
    "name": "ipython",
    "version": 3
   },
   "file_extension": ".py",
   "mimetype": "text/x-python",
   "name": "python",
   "nbconvert_exporter": "python",
   "pygments_lexer": "ipython3",
   "version": "3.9.18"
  }
 },
 "nbformat": 4,
 "nbformat_minor": 2
}
