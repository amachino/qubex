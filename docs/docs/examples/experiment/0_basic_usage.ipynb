{
 "cells": [
  {
   "cell_type": "code",
   "execution_count": null,
   "metadata": {},
   "outputs": [],
   "source": [
    "# Install qubex library if not installed\n",
    "# !pip install \"qubex[backend] @ git+https://github.com/amachino/qubex.git\""
   ]
  },
  {
   "cell_type": "code",
   "execution_count": null,
   "metadata": {},
   "outputs": [],
   "source": [
    "import numpy as np\n",
    "import qubex as qx\n",
    "\n",
    "ex = qx.Experiment(\n",
    "    chip_id=\"xxQ\",\n",
    "    muxes=[2],\n",
    "    qubits=[0, 1, 2],\n",
    "    exclude_qubits=[11],\n",
    "    config_dir=\"/home/shared/config\",\n",
    "    # params_dir=\"/my/own/params\",\n",
    ")"
   ]
  },
  {
   "cell_type": "code",
   "execution_count": null,
   "metadata": {},
   "outputs": [],
   "source": [
    "# Configure the measurement devices if necessary\n",
    "# ex.configure()"
   ]
  },
  {
   "cell_type": "code",
   "execution_count": null,
   "metadata": {},
   "outputs": [],
   "source": [
    "# Print the chip information\n",
    "ex.tool.print_chip_info(\"chip_summary\")"
   ]
  },
  {
   "cell_type": "code",
   "execution_count": null,
   "metadata": {},
   "outputs": [],
   "source": [
    "# Print the wiring information\n",
    "ex.tool.print_wiring_info(ex.qubits)"
   ]
  },
  {
   "cell_type": "code",
   "execution_count": null,
   "metadata": {},
   "outputs": [],
   "source": [
    "# Print the target frequencies\n",
    "ex.tool.print_target_frequencies(ex.qubits)"
   ]
  },
  {
   "cell_type": "code",
   "execution_count": null,
   "metadata": {},
   "outputs": [],
   "source": [
    "# Get the dictionary of the qubits\n",
    "ex.qubits"
   ]
  },
  {
   "cell_type": "code",
   "execution_count": null,
   "metadata": {},
   "outputs": [],
   "source": [
    "# Get the dictionary of the resonators\n",
    "ex.resonators"
   ]
  },
  {
   "cell_type": "code",
   "execution_count": null,
   "metadata": {},
   "outputs": [],
   "source": [
    "# Get the dictionary of the available targets\n",
    "ex.available_targets"
   ]
  },
  {
   "cell_type": "code",
   "execution_count": null,
   "metadata": {},
   "outputs": [],
   "source": [
    "# Check the readout noise\n",
    "result = ex.check_noise()"
   ]
  },
  {
   "cell_type": "code",
   "execution_count": null,
   "metadata": {},
   "outputs": [],
   "source": [
    "# Check the readout waveform\n",
    "result = ex.check_waveform()"
   ]
  },
  {
   "cell_type": "code",
   "execution_count": null,
   "metadata": {},
   "outputs": [],
   "source": [
    "# Measure the qubits with average mode\n",
    "waveform = [0.01 + 0.01j, 0.01 + 0.01j, 0.01 + 0.01j, 0.01 + 0.01j, 0.01 + 0.01j]\n",
    "\n",
    "# Execute the average measurement\n",
    "result = ex.measure(\n",
    "    sequence={\n",
    "        ex.qubit_labels[0]: waveform,\n",
    "        ex.qubit_labels[1]: waveform,\n",
    "        ex.qubit_labels[2]: waveform,\n",
    "        ex.qubit_labels[3]: waveform,\n",
    "    },\n",
    "    mode=\"avg\",\n",
    ")\n",
    "\n",
    "# Plot the averaged result\n",
    "result.plot()\n",
    "\n",
    "# Measurement data\n",
    "result.data"
   ]
  },
  {
   "cell_type": "code",
   "execution_count": null,
   "metadata": {},
   "outputs": [],
   "source": [
    "# Measure the qubits with singleshot mode\n",
    "waveform = []\n",
    "\n",
    "# Execute the singleshot measurement\n",
    "result = ex.measure(\n",
    "    sequence={\n",
    "        ex.qubit_labels[0]: waveform,\n",
    "        ex.qubit_labels[1]: waveform,\n",
    "        ex.qubit_labels[2]: waveform,\n",
    "        ex.qubit_labels[3]: waveform,\n",
    "    },\n",
    "    mode=\"single\",\n",
    ")\n",
    "\n",
    "# Plot the singleshot result\n",
    "result.plot()\n",
    "\n",
    "# Measurement data\n",
    "result.data"
   ]
  },
  {
   "cell_type": "code",
   "execution_count": null,
   "metadata": {},
   "outputs": [],
   "source": [
    "# Check the Rabi oscillation\n",
    "result = ex.check_rabi()"
   ]
  },
  {
   "cell_type": "code",
   "execution_count": null,
   "metadata": {},
   "outputs": [],
   "source": [
    "# Plot the result of the Rabi oscillation\n",
    "result.plot()"
   ]
  },
  {
   "cell_type": "code",
   "execution_count": null,
   "metadata": {},
   "outputs": [],
   "source": [
    "# Plot the result of the Rabi oscillation with normalization\n",
    "result.plot(normalize=True)"
   ]
  },
  {
   "cell_type": "code",
   "execution_count": null,
   "metadata": {},
   "outputs": [],
   "source": [
    "# Conduct the Rabi experiment with the specified parameters\n",
    "result = ex.rabi_experiment(\n",
    "    amplitudes={\n",
    "        ex.qubit_labels[0]: 0.01,\n",
    "    },\n",
    "    time_range=range(0, 201, 4),\n",
    "    detuning=0.001,\n",
    "    shots=300,\n",
    "    interval=50_000,\n",
    ")"
   ]
  },
  {
   "cell_type": "code",
   "execution_count": null,
   "metadata": {},
   "outputs": [],
   "source": [
    "# Modify the target frequencies temporarily\n",
    "qubit = ex.qubit_labels[0]\n",
    "frequency = ex.targets[qubit].frequency\n",
    "\n",
    "with ex.modified_frequencies({qubit: frequency + 0.1}):\n",
    "    # the frequencies are temporarily modified within the context\n",
    "    print(ex.targets[qubit])\n",
    "\n",
    "# when the context is exited, the frequencies are restored\n",
    "print(ex.targets[qubit])"
   ]
  },
  {
   "cell_type": "code",
   "execution_count": null,
   "metadata": {},
   "outputs": [],
   "source": [
    "# Obtain the Rabi parameters by fitting the Rabi oscillation\n",
    "result = ex.obtain_rabi_params()"
   ]
  },
  {
   "cell_type": "code",
   "execution_count": null,
   "metadata": {},
   "outputs": [],
   "source": [
    "# Create a pulse using qubex.pulse module\n",
    "pulse = qx.pulse.FlatTop(\n",
    "    duration=30,\n",
    "    amplitude=0.02,\n",
    "    tau=10,\n",
    ")\n",
    "\n",
    "# Plot the pulse\n",
    "pulse.plot()\n",
    "\n",
    "# Print the pulse values\n",
    "pulse.values"
   ]
  },
  {
   "cell_type": "code",
   "execution_count": null,
   "metadata": {},
   "outputs": [],
   "source": [
    "# Repeat the pulse\n",
    "result = ex.repeat_sequence(\n",
    "    sequence={\n",
    "        ex.qubit_labels[0]: pulse,\n",
    "    },\n",
    "    repetitions=10,\n",
    ")"
   ]
  },
  {
   "cell_type": "code",
   "execution_count": null,
   "metadata": {},
   "outputs": [],
   "source": [
    "# Sweep the amplitude of the pulse\n",
    "result = ex.sweep_parameter(\n",
    "    sequence=lambda x: {\n",
    "        ex.qubit_labels[0]: pulse.scaled(x),\n",
    "    },\n",
    "    sweep_range=np.linspace(0.0, 2.0, 30),\n",
    "    repetitions=4,\n",
    ")\n",
    "\n",
    "# Plot the sweep result\n",
    "result.plot(normalize=True)"
   ]
  },
  {
   "cell_type": "code",
   "execution_count": null,
   "metadata": {},
   "outputs": [],
   "source": [
    "# Save the result\n",
    "saved_record = result.save(\"some_data\", \"description for the data\")\n",
    "\n",
    "saved_record.file_name"
   ]
  },
  {
   "cell_type": "code",
   "execution_count": null,
   "metadata": {},
   "outputs": [],
   "source": [
    "# Load the result\n",
    "loaded_record = ex.load_record(saved_record.file_name)\n",
    "\n",
    "loaded_record.data"
   ]
  },
  {
   "cell_type": "code",
   "execution_count": null,
   "metadata": {},
   "outputs": [],
   "source": [
    "# Store custom parameters\n",
    "ex.note.put(\"my_params\", {\n",
    "    \"key1\": \"value1\",\n",
    "    \"key2\": \"value2\",\n",
    "})"
   ]
  },
  {
   "cell_type": "code",
   "execution_count": null,
   "metadata": {},
   "outputs": [],
   "source": [
    "# Get custom parameters\n",
    "ex.note.get(\"my_params\")"
   ]
  },
  {
   "cell_type": "code",
   "execution_count": null,
   "metadata": {},
   "outputs": [],
   "source": [
    "# Save the custom parameters\n",
    "ex.note.save()"
   ]
  },
  {
   "cell_type": "code",
   "execution_count": null,
   "metadata": {},
   "outputs": [],
   "source": []
  },
  {
   "cell_type": "code",
   "execution_count": null,
   "metadata": {},
   "outputs": [],
   "source": []
  },
  {
   "cell_type": "code",
   "execution_count": null,
   "metadata": {},
   "outputs": [],
   "source": []
  }
 ],
 "metadata": {
  "kernelspec": {
   "display_name": ".venv",
   "language": "python",
   "name": "python3"
  },
  "language_info": {
   "codemirror_mode": {
    "name": "ipython",
    "version": 3
   },
   "file_extension": ".py",
   "mimetype": "text/x-python",
   "name": "python",
   "nbconvert_exporter": "python",
   "pygments_lexer": "ipython3",
   "version": "3.9.18"
  }
 },
 "nbformat": 4,
 "nbformat_minor": 2
}
