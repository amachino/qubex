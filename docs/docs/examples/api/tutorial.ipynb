{
 "cells": [
  {
   "cell_type": "markdown",
   "metadata": {},
   "source": [
    "Set your Pulse API key as an environment variable:\n",
    "\n",
    "```bash\n",
    "export PULSE_API_KEY=\"YOUR_API_KEY\"\n",
    "```"
   ]
  },
  {
   "cell_type": "code",
   "execution_count": null,
   "metadata": {},
   "outputs": [],
   "source": [
    "# Install qubex library if not installed\n",
    "# !pip install git+https://github.com/amachino/qubex.git"
   ]
  },
  {
   "cell_type": "code",
   "execution_count": null,
   "metadata": {},
   "outputs": [],
   "source": [
    "import numpy as np\n",
    "import qubex as qx\n",
    "\n",
    "# Import the PulseAPI class from the qubex library\n",
    "from qubex.api import PulseAPI"
   ]
  },
  {
   "cell_type": "code",
   "execution_count": null,
   "metadata": {},
   "outputs": [],
   "source": [
    "# Create an instance of the PulseAPI class\n",
    "api = PulseAPI(\n",
    "    chip_id=\"64Q\",\n",
    "    qubits=[\n",
    "        \"Q60\",\n",
    "        \"Q61\",\n",
    "        \"Q62\",\n",
    "        \"Q63\",\n",
    "    ],\n",
    "    # api_key=\"YOUR_API_KEY\",  # Set if you can't use an environment variable\n",
    ")"
   ]
  },
  {
   "cell_type": "code",
   "execution_count": null,
   "metadata": {},
   "outputs": [],
   "source": [
    "# Print the parameters of the control device\n",
    "api.params"
   ]
  },
  {
   "cell_type": "code",
   "execution_count": null,
   "metadata": {},
   "outputs": [],
   "source": [
    "# Print the available targets\n",
    "api.targets"
   ]
  },
  {
   "cell_type": "code",
   "execution_count": null,
   "metadata": {},
   "outputs": [],
   "source": [
    "waveform = [0.01 + 0.01j] * 5\n",
    "\n",
    "# Measure the qubits with average mode\n",
    "result = api.measure(\n",
    "    {\n",
    "        \"Q60\": waveform,\n",
    "        \"Q61\": waveform,\n",
    "        \"Q62\": waveform,\n",
    "        \"Q63\": waveform,\n",
    "    },\n",
    "    mode=\"avg\",\n",
    "    shots=1024,\n",
    "    interval=150 * 1024,\n",
    ")"
   ]
  },
  {
   "cell_type": "code",
   "execution_count": null,
   "metadata": {},
   "outputs": [],
   "source": [
    "# Plot the averaged result\n",
    "result.plot()\n",
    "\n",
    "# Print the averaged data\n",
    "result.data"
   ]
  },
  {
   "cell_type": "code",
   "execution_count": null,
   "metadata": {},
   "outputs": [],
   "source": [
    "# Measure the qubits with singleshot mode\n",
    "result = api.measure(\n",
    "    {\n",
    "        \"Q60\": waveform,\n",
    "        \"Q61\": waveform,\n",
    "        \"Q62\": waveform,\n",
    "        \"Q63\": waveform,\n",
    "    },\n",
    "    mode=\"single\",\n",
    "    shots=1024,\n",
    "    interval=150 * 1024,\n",
    ")"
   ]
  },
  {
   "cell_type": "code",
   "execution_count": null,
   "metadata": {},
   "outputs": [],
   "source": [
    "# Plot the singleshot result\n",
    "result.plot()\n",
    "\n",
    "# Print the singleshot data\n",
    "result.data"
   ]
  },
  {
   "cell_type": "code",
   "execution_count": null,
   "metadata": {},
   "outputs": [],
   "source": [
    "# Waveform as a list of complex numbers\n",
    "iq_list = [0.01 + 0.01j] * 5\n",
    "\n",
    "# Pulse object from qubex.pulse\n",
    "pulse = qx.pulse.Gaussian(\n",
    "    duration=60,\n",
    "    amplitude=0.1,\n",
    "    sigma=10,\n",
    ")\n",
    "\n",
    "# Plot the pulse\n",
    "pulse.plot()\n",
    "\n",
    "# You can pass the waveform as a list, numpy array or Pulse object of qubex.pulse\n",
    "result = api.measure(\n",
    "    {\n",
    "        \"Q60\": iq_list,  # list[complex]\n",
    "        \"Q61\": np.array(iq_list),  # np.ndarray\n",
    "        \"Q62\": qx.Pulse(iq_list),  # qubex.pulse.Pulse\n",
    "        \"Q63\": pulse,  # qubex.pulse.Gaussian\n",
    "    },\n",
    ")"
   ]
  },
  {
   "cell_type": "code",
   "execution_count": null,
   "metadata": {},
   "outputs": [],
   "source": [
    "# Use PulseSchedule to compose a complex pulse schedule\n",
    "with qx.PulseSchedule() as ps:\n",
    "    ps.add(\"Q60\", pulse)\n",
    "    ps.barrier()\n",
    "    ps.add(\"Q61\", pulse)\n",
    "\n",
    "# Plot the pulse schedule\n",
    "ps.plot()\n",
    "\n",
    "# Measure the qubits with the pulse schedule\n",
    "result = api.measure(ps)\n",
    "\n",
    "# Plot the result\n",
    "result.plot()"
   ]
  },
  {
   "cell_type": "code",
   "execution_count": null,
   "metadata": {},
   "outputs": [],
   "source": [
    "from collections import defaultdict\n",
    "\n",
    "from qubex.analysis import IQPlotter\n",
    "\n",
    "plotter = IQPlotter()\n",
    "results = defaultdict(list)\n",
    "\n",
    "# Rabi experiment\n",
    "for T in np.arange(0, 200, 20):\n",
    "    result = api.measure(\n",
    "        {qubit: qx.pulse.Rect(duration=T, amplitude=0.03) for qubit in api.qubits}\n",
    "    )\n",
    "    for qubit in api.qubits:\n",
    "        results[qubit].append(result.data[qubit].kerneled)\n",
    "    plotter.update(results)"
   ]
  }
 ],
 "metadata": {
  "kernelspec": {
   "display_name": ".venv",
   "language": "python",
   "name": "python3"
  },
  "language_info": {
   "codemirror_mode": {
    "name": "ipython",
    "version": 3
   },
   "file_extension": ".py",
   "mimetype": "text/x-python",
   "name": "python",
   "nbconvert_exporter": "python",
   "pygments_lexer": "ipython3",
   "version": "3.9.18"
  }
 },
 "nbformat": 4,
 "nbformat_minor": 2
}
