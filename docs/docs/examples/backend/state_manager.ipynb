{
 "cells": [
  {
   "cell_type": "code",
   "execution_count": null,
   "metadata": {},
   "outputs": [],
   "source": [
    "from qubex.experiment import Experiment"
   ]
  },
  {
   "cell_type": "code",
   "execution_count": null,
   "metadata": {},
   "outputs": [],
   "source": [
    "\"\"\"\n",
    "Class representing an experiment.\n",
    "\n",
    "Parameters\n",
    "----------\n",
    "chip_id : str\n",
    "    Identifier of the quantum chip.\n",
    "qubits : Sequence[str]\n",
    "    List of qubits to use in the experiment.\n",
    "config_dir : str, optional\n",
    "    Directory of the configuration files. Defaults to DEFAULT_CONFIG_DIR.\n",
    "fetch_device_state : bool, optional\n",
    "    Whether to fetch the device state. Defaults to True.\n",
    "\"\"\"\n",
    "\n",
    "ex1 = Experiment(\n",
    "    chip_id=\"64Q\",\n",
    "    qubits=[\"Q60\"],\n",
    "    config_dir=\"/home/shared/config\",\n",
    "    fetch_device_state=True,\n",
    ")\n",
    "# fetch_device_state=True\n",
    "# the qubex states will be synchronized with the current state of the device"
   ]
  },
  {
   "cell_type": "code",
   "execution_count": null,
   "metadata": {},
   "outputs": [],
   "source": [
    "ex1.linkup()"
   ]
  },
  {
   "cell_type": "code",
   "execution_count": null,
   "metadata": {},
   "outputs": [],
   "source": [
    "ex1.control_system.box_pool"
   ]
  },
  {
   "cell_type": "code",
   "execution_count": null,
   "metadata": {},
   "outputs": [],
   "source": [
    "ex1.control_system.box_pool.boxes"
   ]
  },
  {
   "cell_type": "code",
   "execution_count": null,
   "metadata": {},
   "outputs": [],
   "source": [
    "ex1.control_system.box_pool.boxes[0].ports"
   ]
  },
  {
   "cell_type": "code",
   "execution_count": null,
   "metadata": {},
   "outputs": [],
   "source": [
    "ex1.control_system.box_pool.boxes[0].ports[4].channels"
   ]
  },
  {
   "cell_type": "code",
   "execution_count": null,
   "metadata": {},
   "outputs": [],
   "source": [
    "ex1.tool.print_box_info(\"R28A\")"
   ]
  },
  {
   "cell_type": "code",
   "execution_count": null,
   "metadata": {},
   "outputs": [],
   "source": [
    "# this will update the device state according to the configuration files\n",
    "ex1.configure()"
   ]
  },
  {
   "cell_type": "code",
   "execution_count": null,
   "metadata": {},
   "outputs": [],
   "source": [
    "ex1.tool.print_box_info(\"R28A\")"
   ]
  },
  {
   "cell_type": "code",
   "execution_count": null,
   "metadata": {},
   "outputs": [],
   "source": [
    "ex2 = Experiment(\n",
    "    chip_id=\"64Q\",\n",
    "    qubits=[\"Q60\"],\n",
    "    config_dir=\"/home/shared/config\",\n",
    "    fetch_device_state=False,\n",
    ")\n",
    "# fetch_device_state=False\n",
    "# the qubex states will be set according to the configuration files\n",
    "# the states between the qubex and the device may be inconsistent"
   ]
  },
  {
   "cell_type": "code",
   "execution_count": null,
   "metadata": {},
   "outputs": [],
   "source": [
    "# print the box info in the qubex\n",
    "ex2.tool.print_box_info(\"R28A\", fetch=False)"
   ]
  },
  {
   "cell_type": "code",
   "execution_count": null,
   "metadata": {},
   "outputs": [],
   "source": [
    "# print the box info in the device\n",
    "ex2.tool.print_box_info(\"R28A\", fetch=True)"
   ]
  },
  {
   "cell_type": "code",
   "execution_count": null,
   "metadata": {},
   "outputs": [],
   "source": [
    "from qubex.backend import StateManager\n",
    "\n",
    "state_manager = StateManager.shared()"
   ]
  },
  {
   "cell_type": "code",
   "execution_count": null,
   "metadata": {},
   "outputs": [],
   "source": [
    "state_manager.is_synced()"
   ]
  },
  {
   "cell_type": "code",
   "execution_count": null,
   "metadata": {},
   "outputs": [],
   "source": [
    "# 1. push the current state of the qubex to the device\n",
    "# state_manager.push()\n",
    "\n",
    "# 2. pull the current state of the device to the qubex\n",
    "# state_manager.pull()"
   ]
  },
  {
   "cell_type": "code",
   "execution_count": null,
   "metadata": {},
   "outputs": [],
   "source": [
    "# check the state hash\n",
    "state_manager.state"
   ]
  },
  {
   "cell_type": "code",
   "execution_count": null,
   "metadata": {},
   "outputs": [],
   "source": [
    "# save the current state as the qubecalib json file\n",
    "state_manager.save_qubecalib_config()"
   ]
  }
 ],
 "metadata": {
  "kernelspec": {
   "display_name": ".venv",
   "language": "python",
   "name": "python3"
  },
  "language_info": {
   "codemirror_mode": {
    "name": "ipython",
    "version": 3
   },
   "file_extension": ".py",
   "mimetype": "text/x-python",
   "name": "python",
   "nbconvert_exporter": "python",
   "pygments_lexer": "ipython3",
   "version": "3.9.18"
  }
 },
 "nbformat": 4,
 "nbformat_minor": 2
}
