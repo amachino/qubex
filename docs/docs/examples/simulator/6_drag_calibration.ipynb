{
 "cells": [
  {
   "cell_type": "code",
   "execution_count": null,
   "metadata": {},
   "outputs": [],
   "source": [
    "import numpy as np\n",
    "import qubex as qx\n",
    "from qubex.simulator import Control, QuantumSimulator, QuantumSystem, Transmon"
   ]
  },
  {
   "cell_type": "code",
   "execution_count": null,
   "metadata": {},
   "outputs": [],
   "source": [
    "# units: GHz, ns\n",
    "\n",
    "qubit = Transmon(\n",
    "    label=\"Q01\",\n",
    "    dimension=3,\n",
    "    frequency=7.5,\n",
    "    anharmonicity=-7.5 / 19,\n",
    "    relaxation_rate=0.05e-3,\n",
    "    dephasing_rate=0.05e-3,\n",
    ")\n",
    "\n",
    "system = QuantumSystem(objects=[qubit])\n",
    "\n",
    "simulator = QuantumSimulator(system)"
   ]
  },
  {
   "cell_type": "code",
   "execution_count": null,
   "metadata": {},
   "outputs": [],
   "source": [
    "def drag_pulse(\n",
    "    duration: float,\n",
    "    amplitude: float,\n",
    "    beta: float,\n",
    "):\n",
    "    pulse = qx.pulse.Drag(\n",
    "        duration=duration,\n",
    "        amplitude=amplitude,\n",
    "        beta=beta\n",
    "    )\n",
    "    return pulse"
   ]
  },
  {
   "cell_type": "code",
   "execution_count": null,
   "metadata": {},
   "outputs": [],
   "source": [
    "duration = 24  # ns\n",
    "alpha = 2 * np.pi * qubit.anharmonicity\n",
    "beta = -0.5 / alpha\n",
    "\n",
    "pulse = drag_pulse(\n",
    "    duration=duration,\n",
    "    amplitude=1,\n",
    "    beta=beta,\n",
    ")\n",
    "norm_factor = np.pi / float(np.sum(np.abs(pulse.values) * pulse.SAMPLING_PERIOD))\n",
    "pulse = pulse.scaled(norm_factor)\n",
    "pulse.plot(divide_by_two_pi=True)\n",
    "\n",
    "amplitude = np.max(pulse.real).astype(float)\n",
    "amplitude, beta"
   ]
  },
  {
   "cell_type": "code",
   "execution_count": null,
   "metadata": {},
   "outputs": [],
   "source": [
    "result = simulator.mesolve(\n",
    "    controls=[\n",
    "        Control(\n",
    "            target=qubit.label,\n",
    "            frequency=qubit.frequency,\n",
    "            waveform=pulse,\n",
    "        )\n",
    "    ],\n",
    "    initial_state={\n",
    "        qubit.label: \"0\",\n",
    "    }\n",
    ")\n",
    "result.show_last_population(qubit.label)\n",
    "result.plot_population_dynamics(qubit.label)\n",
    "result.plot_bloch_vectors(qubit.label)\n",
    "result.display_bloch_sphere(qubit.label)"
   ]
  },
  {
   "cell_type": "code",
   "execution_count": null,
   "metadata": {},
   "outputs": [],
   "source": [
    "results = []\n",
    "beta_range = np.linspace(-1, 1, 51)\n",
    "for idx, beta in enumerate(beta_range):\n",
    "    pulse = drag_pulse(\n",
    "        duration=duration,\n",
    "        amplitude=amplitude,\n",
    "        beta=beta,\n",
    "    )\n",
    "    result = simulator.mesolve(\n",
    "        controls=[\n",
    "            Control(\n",
    "                target=qubit.label,\n",
    "                waveform=qx.PulseArray([\n",
    "                    pulse,\n",
    "                    pulse.scaled(-1),\n",
    "                ]),\n",
    "                frequency=qubit.frequency\n",
    "            )\n",
    "        ],\n",
    "        initial_state={\n",
    "            qubit.label: \"0\",\n",
    "        },\n",
    "    )\n",
    "    results.append(result)\n",
    "\n",
    "    if idx % 10 == 0:\n",
    "        print(f\"beta = {beta:.2f}\")\n",
    "        result.display_bloch_sphere(qubit.label)"
   ]
  },
  {
   "cell_type": "code",
   "execution_count": null,
   "metadata": {},
   "outputs": [],
   "source": [
    "e_x = np.array([result.get_bloch_vectors(qubit.label)[-1][0] for result in results])\n",
    "\n",
    "qx.viz.plot(\n",
    "    x=beta_range,\n",
    "    y=e_x,\n",
    "    title=\"Sweeping DRAG beta\",\n",
    "    xlabel=\"β\",\n",
    "    ylabel=\"〈X〉\",\n",
    ")"
   ]
  },
  {
   "cell_type": "code",
   "execution_count": null,
   "metadata": {},
   "outputs": [],
   "source": [
    "from scipy.optimize import root_scalar\n",
    "\n",
    "e_x_fine = lambda x: np.interp(x, beta_range, e_x)\n",
    "\n",
    "result = root_scalar(e_x_fine, bracket=[beta_range[0], beta_range[-1]])\n",
    "beta = result.root\n",
    "beta"
   ]
  },
  {
   "cell_type": "code",
   "execution_count": null,
   "metadata": {},
   "outputs": [],
   "source": [
    "pulse = drag_pulse(\n",
    "    duration=duration,\n",
    "    amplitude=amplitude,\n",
    "    beta=beta,\n",
    ")\n",
    "pulse.plot(divide_by_two_pi=True)\n",
    "\n",
    "result = simulator.mesolve(\n",
    "    controls=[\n",
    "        Control(\n",
    "            target=qubit.label,\n",
    "            frequency=qubit.frequency,\n",
    "            waveform=pulse,\n",
    "        )\n",
    "    ],\n",
    "    initial_state={\n",
    "        qubit.label: \"0\",\n",
    "    },\n",
    ")\n",
    "result.show_last_population(qubit.label)\n",
    "result.plot_population_dynamics(qubit.label)\n",
    "result.plot_bloch_vectors(qubit.label)\n",
    "result.display_bloch_sphere(qubit.label)"
   ]
  },
  {
   "cell_type": "code",
   "execution_count": null,
   "metadata": {},
   "outputs": [],
   "source": [
    "def drag_objective_func(x):\n",
    "    amplitude, beta = x\n",
    "    pulse = drag_pulse(\n",
    "        duration=duration,\n",
    "        amplitude=amplitude,\n",
    "        beta=beta,\n",
    "    )\n",
    "    result = simulator.mesolve(\n",
    "        controls=[\n",
    "            Control(\n",
    "                target=qubit.label,\n",
    "                waveform=pulse,\n",
    "                frequency=qubit.frequency\n",
    "            ),\n",
    "        ],\n",
    "        initial_state={\n",
    "            qubit.label: \"0\",\n",
    "        },\n",
    "    )\n",
    "    state = result.get_bloch_vectors(qubit.label)[-1]\n",
    "    target = np.array([0, 0, -1])\n",
    "    return np.linalg.norm(state - target)"
   ]
  },
  {
   "cell_type": "code",
   "execution_count": null,
   "metadata": {},
   "outputs": [],
   "source": [
    "drag_objective_func([amplitude, beta])"
   ]
  },
  {
   "cell_type": "code",
   "execution_count": null,
   "metadata": {},
   "outputs": [],
   "source": [
    "import cma\n",
    "\n",
    "initial_guess = [\n",
    "    amplitude,\n",
    "    beta,\n",
    "]\n",
    "\n",
    "es = cma.CMAEvolutionStrategy(\n",
    "    initial_guess,\n",
    "    0.01,\n",
    "    {\n",
    "        \"seed\": 42,\n",
    "        \"ftarget\": 1e-6,\n",
    "    },\n",
    ")\n",
    "\n",
    "es.optimize(drag_objective_func)\n",
    "\n",
    "es.result.xbest"
   ]
  },
  {
   "cell_type": "code",
   "execution_count": null,
   "metadata": {},
   "outputs": [],
   "source": [
    "drag_objective_func(es.result.xbest)"
   ]
  },
  {
   "cell_type": "code",
   "execution_count": null,
   "metadata": {},
   "outputs": [],
   "source": [
    "pulse = drag_pulse(\n",
    "    duration=duration,\n",
    "    amplitude=es.result.xbest[0],\n",
    "    beta=es.result.xbest[1],\n",
    ")\n",
    "pulse.plot(divide_by_two_pi=True)"
   ]
  },
  {
   "cell_type": "code",
   "execution_count": null,
   "metadata": {},
   "outputs": [],
   "source": [
    "result = simulator.mesolve(\n",
    "    controls=[\n",
    "        Control(\n",
    "            target=qubit.label,\n",
    "            frequency=qubit.frequency,\n",
    "            waveform=pulse,\n",
    "        )\n",
    "    ],\n",
    "    initial_state={\n",
    "        qubit.label: \"0\",\n",
    "    },\n",
    ")\n",
    "result.display_bloch_sphere(qubit.label)\n",
    "result.show_last_population(qubit.label)"
   ]
  },
  {
   "cell_type": "code",
   "execution_count": null,
   "metadata": {},
   "outputs": [],
   "source": [
    "result = simulator.mesolve(\n",
    "    controls=[\n",
    "        Control(\n",
    "            target=qubit.label,\n",
    "            frequency=qubit.frequency,\n",
    "            waveform=qx.PulseArray(\n",
    "                [pulse] * 2,\n",
    "            ),\n",
    "        )\n",
    "    ],\n",
    "\n",
    "    initial_state={\n",
    "        qubit.label: \"0\",\n",
    "    },\n",
    ")\n",
    "result.display_bloch_sphere(qubit.label)\n",
    "result.show_last_population(qubit.label)"
   ]
  },
  {
   "cell_type": "code",
   "execution_count": null,
   "metadata": {},
   "outputs": [],
   "source": [
    "result = simulator.mesolve(\n",
    "    controls=[\n",
    "        Control(\n",
    "            target=qubit.label,\n",
    "            frequency=qubit.frequency,\n",
    "            waveform=qx.PulseArray(\n",
    "                [pulse] * 10,\n",
    "            ),\n",
    "        )\n",
    "    ],\n",
    "\n",
    "    initial_state={\n",
    "        qubit.label: \"0\",\n",
    "    },\n",
    ")\n",
    "result.display_bloch_sphere(qubit.label)\n",
    "result.show_last_population(qubit.label)"
   ]
  }
 ],
 "metadata": {
  "kernelspec": {
   "display_name": ".venv",
   "language": "python",
   "name": "python3"
  },
  "language_info": {
   "codemirror_mode": {
    "name": "ipython",
    "version": 3
   },
   "file_extension": ".py",
   "mimetype": "text/x-python",
   "name": "python",
   "nbconvert_exporter": "python",
   "pygments_lexer": "ipython3",
   "version": "3.9.5"
  }
 },
 "nbformat": 4,
 "nbformat_minor": 2
}
