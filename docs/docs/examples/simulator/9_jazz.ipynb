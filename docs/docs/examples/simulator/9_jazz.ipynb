{
 "cells": [
  {
   "cell_type": "code",
   "execution_count": null,
   "metadata": {},
   "outputs": [],
   "source": [
    "import numpy as np\n",
    "import qubex as qx\n",
    "from qubex.simulator import Coupling, QuantumSimulator, QuantumSystem, Transmon"
   ]
  },
  {
   "cell_type": "code",
   "execution_count": null,
   "metadata": {},
   "outputs": [],
   "source": [
    "q1 = Transmon(\n",
    "    label=\"Q01\",\n",
    "    dimension=3,\n",
    "    frequency=7.648,\n",
    "    anharmonicity=-7.648 / 19,\n",
    "    relaxation_rate=0.0,\n",
    "    dephasing_rate=0.0,\n",
    ")\n",
    "\n",
    "q2 = Transmon(\n",
    "    label=\"Q02\",\n",
    "    dimension=3,\n",
    "    frequency=8.275,\n",
    "    anharmonicity=-8.275 / 19,\n",
    "    relaxation_rate=0.0,\n",
    "    dephasing_rate=0.0,\n",
    ")\n",
    "\n",
    "g12 = Coupling(\n",
    "    pair=(q1.label, q2.label),\n",
    "    strength=0.0123,\n",
    ")\n",
    "\n",
    "system = QuantumSystem(\n",
    "    objects=[q1, q2],\n",
    "    couplings=[g12],\n",
    ")\n",
    "\n",
    "simulator = QuantumSimulator(system)"
   ]
  },
  {
   "cell_type": "code",
   "execution_count": null,
   "metadata": {},
   "outputs": [],
   "source": [
    "g = 2 * np.pi * g12.strength\n",
    "Delta = 2 * np.pi * (q1.frequency - q2.frequency)\n",
    "alpha1 = 2 * np.pi * q1.anharmonicity\n",
    "alpha2 = 2 * np.pi * q2.anharmonicity\n",
    "\n",
    "xi = g**2 * (alpha1 + alpha2) / ((Delta + alpha1) * (Delta - alpha2))\n",
    "\n",
    "print(f\"ξ = {xi / (2 * np.pi) * 1e6:.2f} kHz\")"
   ]
  },
  {
   "cell_type": "code",
   "execution_count": null,
   "metadata": {},
   "outputs": [],
   "source": [
    "duration = 30  # ns\n",
    "ramptime = 10  # ns\n",
    "\n",
    "x90 = qx.pulse.FlatTop(\n",
    "    duration=duration,\n",
    "    amplitude=0.5 * np.pi / (duration - ramptime),\n",
    "    tau=ramptime,\n",
    ")\n",
    "x90.plot(divide_by_two_pi=True)\n",
    "\n",
    "x180 = qx.pulse.FlatTop(\n",
    "    duration=duration,\n",
    "    amplitude=np.pi / (duration - ramptime),\n",
    "    tau=ramptime,\n",
    ")\n",
    "x180.plot(divide_by_two_pi=True)"
   ]
  },
  {
   "cell_type": "code",
   "execution_count": null,
   "metadata": {},
   "outputs": [],
   "source": [
    "def jazz_sequence(T: float) -> qx.PulseSchedule:\n",
    "    with qx.PulseSchedule(\n",
    "        [\n",
    "            qx.PulseChannel(\n",
    "                label=q1.label,\n",
    "                frequency=q1.frequency,\n",
    "                target=q1.label,\n",
    "            ),\n",
    "            qx.PulseChannel(\n",
    "                label=q2.label,\n",
    "                frequency=q2.frequency,\n",
    "                target=q2.label,\n",
    "            ),\n",
    "        ]\n",
    "    ) as ps:\n",
    "        ps.add(q1.label, x90)\n",
    "        ps.add(q1.label, qx.Blank(T // 2))\n",
    "        ps.barrier()\n",
    "        ps.add(q1.label, x180)\n",
    "        ps.add(q2.label, x180)\n",
    "        ps.add(q1.label, qx.Blank(T // 2))\n",
    "        ps.add(q1.label, x90.scaled(-1))\n",
    "    \n",
    "    return ps"
   ]
  },
  {
   "cell_type": "code",
   "execution_count": null,
   "metadata": {},
   "outputs": [],
   "source": [
    "jazz_t100 = jazz_sequence(100)\n",
    "\n",
    "jazz_t100.plot(\n",
    "    title=\"JAZZ Sequence : T = 100 ns\",\n",
    ")\n",
    "\n",
    "jazz_t200 = jazz_sequence(200)\n",
    "\n",
    "jazz_t200.plot(\n",
    "    title=\"JAZZ Sequence : T = 200 ns\",\n",
    ")"
   ]
  },
  {
   "cell_type": "code",
   "execution_count": null,
   "metadata": {},
   "outputs": [],
   "source": [
    "result = simulator.mesolve(\n",
    "    controls=jazz_t100,\n",
    "    initial_state={\n",
    "        q1.label: \"0\",\n",
    "        q2.label: \"0\",\n",
    "    },\n",
    "    n_samples=1001,\n",
    ")\n",
    "\n",
    "result.plot_population_dynamics(q1.label)\n",
    "result.plot_population_dynamics(q2.label)\n",
    "result.plot_bloch_vectors(q1.label)\n",
    "result.plot_bloch_vectors(q2.label)\n",
    "result.display_bloch_sphere(q1.label)\n",
    "result.display_bloch_sphere(q2.label)"
   ]
  },
  {
   "cell_type": "code",
   "execution_count": null,
   "metadata": {},
   "outputs": [],
   "source": [
    "time_range = np.arange(0, 3001, 200)\n",
    "results = []\n",
    "for T in time_range:\n",
    "    res = simulator.mesolve(\n",
    "        controls=jazz_sequence(T),\n",
    "        initial_state={\n",
    "            q1.label: \"0\",\n",
    "            q2.label: \"0\",\n",
    "        },\n",
    "        n_samples=2,\n",
    "    )\n",
    "    p_1 = res.get_substates(q1.label)[-1].diag()[1]\n",
    "    results.append(p_1)"
   ]
  },
  {
   "cell_type": "code",
   "execution_count": null,
   "metadata": {},
   "outputs": [],
   "source": [
    "from qubex.analysis.fitting import fit_cosine\n",
    "\n",
    "fit_result = fit_cosine(\n",
    "    time_range,\n",
    "    results,\n",
    "    xlabel=\"Time (ns)\",\n",
    "    ylabel=\"P(1)\",\n",
    ")"
   ]
  },
  {
   "cell_type": "code",
   "execution_count": null,
   "metadata": {},
   "outputs": [],
   "source": [
    "xi_fit = fit_result[\"f\"]\n",
    "\n",
    "print(f\"ξ (actual) : {xi / (2 * np.pi) * 1e6:.2f} kHz\")\n",
    "print(f\"ξ (fit)    : {xi_fit * 1e6:.2f} kHz\")"
   ]
  }
 ],
 "metadata": {
  "kernelspec": {
   "display_name": ".venv",
   "language": "python",
   "name": "python3"
  },
  "language_info": {
   "codemirror_mode": {
    "name": "ipython",
    "version": 3
   },
   "file_extension": ".py",
   "mimetype": "text/x-python",
   "name": "python",
   "nbconvert_exporter": "python",
   "pygments_lexer": "ipython3",
   "version": "3.9.5"
  }
 },
 "nbformat": 4,
 "nbformat_minor": 2
}
