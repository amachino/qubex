{
 "cells": [
  {
   "cell_type": "code",
   "execution_count": null,
   "metadata": {},
   "outputs": [],
   "source": [
    "import numpy as np\n",
    "import qubex as qx\n",
    "from qubex.simulator import Control, QuantumSimulator, QuantumSystem, Transmon"
   ]
  },
  {
   "cell_type": "code",
   "execution_count": null,
   "metadata": {},
   "outputs": [],
   "source": [
    "# units: GHz, ns\n",
    "\n",
    "qubit = Transmon(\n",
    "    label=\"Q01\",\n",
    "    dimension=3,\n",
    "    frequency=8.275,\n",
    "    anharmonicity=-0.333,\n",
    "    relaxation_rate=0.05e-3,\n",
    "    dephasing_rate=0.05e-3,\n",
    ")\n",
    "\n",
    "system = QuantumSystem(objects=[qubit])\n",
    "\n",
    "simulator = QuantumSimulator(system)"
   ]
  },
  {
   "cell_type": "code",
   "execution_count": null,
   "metadata": {},
   "outputs": [],
   "source": [
    "duration = 30\n",
    "ramptime = 10\n",
    "\n",
    "hpi_pulse = qx.pulse.FlatTop(\n",
    "    duration=duration,\n",
    "    amplitude=0.5 * np.pi / (duration - ramptime),\n",
    "    tau=ramptime,\n",
    ")\n",
    "hpi_pulse.plot(divide_by_two_pi=True)"
   ]
  },
  {
   "cell_type": "code",
   "execution_count": null,
   "metadata": {},
   "outputs": [],
   "source": [
    "result = simulator.mesolve(\n",
    "    controls=[\n",
    "        Control(\n",
    "            target=qubit.label,\n",
    "            frequency=qubit.frequency,\n",
    "            waveform=hpi_pulse,\n",
    "        )\n",
    "    ],\n",
    "    initial_state={\n",
    "        qubit.label: \"0\",\n",
    "    }\n",
    ")\n",
    "\n",
    "result.show_last_population(qubit.label)\n",
    "result.plot_population_dynamics(qubit.label)\n",
    "result.plot_bloch_vectors(qubit.label)\n",
    "result.display_bloch_sphere(qubit.label)"
   ]
  },
  {
   "cell_type": "code",
   "execution_count": null,
   "metadata": {},
   "outputs": [],
   "source": [
    "hpi_pulse.repeated(2).plot(\n",
    "    divide_by_two_pi=True,\n",
    ")"
   ]
  },
  {
   "cell_type": "code",
   "execution_count": null,
   "metadata": {},
   "outputs": [],
   "source": [
    "result = simulator.mesolve(\n",
    "    controls=[\n",
    "        Control(\n",
    "            target=qubit.label,\n",
    "            frequency=qubit.frequency,\n",
    "            waveform=hpi_pulse.repeated(2),\n",
    "        )\n",
    "    ],\n",
    "    initial_state={\n",
    "        qubit.label: \"0\",\n",
    "    },\n",
    ")\n",
    "\n",
    "result.show_last_population(qubit.label)\n",
    "result.plot_population_dynamics(qubit.label)\n",
    "result.plot_bloch_vectors(qubit.label)\n",
    "result.display_bloch_sphere(qubit.label)"
   ]
  },
  {
   "cell_type": "code",
   "execution_count": null,
   "metadata": {},
   "outputs": [],
   "source": [
    "duration = 30\n",
    "ramptime = 10\n",
    "\n",
    "pi_pulse = qx.pulse.FlatTop(\n",
    "    duration=duration,\n",
    "    amplitude=np.pi / (duration - ramptime),\n",
    "    tau=ramptime,\n",
    ")\n",
    "pi_pulse.plot(divide_by_two_pi=True)"
   ]
  },
  {
   "cell_type": "code",
   "execution_count": null,
   "metadata": {},
   "outputs": [],
   "source": [
    "result = simulator.mesolve(\n",
    "    controls=[\n",
    "        Control(\n",
    "            target=qubit.label,\n",
    "            frequency=qubit.frequency,\n",
    "            waveform=pi_pulse,\n",
    "        )\n",
    "    ],\n",
    "    initial_state={\n",
    "        qubit.label: \"0\",\n",
    "    },\n",
    ")\n",
    "\n",
    "result.show_last_population(qubit.label)\n",
    "result.plot_population_dynamics(qubit.label)\n",
    "result.plot_bloch_vectors(qubit.label)\n",
    "result.display_bloch_sphere(qubit.label)"
   ]
  }
 ],
 "metadata": {
  "kernelspec": {
   "display_name": ".venv",
   "language": "python",
   "name": "python3"
  },
  "language_info": {
   "codemirror_mode": {
    "name": "ipython",
    "version": 3
   },
   "file_extension": ".py",
   "mimetype": "text/x-python",
   "name": "python",
   "nbconvert_exporter": "python",
   "pygments_lexer": "ipython3",
   "version": "3.9.5"
  }
 },
 "nbformat": 4,
 "nbformat_minor": 2
}
