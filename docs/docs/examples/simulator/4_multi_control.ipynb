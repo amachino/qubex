{
 "cells": [
  {
   "cell_type": "code",
   "execution_count": null,
   "metadata": {},
   "outputs": [],
   "source": [
    "import numpy as np\n",
    "import qubex as qx\n",
    "from qubex.simulator import Control, Coupling, QuantumSimulator, QuantumSystem, Transmon"
   ]
  },
  {
   "cell_type": "code",
   "execution_count": null,
   "metadata": {},
   "outputs": [],
   "source": [
    "qubits = [\n",
    "    Transmon(\n",
    "        label=\"Q01\",\n",
    "        dimension=3,\n",
    "        frequency=7.648,\n",
    "        anharmonicity=-0.33,\n",
    "        relaxation_rate=0.00005,\n",
    "        dephasing_rate=0.00005,\n",
    "    ),\n",
    "    Transmon(\n",
    "        label=\"Q02\",\n",
    "        dimension=3,\n",
    "        frequency=8.275,\n",
    "        anharmonicity=-0.33,\n",
    "        relaxation_rate=0.00005,\n",
    "        dephasing_rate=0.00005,\n",
    "    ),\n",
    "]\n",
    "\n",
    "system = QuantumSystem(\n",
    "    objects=qubits,\n",
    "    couplings=[\n",
    "        Coupling(\n",
    "            pair=(\"Q01\", \"Q02\"),\n",
    "            strength=0.01,\n",
    "        ),\n",
    "    ],\n",
    ")\n",
    "\n",
    "simulator = QuantumSimulator(system)"
   ]
  },
  {
   "cell_type": "code",
   "execution_count": null,
   "metadata": {},
   "outputs": [],
   "source": [
    "system.hamiltonian"
   ]
  },
  {
   "cell_type": "code",
   "execution_count": null,
   "metadata": {},
   "outputs": [],
   "source": [
    "duration = 30\n",
    "tau = 10\n",
    "\n",
    "x180 = qx.pulse.FlatTop(\n",
    "    duration=duration,\n",
    "    amplitude=np.pi / (duration - tau),\n",
    "    tau=tau,\n",
    ")\n",
    "y180 = x180.shifted(np.pi / 2)\n",
    "\n",
    "with qx.PulseSchedule() as ps:\n",
    "    ps.add(\"Q01\", x180)\n",
    "    ps.barrier()\n",
    "    ps.add(\"Q01\", y180)\n",
    "    ps.add(\"Q02\", x180)\n",
    "    ps.add(\"Q02\", y180)\n",
    "\n",
    "ps.plot()\n",
    "\n",
    "waveforms = ps.get_sampled_sequences()"
   ]
  },
  {
   "cell_type": "code",
   "execution_count": null,
   "metadata": {},
   "outputs": [],
   "source": [
    "control_0 = Control(\n",
    "    target=qubits[0].label,\n",
    "    frequency=qubits[0].frequency,\n",
    "    waveform=waveforms[qubits[0].label],\n",
    ")\n",
    "control_0.plot()\n",
    "\n",
    "control_1 = Control(\n",
    "    target=qubits[1].label,\n",
    "    frequency=qubits[1].frequency,\n",
    "    waveform=waveforms[qubits[1].label],\n",
    ")\n",
    "control_1.plot()"
   ]
  },
  {
   "cell_type": "code",
   "execution_count": null,
   "metadata": {},
   "outputs": [],
   "source": [
    "initial_state = system.state({\n",
    "    \"Q01\": \"0\",\n",
    "    \"Q02\": \"1\",\n",
    "})\n",
    "\n",
    "initial_state"
   ]
  },
  {
   "cell_type": "code",
   "execution_count": null,
   "metadata": {},
   "outputs": [],
   "source": [
    "result = simulator.mesolve(\n",
    "    controls=[control_0, control_1],\n",
    "    initial_state=initial_state,\n",
    ")"
   ]
  },
  {
   "cell_type": "code",
   "execution_count": null,
   "metadata": {},
   "outputs": [],
   "source": [
    "final_state = result.states[-1]\n",
    "final_state"
   ]
  },
  {
   "cell_type": "code",
   "execution_count": null,
   "metadata": {},
   "outputs": [],
   "source": [
    "result.plot_population_dynamics()\n",
    "result.plot_population_dynamics(qubits[0].label)\n",
    "result.plot_population_dynamics(qubits[1].label)"
   ]
  },
  {
   "cell_type": "code",
   "execution_count": null,
   "metadata": {},
   "outputs": [],
   "source": [
    "result.display_bloch_sphere(qubits[0].label)\n",
    "result.display_bloch_sphere(qubits[1].label)"
   ]
  }
 ],
 "metadata": {
  "kernelspec": {
   "display_name": ".venv",
   "language": "python",
   "name": "python3"
  },
  "language_info": {
   "codemirror_mode": {
    "name": "ipython",
    "version": 3
   },
   "file_extension": ".py",
   "mimetype": "text/x-python",
   "name": "python",
   "nbconvert_exporter": "python",
   "pygments_lexer": "ipython3",
   "version": "3.9.5"
  }
 },
 "nbformat": 4,
 "nbformat_minor": 2
}
