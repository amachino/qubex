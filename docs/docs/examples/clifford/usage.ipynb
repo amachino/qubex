{
 "cells": [
  {
   "cell_type": "code",
   "execution_count": null,
   "metadata": {},
   "outputs": [],
   "source": [
    "from qubex.clifford import Clifford, CliffordGenerator, CliffordSequence, Pauli"
   ]
  },
  {
   "cell_type": "code",
   "execution_count": null,
   "metadata": {},
   "outputs": [],
   "source": [
    "Pauli(1, \"X\")"
   ]
  },
  {
   "cell_type": "code",
   "execution_count": null,
   "metadata": {},
   "outputs": [],
   "source": [
    "Pauli(-1j, \"XY\")"
   ]
  },
  {
   "cell_type": "code",
   "execution_count": null,
   "metadata": {},
   "outputs": [],
   "source": [
    "Clifford.I()"
   ]
  },
  {
   "cell_type": "code",
   "execution_count": null,
   "metadata": {},
   "outputs": [],
   "source": [
    "X90 = Clifford.X90()\n",
    "Z90 = Clifford.Z90()\n",
    "\n",
    "print(X90)\n",
    "print(Z90)"
   ]
  },
  {
   "cell_type": "code",
   "execution_count": null,
   "metadata": {},
   "outputs": [],
   "source": [
    "X90.inverse"
   ]
  },
  {
   "cell_type": "code",
   "execution_count": null,
   "metadata": {},
   "outputs": [],
   "source": [
    "X90.compose(Z90)"
   ]
  },
  {
   "cell_type": "code",
   "execution_count": null,
   "metadata": {},
   "outputs": [],
   "source": [
    "X90.compose(X90.inverse).is_identity()"
   ]
  },
  {
   "cell_type": "code",
   "execution_count": null,
   "metadata": {},
   "outputs": [],
   "source": [
    "X90.apply_to(Pauli(1, \"Y\"))"
   ]
  },
  {
   "cell_type": "code",
   "execution_count": null,
   "metadata": {},
   "outputs": [],
   "source": [
    "X90.apply_to(Pauli(1, \"Z\"))"
   ]
  },
  {
   "cell_type": "code",
   "execution_count": null,
   "metadata": {},
   "outputs": [],
   "source": [
    "II = Clifford.II()\n",
    "XI90 = Clifford.XI90()\n",
    "IX90 = Clifford.IX90()\n",
    "ZI90 = Clifford.ZI90()\n",
    "IZ90 = Clifford.IZ90()\n",
    "ZX90 = Clifford.ZX90()\n",
    "CNOT = Clifford.CNOT()\n",
    "CZ = Clifford.CZ()\n",
    "SWAP = Clifford.SWAP()\n",
    "ISWAP = Clifford.ISWAP()\n",
    "BSWAP = Clifford.BSWAP()\n",
    "\n",
    "print(II)\n",
    "print(XI90)\n",
    "print(IX90)\n",
    "print(ZI90)\n",
    "print(IZ90)\n",
    "print(ZX90)\n",
    "print(CNOT)\n",
    "print(CZ)\n",
    "print(SWAP)\n",
    "print(ISWAP)\n",
    "print(BSWAP)"
   ]
  },
  {
   "cell_type": "code",
   "execution_count": null,
   "metadata": {},
   "outputs": [],
   "source": [
    "XI90.inverse"
   ]
  },
  {
   "cell_type": "code",
   "execution_count": null,
   "metadata": {},
   "outputs": [],
   "source": [
    "XI90.compose(XI90.inverse)"
   ]
  },
  {
   "cell_type": "code",
   "execution_count": null,
   "metadata": {},
   "outputs": [],
   "source": [
    "ZX90.apply_to(Pauli(1, \"IZ\"))"
   ]
  },
  {
   "cell_type": "code",
   "execution_count": null,
   "metadata": {},
   "outputs": [],
   "source": [
    "seq0 = CliffordSequence.I()\n",
    "seq0"
   ]
  },
  {
   "cell_type": "code",
   "execution_count": null,
   "metadata": {},
   "outputs": [],
   "source": [
    "seq1 = seq0.compose(X90)\n",
    "seq1"
   ]
  },
  {
   "cell_type": "code",
   "execution_count": null,
   "metadata": {},
   "outputs": [],
   "source": [
    "seq2 = seq1.compose(Z90)\n",
    "seq2"
   ]
  },
  {
   "cell_type": "code",
   "execution_count": null,
   "metadata": {},
   "outputs": [],
   "source": [
    "seq1.clifford"
   ]
  },
  {
   "cell_type": "code",
   "execution_count": null,
   "metadata": {},
   "outputs": [],
   "source": [
    "seq2.clifford"
   ]
  },
  {
   "cell_type": "code",
   "execution_count": null,
   "metadata": {},
   "outputs": [],
   "source": [
    "CliffordSequence.II().compose(IX90).compose(XI90).clifford"
   ]
  },
  {
   "cell_type": "code",
   "execution_count": null,
   "metadata": {},
   "outputs": [],
   "source": [
    "generator = CliffordGenerator()"
   ]
  },
  {
   "cell_type": "code",
   "execution_count": null,
   "metadata": {},
   "outputs": [],
   "source": [
    "generator.get_cliffords(\"1Q\")"
   ]
  },
  {
   "cell_type": "code",
   "execution_count": null,
   "metadata": {},
   "outputs": [],
   "source": [
    "generator.get_random_clifford_sequences(\n",
    "    n=5,\n",
    "    type=\"1Q\",\n",
    "    seed=0,\n",
    ")"
   ]
  },
  {
   "cell_type": "code",
   "execution_count": null,
   "metadata": {},
   "outputs": [],
   "source": [
    "seqs, inv = generator.create_rb_sequences(\n",
    "    n=10,\n",
    "    type=\"1Q\",\n",
    "    seed=0,\n",
    ")\n",
    "\n",
    "print(\"Random Cliffords:\")\n",
    "for seq in seqs:\n",
    "    print(seq)\n",
    "print()\n",
    "print(\"Inverse of the Clifford sequence:\")\n",
    "print(inv)"
   ]
  },
  {
   "cell_type": "code",
   "execution_count": null,
   "metadata": {},
   "outputs": [],
   "source": [
    "seqs, inv = generator.create_irb_sequences(\n",
    "    n=10,\n",
    "    interleave={\n",
    "        \"I\": (1, \"I\"),\n",
    "        \"X\": (1, \"Y\"),\n",
    "        \"Y\": (-1, \"X\"),\n",
    "        \"Z\": (1, \"Z\"),\n",
    "    },\n",
    "    type=\"1Q\",\n",
    "    seed=0,\n",
    ")\n",
    "\n",
    "print(\"Random Cliffords:\")\n",
    "for seq in seqs:\n",
    "    print(seq)\n",
    "print()\n",
    "print(\"Inverse of the Clifford sequence:\")\n",
    "print(inv)"
   ]
  },
  {
   "cell_type": "code",
   "execution_count": null,
   "metadata": {},
   "outputs": [],
   "source": [
    "generator.generate_1q_cliffords(max_gates=7)"
   ]
  },
  {
   "cell_type": "code",
   "execution_count": null,
   "metadata": {},
   "outputs": [],
   "source": [
    "generator.save(\"1Q\")"
   ]
  },
  {
   "cell_type": "code",
   "execution_count": null,
   "metadata": {},
   "outputs": [],
   "source": [
    "generator.generate_1q1q_cliffords()"
   ]
  },
  {
   "cell_type": "code",
   "execution_count": null,
   "metadata": {},
   "outputs": [],
   "source": [
    "generator.save(\"1Q1Q\")"
   ]
  },
  {
   "cell_type": "code",
   "execution_count": null,
   "metadata": {},
   "outputs": [],
   "source": [
    "generator.generate_2q_cliffords(two_qubit_gate=ZX90)"
   ]
  },
  {
   "cell_type": "code",
   "execution_count": null,
   "metadata": {},
   "outputs": [],
   "source": [
    "generator.save(\"2Q\")"
   ]
  },
  {
   "cell_type": "code",
   "execution_count": null,
   "metadata": {},
   "outputs": [],
   "source": [
    "seqs = generator.get_random_clifford_sequences(\n",
    "    n=10,\n",
    "    type=\"2Q\",\n",
    "    seed=0,\n",
    ")\n",
    "display(seqs)"
   ]
  },
  {
   "cell_type": "code",
   "execution_count": null,
   "metadata": {},
   "outputs": [],
   "source": [
    "seq = seqs[0]\n",
    "\n",
    "print(seq)\n",
    "print(seq.clifford)"
   ]
  },
  {
   "cell_type": "code",
   "execution_count": null,
   "metadata": {},
   "outputs": [],
   "source": [
    "seq_inv = generator.get_inverse(seq, \"2Q\")\n",
    "print(seq_inv)\n",
    "print(seq_inv.clifford)"
   ]
  },
  {
   "cell_type": "code",
   "execution_count": null,
   "metadata": {},
   "outputs": [],
   "source": [
    "seq.clifford.compose(seq_inv.clifford).is_identity()"
   ]
  },
  {
   "cell_type": "code",
   "execution_count": null,
   "metadata": {},
   "outputs": [],
   "source": [
    "seqs, inv = generator.create_rb_sequences(\n",
    "    n=5,\n",
    "    type=\"2Q\",\n",
    "    seed=0,\n",
    ")\n",
    "\n",
    "print(\"Random Cliffords:\")\n",
    "for seq in seqs:\n",
    "    print(seq)\n",
    "print()\n",
    "print(\"Inverse of the Clifford sequence:\")\n",
    "print(inv)"
   ]
  },
  {
   "cell_type": "code",
   "execution_count": null,
   "metadata": {},
   "outputs": [],
   "source": [
    "seqs, inv = generator.create_irb_sequences(\n",
    "    n=5,\n",
    "    type=\"2Q\",\n",
    "    interleave=Clifford.ZI90(),\n",
    ")\n",
    "\n",
    "print(\"Random Cliffords:\")\n",
    "for seq in seqs:\n",
    "    print(seq)\n",
    "print()\n",
    "print(\"Inverse of the Clifford sequence:\")\n",
    "print(inv)"
   ]
  }
 ],
 "metadata": {
  "kernelspec": {
   "display_name": ".venv",
   "language": "python",
   "name": "python3"
  },
  "language_info": {
   "codemirror_mode": {
    "name": "ipython",
    "version": 3
   },
   "file_extension": ".py",
   "mimetype": "text/x-python",
   "name": "python",
   "nbconvert_exporter": "python",
   "pygments_lexer": "ipython3",
   "version": "3.9.18"
  }
 },
 "nbformat": 4,
 "nbformat_minor": 2
}
