{
 "cells": [
  {
   "cell_type": "code",
   "execution_count": null,
   "metadata": {},
   "outputs": [],
   "source": [
    "import sympy as sp\n",
    "from sympy.physics.quantum import Dagger as dag\n",
    "from sympy.physics.quantum import TensorProduct as tensor"
   ]
  },
  {
   "cell_type": "code",
   "execution_count": null,
   "metadata": {},
   "outputs": [],
   "source": [
    "# 1Q Pauli\n",
    "\n",
    "I = sp.Matrix(  # noqa\n",
    "    [\n",
    "        [1, 0],\n",
    "        [0, 1],\n",
    "    ],\n",
    ")\n",
    "\n",
    "X = sp.Matrix(\n",
    "    [\n",
    "        [0, 1],\n",
    "        [1, 0],\n",
    "    ],\n",
    ")\n",
    "\n",
    "Y = sp.Matrix(\n",
    "    [\n",
    "        [0, -sp.I],\n",
    "        [sp.I, 0],\n",
    "    ],\n",
    ")\n",
    "\n",
    "Z = sp.Matrix(\n",
    "    [\n",
    "        [1, 0],\n",
    "        [0, -1],\n",
    "    ],\n",
    ")\n"
   ]
  },
  {
   "cell_type": "code",
   "execution_count": null,
   "metadata": {},
   "outputs": [],
   "source": [
    "# 2Q Pauli\n",
    "\n",
    "PAULI_2Q = {\n",
    "    \"II\": tensor(I, I),\n",
    "    \"IX\": tensor(I, X),\n",
    "    \"IY\": tensor(I, Y),\n",
    "    \"IZ\": tensor(I, Z),\n",
    "    \"XI\": tensor(X, I),\n",
    "    \"XX\": tensor(X, X),\n",
    "    \"XY\": tensor(X, Y),\n",
    "    \"XZ\": tensor(X, Z),\n",
    "    \"YI\": tensor(Y, I),\n",
    "    \"YX\": tensor(Y, X),\n",
    "    \"YY\": tensor(Y, Y),\n",
    "    \"YZ\": tensor(Y, Z),\n",
    "    \"ZI\": tensor(Z, I),\n",
    "    \"ZX\": tensor(Z, X),\n",
    "    \"ZY\": tensor(Z, Y),\n",
    "    \"ZZ\": tensor(Z, Z),\n",
    "}"
   ]
  },
  {
   "cell_type": "code",
   "execution_count": null,
   "metadata": {},
   "outputs": [],
   "source": [
    "# 1Q Clifford\n",
    "\n",
    "X90 = sp.Matrix(\n",
    "    [\n",
    "        [1, -sp.I],\n",
    "        [-sp.I, 1],\n",
    "    ],\n",
    ") / sp.sqrt(2)\n",
    "\n",
    "Y90 = sp.Matrix(\n",
    "    [\n",
    "        [1, -1],\n",
    "        [1, 1],\n",
    "    ],\n",
    ") / sp.sqrt(2)\n",
    "\n",
    "Z90 = sp.Matrix(\n",
    "    [\n",
    "        [1 - sp.I, 0],\n",
    "        [0, 1 + sp.I],\n",
    "    ],\n",
    ") / sp.sqrt(2)"
   ]
  },
  {
   "cell_type": "code",
   "execution_count": null,
   "metadata": {},
   "outputs": [],
   "source": [
    "# 1Qx1Q Clifford\n",
    "\n",
    "II = tensor(I, I)\n",
    "IX90 = tensor(I, X90)\n",
    "IY90 = tensor(I, Y90)\n",
    "IZ90 = tensor(I, Z90)\n",
    "XI90 = tensor(X90, I)\n",
    "YI90 = tensor(Y90, I)\n",
    "ZI90 = tensor(Z90, I)"
   ]
  },
  {
   "cell_type": "code",
   "execution_count": null,
   "metadata": {},
   "outputs": [],
   "source": [
    "# 2Q Clifford\n",
    "\n",
    "ZX90 = sp.Matrix(\n",
    "    [\n",
    "        [1, -sp.I, 0, 0],\n",
    "        [-sp.I, 1, 0, 0],\n",
    "        [0, 0, 1, sp.I],\n",
    "        [0, 0, sp.I, 1],\n",
    "    ]\n",
    ") / sp.sqrt(2)\n",
    "\n",
    "ZZ90 = sp.Matrix(\n",
    "    [\n",
    "        [1 - sp.I, 0, 0, 0],\n",
    "        [0, 1 + sp.I, 0, 0],\n",
    "        [0, 0, 1 + sp.I, 0],\n",
    "        [0, 0, 0, 1 - sp.I],\n",
    "    ]\n",
    ") / sp.sqrt(2)\n",
    "\n",
    "CNOT = sp.Matrix(\n",
    "    [\n",
    "        [1, 0, 0, 0],\n",
    "        [0, 1, 0, 0],\n",
    "        [0, 0, 0, 1],\n",
    "        [0, 0, 1, 0],\n",
    "    ],\n",
    ")\n",
    "\n",
    "CZ = sp.Matrix(\n",
    "    [\n",
    "        [1, 0, 0, 0],\n",
    "        [0, 1, 0, 0],\n",
    "        [0, 0, 1, 0],\n",
    "        [0, 0, 0, -1],\n",
    "    ],\n",
    ")\n",
    "\n",
    "SWAP = sp.Matrix(\n",
    "    [\n",
    "        [1, 0, 0, 0],\n",
    "        [0, 0, 1, 0],\n",
    "        [0, 1, 0, 0],\n",
    "        [0, 0, 0, 1],\n",
    "    ],\n",
    ")\n",
    "\n",
    "ISWAP = sp.Matrix(\n",
    "    [\n",
    "        [1, 0, 0, 0],\n",
    "        [0, 0, sp.I, 0],\n",
    "        [0, sp.I, 0, 0],\n",
    "        [0, 0, 0, 1],\n",
    "    ],\n",
    ")\n",
    "\n",
    "BSWAP = sp.Matrix(\n",
    "    [\n",
    "        [0, 0, 0, sp.I],\n",
    "        [0, 1, 0, 0],\n",
    "        [0, 0, 1, 0],\n",
    "        [sp.I, 0, 0, 0],\n",
    "    ],\n",
    ")"
   ]
  },
  {
   "cell_type": "code",
   "execution_count": null,
   "metadata": {},
   "outputs": [],
   "source": [
    "# 2Q Non-Clifford\n",
    "\n",
    "SQRT_ISWAP = sp.Matrix(\n",
    "    [\n",
    "        [sp.sqrt(2), 0, 0, 0],\n",
    "        [0, 1, sp.I, 0],\n",
    "        [0, sp.I, 1, 0],\n",
    "        [0, 0, 0, sp.sqrt(2)],\n",
    "    ],\n",
    ") / sp.sqrt(2)\n",
    "\n",
    "BGATE = sp.Matrix(\n",
    "    [\n",
    "        [sp.cos(sp.pi / 8), 0, 0, sp.I * sp.sin(sp.pi / 8)],\n",
    "        [0, sp.sin(sp.pi / 8), sp.I * sp.cos(sp.pi / 8), 0],\n",
    "        [0, sp.I * sp.cos(sp.pi / 8), sp.sin(sp.pi / 8), 0],\n",
    "        [sp.I * sp.sin(sp.pi / 8), 0, 0, sp.cos(sp.pi / 8)],\n",
    "    ],\n",
    ")"
   ]
  },
  {
   "cell_type": "code",
   "execution_count": null,
   "metadata": {},
   "outputs": [],
   "source": [
    "ZX90"
   ]
  },
  {
   "cell_type": "code",
   "execution_count": null,
   "metadata": {},
   "outputs": [],
   "source": [
    "ZX90 * ZX90"
   ]
  },
  {
   "cell_type": "code",
   "execution_count": null,
   "metadata": {},
   "outputs": [],
   "source": [
    "- sp.I * tensor(Z, X)"
   ]
  },
  {
   "cell_type": "code",
   "execution_count": null,
   "metadata": {},
   "outputs": [],
   "source": [
    "(SQRT_ISWAP * SQRT_ISWAP).equals(ISWAP)"
   ]
  },
  {
   "cell_type": "code",
   "execution_count": null,
   "metadata": {},
   "outputs": [],
   "source": [
    "for k, v in PAULI_2Q.items():\n",
    "    print(f\"{k} =\")\n",
    "    display(v)"
   ]
  },
  {
   "cell_type": "code",
   "execution_count": null,
   "metadata": {},
   "outputs": [],
   "source": [
    "def create_pauli_mapping(C: sp.Matrix):\n",
    "    mapping = {}\n",
    "    for label, P in PAULI_2Q.items():\n",
    "        P_mapped = C * P * dag(C)\n",
    "        P_mapped.simplify()\n",
    "        print(f\"{label} ->\")\n",
    "        display(P_mapped)\n",
    "\n",
    "        for k, v in PAULI_2Q.items():\n",
    "            for sign in [1, -1, sp.I, -sp.I]:\n",
    "                if P_mapped.equals(sign * v):\n",
    "                    mapping[label] = (sign, k)\n",
    "                    print(f\"= {sign} * {k}\\n\")\n",
    "                    break\n",
    "        # print if not found\n",
    "        if label not in mapping:\n",
    "            print(f\"Could not find mapping for {label}\\n\")\n",
    "\n",
    "    return mapping"
   ]
  },
  {
   "cell_type": "code",
   "execution_count": null,
   "metadata": {},
   "outputs": [],
   "source": [
    "create_pauli_mapping(ZX90)"
   ]
  },
  {
   "cell_type": "code",
   "execution_count": null,
   "metadata": {},
   "outputs": [],
   "source": [
    "create_pauli_mapping(ZZ90)"
   ]
  },
  {
   "cell_type": "code",
   "execution_count": null,
   "metadata": {},
   "outputs": [],
   "source": [
    "create_pauli_mapping(CNOT)"
   ]
  },
  {
   "cell_type": "code",
   "execution_count": null,
   "metadata": {},
   "outputs": [],
   "source": [
    "create_pauli_mapping(CZ)"
   ]
  },
  {
   "cell_type": "code",
   "execution_count": null,
   "metadata": {},
   "outputs": [],
   "source": [
    "create_pauli_mapping(SWAP)"
   ]
  },
  {
   "cell_type": "code",
   "execution_count": null,
   "metadata": {},
   "outputs": [],
   "source": [
    "create_pauli_mapping(ISWAP)"
   ]
  },
  {
   "cell_type": "code",
   "execution_count": null,
   "metadata": {},
   "outputs": [],
   "source": [
    "create_pauli_mapping(BSWAP)"
   ]
  },
  {
   "cell_type": "code",
   "execution_count": null,
   "metadata": {},
   "outputs": [],
   "source": [
    "create_pauli_mapping(SQRT_ISWAP)"
   ]
  },
  {
   "cell_type": "code",
   "execution_count": null,
   "metadata": {},
   "outputs": [],
   "source": [
    "create_pauli_mapping(BGATE)"
   ]
  }
 ],
 "metadata": {
  "kernelspec": {
   "display_name": ".venv",
   "language": "python",
   "name": "python3"
  },
  "language_info": {
   "codemirror_mode": {
    "name": "ipython",
    "version": 3
   },
   "file_extension": ".py",
   "mimetype": "text/x-python",
   "name": "python",
   "nbconvert_exporter": "python",
   "pygments_lexer": "ipython3",
   "version": "3.9.18"
  }
 },
 "nbformat": 4,
 "nbformat_minor": 2
}
