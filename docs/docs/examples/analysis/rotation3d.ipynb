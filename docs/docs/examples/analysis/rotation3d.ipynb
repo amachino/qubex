{
 "cells": [
  {
   "cell_type": "code",
   "execution_count": null,
   "metadata": {},
   "outputs": [],
   "source": [
    "import numpy as np\n",
    "import plotly.graph_objects as go\n",
    "from scipy.linalg import expm\n",
    "from scipy.optimize import least_squares\n",
    "\n",
    "import qubex as qx"
   ]
  },
  {
   "cell_type": "code",
   "execution_count": null,
   "metadata": {},
   "outputs": [],
   "source": [
    "# Generators of SO(3)\n",
    "\n",
    "G_x = np.array(\n",
    "    [\n",
    "        [0, 0, 0],\n",
    "        [0, 0, -1],\n",
    "        [0, 1, 0],\n",
    "    ]\n",
    ")\n",
    "\n",
    "G_y = np.array(\n",
    "    [\n",
    "        [0, 0, 1],\n",
    "        [0, 0, 0],\n",
    "        [-1, 0, 0],\n",
    "    ]\n",
    ")\n",
    "\n",
    "G_z = np.array(\n",
    "    [\n",
    "        [0, -1, 0],\n",
    "        [1, 0, 0],\n",
    "        [0, 0, 0],\n",
    "    ]\n",
    ")\n",
    "\n",
    "\n",
    "def rotation_matrix(\n",
    "    t: float,\n",
    "    Omega: float,\n",
    "    n: tuple[float, float, float],\n",
    "    use_expm: bool = False,\n",
    ") -> np.ndarray:\n",
    "    G = n[0] * G_x + n[1] * G_y + n[2] * G_z\n",
    "    if use_expm:\n",
    "        R = expm(Omega * t * G)\n",
    "    else:\n",
    "        # Rodrigues' rotation formula\n",
    "        R = np.eye(3) + np.sin(Omega * t) * G + (1 - np.cos(Omega * t)) * G @ G\n",
    "    return R"
   ]
  },
  {
   "cell_type": "code",
   "execution_count": null,
   "metadata": {},
   "outputs": [],
   "source": [
    "# # Parameters for the rotation\n",
    "# t = 1.0\n",
    "# Omega = 1.0\n",
    "# n_x, n_y, n_z = 1.0, 0.0, 0.0\n",
    "\n",
    "# # Time with %timeit for use_expm=False\n",
    "# print(\"Time with Rodrigues' formula:\")\n",
    "# %timeit rotation_matrix(t, Omega, n_x, n_y, n_z, use_expm=False)\n",
    "\n",
    "# # Time with %timeit for use_expm=True\n",
    "# print(\"Time with expm:\")\n",
    "# %timeit rotation_matrix(t, Omega, n_x, n_y, n_z, use_expm=True)"
   ]
  },
  {
   "cell_type": "code",
   "execution_count": null,
   "metadata": {},
   "outputs": [],
   "source": [
    "R_x = lambda t, Omega: rotation_matrix(t, Omega, (1, 0, 0))\n",
    "R_y = lambda t, Omega: rotation_matrix(t, Omega, (0, 1, 0))\n",
    "R_z = lambda t, Omega: rotation_matrix(t, Omega, (0, 0, 1))"
   ]
  },
  {
   "cell_type": "code",
   "execution_count": null,
   "metadata": {},
   "outputs": [],
   "source": [
    "Omega = 2 * np.pi\n",
    "r_0 = np.array([1, 1, 1]) / np.sqrt(3)\n",
    "times = np.linspace(0, 1, 50)\n",
    "r_x = np.array([R_x(t, Omega) @ r_0 for t in times])\n",
    "qx.viz.plot_bloch_vectors(times, r_x)\n",
    "qx.viz.display_bloch_sphere(r_x)"
   ]
  },
  {
   "cell_type": "code",
   "execution_count": null,
   "metadata": {},
   "outputs": [],
   "source": [
    "Omega = 4 * np.pi\n",
    "r_0 = np.array([1, 1, 1]) / np.sqrt(3)\n",
    "times = np.linspace(0, 1, 50)\n",
    "r_y = np.array([R_y(t, Omega) @ r_0 for t in times])\n",
    "qx.viz.plot_bloch_vectors(times, r_y)\n",
    "qx.viz.display_bloch_sphere(r_y)"
   ]
  },
  {
   "cell_type": "code",
   "execution_count": null,
   "metadata": {},
   "outputs": [],
   "source": [
    "Omega = 6 * np.pi\n",
    "r_0 = np.array([1, 1, 1]) / np.sqrt(3)\n",
    "times = np.linspace(0, 1, 50)\n",
    "r_z = np.array([R_z(t, Omega) @ r_0 for t in times])\n",
    "qx.viz.plot_bloch_vectors(times, r_z)\n",
    "qx.viz.display_bloch_sphere(r_z)"
   ]
  },
  {
   "cell_type": "code",
   "execution_count": null,
   "metadata": {},
   "outputs": [],
   "source": [
    "def create_data(Omega, r_0, n, times, noise, decay_rate):\n",
    "    r_t = np.array([rotation_matrix(t, Omega, n) @ r_0 for t in times])\n",
    "    decay_factor = np.exp(-decay_rate * times)\n",
    "    return r_t * decay_factor[:, None] + np.random.normal(0, noise, r_t.shape)\n",
    "\n",
    "\n",
    "Omega = 4 * np.pi\n",
    "r_0 = np.array([0, 0, 1])\n",
    "n = np.array([1.0, -0.5, 0.1])\n",
    "n = n / np.linalg.norm(n)\n",
    "times = np.linspace(0, 1, 50)"
   ]
  },
  {
   "cell_type": "code",
   "execution_count": null,
   "metadata": {},
   "outputs": [],
   "source": [
    "noise = 0.05\n",
    "decay_factor = 0.5\n",
    "\n",
    "data = create_data(Omega, r_0, n, times, noise, decay_factor)\n",
    "\n",
    "qx.viz.plot_bloch_vectors(times, data)\n",
    "qx.viz.display_bloch_sphere(data)"
   ]
  },
  {
   "cell_type": "code",
   "execution_count": null,
   "metadata": {},
   "outputs": [],
   "source": [
    "def simulate_rotation(times, x_0, y_0, z_0, Omega, theta, phi, alpha):\n",
    "    r_0 = np.array([x_0, y_0, z_0])\n",
    "    n_x = np.sin(theta) * np.cos(phi)\n",
    "    n_y = np.sin(theta) * np.sin(phi)\n",
    "    n_z = np.cos(theta)\n",
    "    n = (n_x, n_y, n_z)\n",
    "    r_t = np.array([rotation_matrix(t, Omega, n) @ r_0 for t in times])\n",
    "    decay_factor = np.exp(-alpha * times)\n",
    "    return r_t * decay_factor[:, None]\n",
    "\n",
    "\n",
    "def residual(params, times, data):\n",
    "    return (simulate_rotation(times, *params) - data).flatten()\n",
    "\n",
    "\n",
    "initial_guess = [0, 0, 1, 4 * np.pi, 0, 0, 0]\n",
    "result = least_squares(residual, initial_guess, args=(times, data))\n",
    "result.x"
   ]
  },
  {
   "cell_type": "code",
   "execution_count": null,
   "metadata": {},
   "outputs": [],
   "source": [
    "fit = simulate_rotation(times, *result.x)\n",
    "\n",
    "qx.viz.plot_bloch_vectors(times, data, title=\"State evolution : data\")\n",
    "qx.viz.plot_bloch_vectors(times, fit, title=\"State evolution : fit\")"
   ]
  },
  {
   "cell_type": "code",
   "execution_count": null,
   "metadata": {},
   "outputs": [],
   "source": [
    "fig = go.Figure()\n",
    "\n",
    "# data\n",
    "fig.add_trace(\n",
    "    go.Scatter3d(\n",
    "        name=\"data\",\n",
    "        x=data[:, 0],\n",
    "        y=data[:, 1],\n",
    "        z=data[:, 2],\n",
    "        mode=\"markers\",\n",
    "        marker=dict(size=3),\n",
    "        hoverinfo=\"skip\",\n",
    "    )\n",
    ")\n",
    "\n",
    "# fit\n",
    "fig.add_trace(\n",
    "    go.Scatter3d(\n",
    "        name=\"fit\",\n",
    "        x=fit[:, 0],\n",
    "        y=fit[:, 1],\n",
    "        z=fit[:, 2],\n",
    "        mode=\"lines\",\n",
    "        line=dict(width=4),\n",
    "        hoverinfo=\"skip\",\n",
    "    )\n",
    ")\n",
    "\n",
    "# sphere\n",
    "theta = np.linspace(0, np.pi, 50)\n",
    "phi = np.linspace(0, 2 * np.pi, 50)\n",
    "theta, phi = np.meshgrid(theta, phi)\n",
    "r = 1\n",
    "x = r * np.sin(theta) * np.cos(phi)\n",
    "y = r * np.sin(theta) * np.sin(phi)\n",
    "z = r * np.cos(theta)\n",
    "fig.add_trace(\n",
    "    go.Surface(\n",
    "        x=x,\n",
    "        y=y,\n",
    "        z=z,\n",
    "        opacity=0.05,\n",
    "        showscale=False,\n",
    "        colorscale=\"gray\",\n",
    "        hoverinfo=\"skip\",\n",
    "    )\n",
    ")\n",
    "\n",
    "# layout\n",
    "fig.update_layout(\n",
    "    scene=dict(\n",
    "        xaxis=dict(title=\"〈X〉\", visible=True),\n",
    "        yaxis=dict(title=\"〈Y〉\", visible=True),\n",
    "        zaxis=dict(title=\"〈Z〉\", visible=True),\n",
    "        aspectmode=\"cube\",\n",
    "    ),\n",
    "    width=400,\n",
    "    height=400,\n",
    "    margin=dict(l=0, r=0, b=0, t=0),\n",
    "    showlegend=False,\n",
    ")\n",
    "\n",
    "fig.show()"
   ]
  },
  {
   "cell_type": "code",
   "execution_count": null,
   "metadata": {},
   "outputs": [],
   "source": [
    "qx.fit.fit_rotation(times, data)\n",
    "qx.viz.display_bloch_sphere(data)"
   ]
  }
 ],
 "metadata": {
  "kernelspec": {
   "display_name": ".venv",
   "language": "python",
   "name": "python3"
  },
  "language_info": {
   "codemirror_mode": {
    "name": "ipython",
    "version": 3
   },
   "file_extension": ".py",
   "mimetype": "text/x-python",
   "name": "python",
   "nbconvert_exporter": "python",
   "pygments_lexer": "ipython3",
   "version": "3.9.18"
  }
 },
 "nbformat": 4,
 "nbformat_minor": 2
}
