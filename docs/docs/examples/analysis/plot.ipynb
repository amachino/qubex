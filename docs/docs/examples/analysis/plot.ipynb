{
 "cells": [
  {
   "cell_type": "code",
   "execution_count": null,
   "metadata": {},
   "outputs": [],
   "source": [
    "import numpy as np\n",
    "import qubex as qx"
   ]
  },
  {
   "cell_type": "code",
   "execution_count": null,
   "metadata": {},
   "outputs": [],
   "source": [
    "times = np.linspace(0, 1, 100)\n",
    "cos_data = np.cos(2 * np.pi * 5 * times) + 0.1 * np.random.randn(len(times))"
   ]
  },
  {
   "cell_type": "code",
   "execution_count": null,
   "metadata": {},
   "outputs": [],
   "source": [
    "qx.viz.plot(\n",
    "    y=cos_data,\n",
    "    title=\"Cosine wave\",\n",
    "    ylabel=\"Amplitude\",\n",
    ")"
   ]
  },
  {
   "cell_type": "code",
   "execution_count": null,
   "metadata": {},
   "outputs": [],
   "source": [
    "fig = qx.viz.plot(\n",
    "    x=times,\n",
    "    y=cos_data,\n",
    "    title=\"Cosine wave\",\n",
    "    xlabel=\"Time\",\n",
    "    ylabel=\"Amplitude\",\n",
    "    width=800,\n",
    "    height=400,\n",
    "    return_figure=True,\n",
    ")\n",
    "\n",
    "fig.show() # type: ignore"
   ]
  },
  {
   "cell_type": "code",
   "execution_count": null,
   "metadata": {},
   "outputs": [],
   "source": [
    "qx.viz.plot_fft(\n",
    "    times,\n",
    "    cos_data,\n",
    ")"
   ]
  },
  {
   "cell_type": "code",
   "execution_count": null,
   "metadata": {},
   "outputs": [],
   "source": [
    "data = np.random.randn(300) + 1j * np.random.randn(300)\n",
    "\n",
    "qx.viz.plot_waveform(np.concatenate([data, 5 + data, data]))"
   ]
  },
  {
   "cell_type": "code",
   "execution_count": null,
   "metadata": {},
   "outputs": [],
   "source": [
    "qx.viz.scatter_iq_data(\n",
    "    {\n",
    "        \"Q00\": data + 2 + 2j,\n",
    "        \"Q01\": data + 2 - 2j,\n",
    "    },\n",
    ")"
   ]
  }
 ],
 "metadata": {
  "kernelspec": {
   "display_name": ".venv",
   "language": "python",
   "name": "python3"
  },
  "language_info": {
   "codemirror_mode": {
    "name": "ipython",
    "version": 3
   },
   "file_extension": ".py",
   "mimetype": "text/x-python",
   "name": "python",
   "nbconvert_exporter": "python",
   "pygments_lexer": "ipython3",
   "version": "3.9.18"
  }
 },
 "nbformat": 4,
 "nbformat_minor": 2
}
