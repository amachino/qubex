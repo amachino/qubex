{
 "cells": [
  {
   "cell_type": "code",
   "execution_count": null,
   "metadata": {},
   "outputs": [],
   "source": [
    "# Install qubex library if not installed\n",
    "# !pip install git+https://github.com/amachino/qubex.git"
   ]
  },
  {
   "cell_type": "code",
   "execution_count": null,
   "metadata": {},
   "outputs": [],
   "source": [
    "import numpy as np\n",
    "import qubex as qx\n",
    "from qubex.simulator import Control, QuantumSimulator, QuantumSystem, Transmon"
   ]
  },
  {
   "cell_type": "code",
   "execution_count": null,
   "metadata": {},
   "outputs": [],
   "source": [
    "# Define the transmon qubit (unit: GHz, ns)\n",
    "qubit = Transmon(\n",
    "    label=\"Q01\",\n",
    "    dimension=3,\n",
    "    frequency=7.648,\n",
    "    anharmonicity=-0.333,\n",
    "    relaxation_rate=0.00005,\n",
    "    dephasing_rate=0.00005,\n",
    ")\n",
    "\n",
    "# Define the quantum system with the qubit\n",
    "system = QuantumSystem(objects=[qubit])\n",
    "\n",
    "# Define the quantum simulator with the system\n",
    "simulator = QuantumSimulator(system)"
   ]
  },
  {
   "cell_type": "code",
   "execution_count": null,
   "metadata": {},
   "outputs": [],
   "source": [
    "# Check the Hamiltonian of the system\n",
    "system.hamiltonian"
   ]
  },
  {
   "cell_type": "code",
   "execution_count": null,
   "metadata": {},
   "outputs": [],
   "source": [
    "# Define the drive pulse\n",
    "\n",
    "# Rectangular pulse with amplitude 4π/100 and duration 100 ns\n",
    "# Rabi frequency will be 2/100 = 0.02 GHz = 20 MHz\n",
    "duration = 100\n",
    "drive = qx.pulse.Rect(\n",
    "    duration=duration,\n",
    "    amplitude=2 * (2 * np.pi) / duration,\n",
    ")\n",
    "\n",
    "# Plot the drive pulse\n",
    "drive.plot()"
   ]
  },
  {
   "cell_type": "markdown",
   "metadata": {},
   "source": [
    "## On-resonant Rabi oscillation"
   ]
  },
  {
   "cell_type": "code",
   "execution_count": null,
   "metadata": {},
   "outputs": [],
   "source": [
    "# Define the control with the target qubit and the drive pulse\n",
    "control = Control(\n",
    "    target=qubit.label,\n",
    "    frequency=qubit.frequency,\n",
    "    waveform=drive,\n",
    ")\n",
    "\n",
    "# Run the simulation by solving the master equation\n",
    "result = simulator.mesolve(\n",
    "    controls=[control],  # List of controls\n",
    "    initial_state={\"Q01\": \"0\"},  # Initial states of the qubits\n",
    "    n_samples=101,  # Number of samples\n",
    ")"
   ]
  },
  {
   "cell_type": "code",
   "execution_count": null,
   "metadata": {},
   "outputs": [],
   "source": [
    "# Show the last population of the qubit\n",
    "result.show_last_population(qubit.label)\n",
    "\n",
    "# Plot the population dynamics of the qubit\n",
    "result.plot_population_dynamics(qubit.label)\n",
    "\n",
    "# Plot the Bloch vectors of the qubit\n",
    "result.plot_bloch_vectors(qubit.label)\n",
    "\n",
    "# Display the Bloch sphere of the qubit\n",
    "result.display_bloch_sphere(qubit.label)"
   ]
  },
  {
   "cell_type": "markdown",
   "metadata": {},
   "source": [
    "## Off-resonant Rabi oscillation"
   ]
  },
  {
   "cell_type": "code",
   "execution_count": null,
   "metadata": {},
   "outputs": [],
   "source": [
    "detuning = 0.001\n",
    "\n",
    "control = Control(\n",
    "    target=qubit.label,\n",
    "    frequency=qubit.frequency + detuning,\n",
    "    waveform=drive,\n",
    ")\n",
    "\n",
    "result = simulator.mesolve(\n",
    "    controls=[control],\n",
    "    initial_state={\"Q01\": \"0\"},\n",
    "    n_samples=101,\n",
    ")\n",
    "\n",
    "result.show_last_population(qubit.label)\n",
    "result.plot_population_dynamics(qubit.label)\n",
    "\n",
    "result.plot_bloch_vectors(qubit.label)\n",
    "result.display_bloch_sphere(qubit.label)"
   ]
  }
 ],
 "metadata": {
  "kernelspec": {
   "display_name": ".venv",
   "language": "python",
   "name": "python3"
  },
  "language_info": {
   "codemirror_mode": {
    "name": "ipython",
    "version": 3
   },
   "file_extension": ".py",
   "mimetype": "text/x-python",
   "name": "python",
   "nbconvert_exporter": "python",
   "pygments_lexer": "ipython3",
   "version": "3.9.5"
  }
 },
 "nbformat": 4,
 "nbformat_minor": 2
}
