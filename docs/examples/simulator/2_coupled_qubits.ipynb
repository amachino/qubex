{
 "cells": [
  {
   "cell_type": "code",
   "execution_count": null,
   "metadata": {},
   "outputs": [],
   "source": [
    "from qubex.simulator import Control, Coupling, QuantumSimulator, QuantumSystem, Transmon"
   ]
  },
  {
   "cell_type": "code",
   "execution_count": null,
   "metadata": {},
   "outputs": [],
   "source": [
    "# Create the quantum system with two coupled transmon qubits\n",
    "\n",
    "qubits = [\n",
    "    Transmon(\n",
    "        label=\"Q01\",\n",
    "        dimension=3,\n",
    "        frequency=7.648,\n",
    "        anharmonicity=-0.33,\n",
    "        relaxation_rate=0.0,\n",
    "        dephasing_rate=0.0,\n",
    "    ),\n",
    "    Transmon(\n",
    "        label=\"Q02\",\n",
    "        dimension=3,\n",
    "        frequency=8.275,\n",
    "        anharmonicity=-0.33,\n",
    "        relaxation_rate=0.0,\n",
    "        dephasing_rate=0.0,\n",
    "    ),\n",
    "]\n",
    "\n",
    "system = QuantumSystem(\n",
    "    objects=qubits,\n",
    "    couplings=[\n",
    "        Coupling(\n",
    "            pair=(qubits[0].label, qubits[1].label),\n",
    "            strength=0.01,\n",
    "        ),\n",
    "    ],\n",
    ")\n",
    "\n",
    "simulator = QuantumSimulator(system)"
   ]
  },
  {
   "cell_type": "code",
   "execution_count": null,
   "metadata": {},
   "outputs": [],
   "source": [
    "# Blank control for 1000 ns\n",
    "control = Control(\n",
    "    target=qubits[0].label,\n",
    "    frequency=qubits[0].frequency,\n",
    "    waveform=[0],\n",
    "    durations=[1000],\n",
    ")\n",
    "control.plot()"
   ]
  },
  {
   "cell_type": "markdown",
   "metadata": {},
   "source": [
    "## Static ZZ interaction"
   ]
  },
  {
   "cell_type": "code",
   "execution_count": null,
   "metadata": {},
   "outputs": [],
   "source": [
    "result = simulator.mesolve(\n",
    "    controls=[control],\n",
    "    initial_state={\n",
    "        qubits[0].label: \"0\",\n",
    "        qubits[1].label: \"+\",\n",
    "    },\n",
    "    n_samples=101,\n",
    ")\n",
    "\n",
    "result.display_bloch_sphere(qubits[0].label)\n",
    "result.display_bloch_sphere(qubits[1].label)"
   ]
  },
  {
   "cell_type": "code",
   "execution_count": null,
   "metadata": {},
   "outputs": [],
   "source": [
    "result = simulator.mesolve(\n",
    "    controls=[control],\n",
    "    initial_state={\n",
    "        qubits[0].label: \"1\",\n",
    "        qubits[1].label: \"+\",\n",
    "    },\n",
    "    n_samples=101,\n",
    ")\n",
    "\n",
    "result.display_bloch_sphere(qubits[0].label)\n",
    "result.display_bloch_sphere(qubits[1].label)"
   ]
  },
  {
   "cell_type": "code",
   "execution_count": null,
   "metadata": {},
   "outputs": [],
   "source": [
    "result = simulator.mesolve(\n",
    "    controls=[control],\n",
    "    initial_state={\n",
    "        qubits[0].label: \"+\",\n",
    "        qubits[1].label: \"+\",\n",
    "    },\n",
    "    n_samples=101,\n",
    ")\n",
    "\n",
    "result.display_bloch_sphere(qubits[0].label)\n",
    "result.display_bloch_sphere(qubits[1].label)"
   ]
  }
 ],
 "metadata": {
  "kernelspec": {
   "display_name": ".venv",
   "language": "python",
   "name": "python3"
  },
  "language_info": {
   "codemirror_mode": {
    "name": "ipython",
    "version": 3
   },
   "file_extension": ".py",
   "mimetype": "text/x-python",
   "name": "python",
   "nbconvert_exporter": "python",
   "pygments_lexer": "ipython3",
   "version": "3.9.5"
  }
 },
 "nbformat": 4,
 "nbformat_minor": 2
}
