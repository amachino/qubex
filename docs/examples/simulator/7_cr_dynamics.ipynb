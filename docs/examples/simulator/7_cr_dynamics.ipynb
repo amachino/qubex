{
 "cells": [
  {
   "cell_type": "markdown",
   "metadata": {},
   "source": [
    "# Cross Resonance Dynamics"
   ]
  },
  {
   "cell_type": "code",
   "execution_count": null,
   "metadata": {},
   "outputs": [],
   "source": [
    "import numpy as np\n",
    "import qubex as qx\n",
    "from qubex.simulator import Control, Coupling, QuantumSimulator, QuantumSystem, Transmon"
   ]
  },
  {
   "cell_type": "markdown",
   "metadata": {},
   "source": [
    "#### $\\ket{n}_\\mathrm{L} \\otimes \\ket{n}_\\mathrm{H}$"
   ]
  },
  {
   "cell_type": "code",
   "execution_count": null,
   "metadata": {},
   "outputs": [],
   "source": [
    "qubit_L = Transmon(\n",
    "    label=\"Q00\",\n",
    "    dimension=4,\n",
    "    frequency=7.2,\n",
    "    anharmonicity=-7.2 / 19,\n",
    "    relaxation_rate=0.00005,\n",
    "    dephasing_rate=0.00005,\n",
    ")\n",
    "\n",
    "qubit_H = Transmon(\n",
    "    label=\"Q01\",\n",
    "    dimension=4,\n",
    "    frequency=8.0,\n",
    "    anharmonicity=-8.0 / 19,\n",
    "    relaxation_rate=0.00005,\n",
    "    dephasing_rate=0.00005,\n",
    ")\n",
    "\n",
    "system = QuantumSystem(\n",
    "    objects=[\n",
    "        qubit_L,\n",
    "        qubit_H,\n",
    "    ],\n",
    "    couplings=[\n",
    "        Coupling(\n",
    "            pair=(qubit_L.label, qubit_H.label),\n",
    "            strength=0.01,\n",
    "        ),\n",
    "    ],\n",
    ")\n",
    "\n",
    "simulator = QuantumSimulator(system)"
   ]
  },
  {
   "cell_type": "code",
   "execution_count": null,
   "metadata": {},
   "outputs": [],
   "source": [
    "amplitude = 0.5  # GHz\n",
    "duration = 200  # ns\n",
    "ramptime = 30  # ns\n",
    "\n",
    "pulse = qx.pulse.FlatTop(\n",
    "    duration=duration,\n",
    "    amplitude=2 * np.pi * amplitude,\n",
    "    tau=ramptime,\n",
    ")"
   ]
  },
  {
   "cell_type": "markdown",
   "metadata": {},
   "source": [
    "### A. LOW → HIGH\n",
    "\n",
    "- control qubit\n",
    "  - low frequency\n",
    "- target qubit\n",
    "  - high frequency"
   ]
  },
  {
   "cell_type": "code",
   "execution_count": null,
   "metadata": {},
   "outputs": [],
   "source": [
    "control_qubit = qubit_L\n",
    "target_qubit = qubit_H\n",
    "\n",
    "control = Control(\n",
    "    target=control_qubit.label,\n",
    "    frequency=target_qubit.frequency,\n",
    "    waveform=pulse,\n",
    ")\n",
    "control.plot()"
   ]
  },
  {
   "cell_type": "markdown",
   "metadata": {},
   "source": [
    "#### A.1. $\\ket{0}_\\mathrm{L} \\otimes \\ket{0}_\\mathrm{H}$"
   ]
  },
  {
   "cell_type": "code",
   "execution_count": null,
   "metadata": {},
   "outputs": [],
   "source": [
    "result = simulator.mesolve(\n",
    "    controls=[control],\n",
    "    initial_state={\n",
    "        qubit_L.label: \"0\",\n",
    "        qubit_H.label: \"0\",\n",
    "    },\n",
    ")\n",
    "\n",
    "result.plot_bloch_vectors(qubit_L.label)\n",
    "result.plot_bloch_vectors(qubit_H.label)\n",
    "\n",
    "result.display_bloch_sphere(qubit_L.label)\n",
    "result.display_bloch_sphere(qubit_H.label)\n",
    "\n",
    "result.plot_population_dynamics(qubit_L.label)\n",
    "result.plot_population_dynamics(qubit_H.label)\n",
    "result.plot_population_dynamics()"
   ]
  },
  {
   "cell_type": "markdown",
   "metadata": {},
   "source": [
    "#### A.2. $\\ket{1}_\\mathrm{L} \\otimes \\ket{0}_\\mathrm{H}$"
   ]
  },
  {
   "cell_type": "code",
   "execution_count": null,
   "metadata": {},
   "outputs": [],
   "source": [
    "result = simulator.mesolve(\n",
    "    controls=[control],\n",
    "    initial_state={\n",
    "        qubit_L.label: \"1\",\n",
    "        qubit_H.label: \"0\",\n",
    "    },\n",
    ")\n",
    "\n",
    "result.plot_bloch_vectors(qubit_L.label)\n",
    "result.plot_bloch_vectors(qubit_H.label)\n",
    "\n",
    "result.display_bloch_sphere(qubit_L.label)\n",
    "result.display_bloch_sphere(qubit_H.label)\n",
    "\n",
    "result.plot_population_dynamics(qubit_L.label)\n",
    "result.plot_population_dynamics(qubit_H.label)\n",
    "result.plot_population_dynamics()"
   ]
  },
  {
   "cell_type": "markdown",
   "metadata": {},
   "source": [
    "### B. HIGH → LOW\n",
    "\n",
    "- control qubit\n",
    "  - high frequency\n",
    "- target qubit\n",
    "  - low frequency"
   ]
  },
  {
   "cell_type": "code",
   "execution_count": null,
   "metadata": {},
   "outputs": [],
   "source": [
    "control_qubit = qubit_H\n",
    "target_qubit = qubit_L\n",
    "\n",
    "control = Control(\n",
    "    target=control_qubit.label,\n",
    "    frequency=target_qubit.frequency,\n",
    "    waveform=pulse,\n",
    ")\n",
    "control.plot()"
   ]
  },
  {
   "cell_type": "markdown",
   "metadata": {},
   "source": [
    "#### B.1. $\\ket{0}_\\mathrm{L} \\otimes \\ket{0}_\\mathrm{H}$"
   ]
  },
  {
   "cell_type": "code",
   "execution_count": null,
   "metadata": {},
   "outputs": [],
   "source": [
    "result = simulator.mesolve(\n",
    "    controls=[control],\n",
    "    initial_state={\n",
    "        qubit_L.label: \"0\",\n",
    "        qubit_H.label: \"0\",\n",
    "    }\n",
    ")\n",
    "\n",
    "result.plot_bloch_vectors(qubit_L.label)\n",
    "result.plot_bloch_vectors(qubit_H.label)\n",
    "\n",
    "result.display_bloch_sphere(qubit_L.label)\n",
    "result.display_bloch_sphere(qubit_H.label)\n",
    "\n",
    "result.plot_population_dynamics(qubit_L.label)\n",
    "result.plot_population_dynamics(qubit_H.label)\n",
    "result.plot_population_dynamics()"
   ]
  },
  {
   "cell_type": "markdown",
   "metadata": {},
   "source": [
    "#### B.2. $\\ket{0}_\\mathrm{L} \\otimes \\ket{1}_\\mathrm{H}$"
   ]
  },
  {
   "cell_type": "code",
   "execution_count": null,
   "metadata": {},
   "outputs": [],
   "source": [
    "result = simulator.mesolve(\n",
    "    controls=[control],\n",
    "    initial_state={\n",
    "        qubit_L.label: \"0\",\n",
    "        qubit_H.label: \"1\",\n",
    "    }\n",
    ")\n",
    "\n",
    "result.plot_bloch_vectors(qubit_L.label)\n",
    "result.plot_bloch_vectors(qubit_H.label)\n",
    "\n",
    "result.display_bloch_sphere(qubit_L.label)\n",
    "result.display_bloch_sphere(qubit_H.label)\n",
    "\n",
    "result.plot_population_dynamics(qubit_L.label)\n",
    "result.plot_population_dynamics(qubit_H.label)\n",
    "result.plot_population_dynamics()"
   ]
  }
 ],
 "metadata": {
  "kernelspec": {
   "display_name": ".venv",
   "language": "python",
   "name": "python3"
  },
  "language_info": {
   "codemirror_mode": {
    "name": "ipython",
    "version": 3
   },
   "file_extension": ".py",
   "mimetype": "text/x-python",
   "name": "python",
   "nbconvert_exporter": "python",
   "pygments_lexer": "ipython3",
   "version": "3.9.5"
  }
 },
 "nbformat": 4,
 "nbformat_minor": 2
}
