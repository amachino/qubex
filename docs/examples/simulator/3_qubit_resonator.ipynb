{
 "cells": [
  {
   "cell_type": "code",
   "execution_count": null,
   "metadata": {},
   "outputs": [],
   "source": [
    "import numpy as np\n",
    "import qutip as qt\n",
    "from qubex.simulator import (\n",
    "    Control,\n",
    "    Coupling,\n",
    "    QuantumSimulator,\n",
    "    QuantumSystem,\n",
    "    Qubit,\n",
    "    Resonator,\n",
    ")"
   ]
  },
  {
   "cell_type": "code",
   "execution_count": null,
   "metadata": {},
   "outputs": [],
   "source": [
    "# Create the quantum system with a qubit and a resonator (Jaynes-Cummings model)\n",
    "\n",
    "qubit = Qubit(\n",
    "    label=\"Q01\",\n",
    "    frequency=7.648,\n",
    ")\n",
    "\n",
    "resonator = Resonator(\n",
    "    label=\"R01\",\n",
    "    dimension=10,\n",
    "    frequency=10.123,\n",
    ")\n",
    "\n",
    "system = QuantumSystem(\n",
    "    objects=[qubit, resonator],\n",
    "    couplings=[\n",
    "        Coupling(\n",
    "            pair=(qubit.label, resonator.label),\n",
    "            strength=0.01,\n",
    "        ),\n",
    "    ],\n",
    ")\n",
    "\n",
    "simulator = QuantumSimulator(system)"
   ]
  },
  {
   "cell_type": "code",
   "execution_count": null,
   "metadata": {},
   "outputs": [],
   "source": [
    "system.hamiltonian"
   ]
  },
  {
   "cell_type": "code",
   "execution_count": null,
   "metadata": {},
   "outputs": [],
   "source": [
    "control = Control(\n",
    "    target=resonator.label,\n",
    "    frequency=qubit.frequency,\n",
    "    waveform=[2 * np.pi * 0.5] * 1000,\n",
    "    durations=[1.0] * 1000,\n",
    ")\n",
    "control.plot()"
   ]
  },
  {
   "cell_type": "code",
   "execution_count": null,
   "metadata": {},
   "outputs": [],
   "source": [
    "result = simulator.mesolve(\n",
    "    controls=[control],\n",
    "    initial_state={\n",
    "        \"Q01\": qt.basis(2, 0),\n",
    "        \"R01\": qt.basis(10, 0),\n",
    "    },\n",
    ")"
   ]
  },
  {
   "cell_type": "code",
   "execution_count": null,
   "metadata": {},
   "outputs": [],
   "source": [
    "result.plot_population_dynamics(qubit.label)\n",
    "result.plot_population_dynamics(resonator.label)"
   ]
  },
  {
   "cell_type": "code",
   "execution_count": null,
   "metadata": {},
   "outputs": [],
   "source": [
    "result.display_bloch_sphere(qubit.label)"
   ]
  }
 ],
 "metadata": {
  "kernelspec": {
   "display_name": ".venv",
   "language": "python",
   "name": "python3"
  },
  "language_info": {
   "codemirror_mode": {
    "name": "ipython",
    "version": 3
   },
   "file_extension": ".py",
   "mimetype": "text/x-python",
   "name": "python",
   "nbconvert_exporter": "python",
   "pygments_lexer": "ipython3",
   "version": "3.9.5"
  }
 },
 "nbformat": 4,
 "nbformat_minor": 2
}
