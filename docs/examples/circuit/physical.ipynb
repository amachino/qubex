{
 "cells": [
  {
   "cell_type": "code",
   "execution_count": 1,
   "metadata": {},
   "outputs": [],
   "source": [
    "from qubex.circuit.physical import PhysicalBackend"
   ]
  },
  {
   "cell_type": "code",
   "execution_count": 10,
   "metadata": {},
   "outputs": [
    {
     "name": "stdout",
     "output_type": "stream",
     "text": [
      "========================================\n",
      "date: 2025-01-30 20:30:09\n",
      "python: 3.10.12\n",
      "qubex: 1.2.6+a5b7255\n",
      "env: /home/edge/work/qubex/.venv\n",
      "config: /home/shared/config\n",
      "params: /home/shared/config\n",
      "chip: 64Q\n",
      "qubits: ['Q05', 'Q07']\n",
      "muxes: ['MUX01']\n",
      "boxes: ['U15A']\n",
      "========================================\n",
      "U15A  : Linked up\n"
     ]
    }
   ],
   "source": [
    "nodes = [\"Q05\",\"Q07\"]\n",
    "edges =  [\"Q05-Q07\"]\n",
    "backend = PhysicalBackend(chip_id=\"64Q\", nodes=nodes, edges=edges)\n",
    "\n",
    "qasm_program = \"\"\"\n",
    "OPENQASM 3;\n",
    "include \"stdgates.inc\";\n",
    "qubit[2] q;\n",
    "bit[2] c;\n",
    "rz(1.5708) q[0];\n",
    "sx q[0];\n",
    "rz(1.5708) q[0];\n",
    "cx q[0], q[1];\n",
    "c[0] = measure q[0];\n",
    "c[1] = measure q[1];\n",
    "\"\"\"\n",
    "\n",
    "backend.load_program(qasm_program)"
   ]
  },
  {
   "cell_type": "code",
   "execution_count": 4,
   "metadata": {},
   "outputs": [
    {
     "data": {
      "text/plain": [
       "<qubex.pulse.pulse_schedule.PulseSchedule at 0x7ff116d36740>"
      ]
     },
     "execution_count": 4,
     "metadata": {},
     "output_type": "execute_result"
    }
   ],
   "source": [
    "backend.get_circuit()"
   ]
  },
  {
   "cell_type": "code",
   "execution_count": 6,
   "metadata": {},
   "outputs": [
    {
     "name": "stdout",
     "output_type": "stream",
     "text": [
      "Key 'state_centers' updated: changed from '{'Q05': {'0': (-0.00015661718528170893, 0.0013533583105281926), '1': (0.0010954942870154926, 0.0008152231874029358)}, 'Q07': {'0': (0.0016959441801999808, 0.0007848929922795269), '1': (0.001775514373807223, -0.00025013561537503946)}, 'Q21': {'0': [-0.00038478982004459236, -3.603623900999458e-05], '1': [-0.00023970041463455008, 0.00023496832987685584]}, 'Q23': {'0': [-0.0003635884799089105, 1.479654925383144e-05], '1': [-0.00016274163632992126, 0.00026529803048361386]}, 'Q20': {'0': [-0.0005864921622114562, -0.0003274322577478448], '1': [-0.0004887115051618505, 0.0002637111649833357]}, 'Q22': {'0': [0.00030197076079125897, -0.000519784560966904], '1': [-5.6155449026428284e-05, -0.0005761847895422882]}}' to '{'Q05': {'0': (-0.00015661718528170893, 0.0013533583105281926), '1': (0.0010954942870154926, 0.0008152231874029358)}, 'Q07': {'0': (0.0016959441801999808, 0.0007848929922795269), '1': (0.001775514373807223, -0.00025013561537503946)}, 'Q21': {'0': [-0.00038478982004459236, -3.603623900999458e-05], '1': [-0.00023970041463455008, 0.00023496832987685584]}, 'Q23': {'0': [-0.0003635884799089105, 1.479654925383144e-05], '1': [-0.00016274163632992126, 0.00026529803048361386]}, 'Q20': {'0': [-0.0005864921622114562, -0.0003274322577478448], '1': [-0.0004887115051618505, 0.0002637111649833357]}, 'Q22': {'0': [0.00030197076079125897, -0.000519784560966904], '1': [-5.6155449026428284e-05, -0.0005761847895422882]}}'.\n"
     ]
    }
   ],
   "source": [
    "result = backend.execute()"
   ]
  },
  {
   "cell_type": "code",
   "execution_count": 7,
   "metadata": {},
   "outputs": [
    {
     "data": {
      "text/plain": [
       "{'00': 0.3974609375, '01': 0.125, '10': 0.15234375, '11': 0.3251953125}"
      ]
     },
     "execution_count": 7,
     "metadata": {},
     "output_type": "execute_result"
    }
   ],
   "source": [
    "result.probabilities"
   ]
  },
  {
   "cell_type": "code",
   "execution_count": 8,
   "metadata": {},
   "outputs": [
    {
     "data": {
      "text/plain": [
       "{0: 'Q05', 1: 'Q07'}"
      ]
     },
     "execution_count": 8,
     "metadata": {},
     "output_type": "execute_result"
    }
   ],
   "source": [
    "backend.virtual_to_physical"
   ]
  },
  {
   "cell_type": "code",
   "execution_count": null,
   "metadata": {},
   "outputs": [],
   "source": []
  },
  {
   "cell_type": "code",
   "execution_count": null,
   "metadata": {},
   "outputs": [],
   "source": [
    "result.probabilities"
   ]
  },
  {
   "cell_type": "code",
   "execution_count": null,
   "metadata": {},
   "outputs": [],
   "source": []
  }
 ],
 "metadata": {
  "kernelspec": {
   "display_name": ".venv",
   "language": "python",
   "name": "python3"
  },
  "language_info": {
   "codemirror_mode": {
    "name": "ipython",
    "version": 3
   },
   "file_extension": ".py",
   "mimetype": "text/x-python",
   "name": "python",
   "nbconvert_exporter": "python",
   "pygments_lexer": "ipython3",
   "version": "3.10.12"
  }
 },
 "nbformat": 4,
 "nbformat_minor": 2
}
