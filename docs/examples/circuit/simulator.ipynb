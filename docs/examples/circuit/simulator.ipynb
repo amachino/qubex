{
 "cells": [
  {
   "cell_type": "code",
   "execution_count": 1,
   "metadata": {},
   "outputs": [
    {
     "name": "stdout",
     "output_type": "stream",
     "text": [
      "Note: you may need to restart the kernel to use updated packages.\n"
     ]
    }
   ],
   "source": [
    "%pip install -q tranqu python-json-logger qulacsvis\n",
    "# %pip install -q git+https://github.com/softwareQinc/staq\n",
    "# %pip install ouqu-tp"
   ]
  },
  {
   "cell_type": "markdown",
   "metadata": {},
   "source": [
    "## Logging set up"
   ]
  },
  {
   "cell_type": "code",
   "execution_count": 2,
   "metadata": {},
   "outputs": [],
   "source": [
    "import sys\n",
    "import logging\n",
    "from pythonjsonlogger import jsonlogger\n",
    "\n",
    "class QubexFilter(logging.Filter):\n",
    "    def filter(self, record):\n",
    "        return record.name.startswith(\"qubex\")\n",
    "\n",
    "logger = logging.getLogger()\n",
    "logger.setLevel(logging.DEBUG)\n",
    "\n",
    "handler = logging.StreamHandler(sys.stdout)\n",
    "handler.setLevel(logging.DEBUG)\n",
    "\n",
    "log_format = '%(asctime)s %(name)s %(levelname)s %(message)s'\n",
    "formatter = jsonlogger.JsonFormatter(log_format)\n",
    "handler.setFormatter(formatter)\n",
    "\n",
    "handler.addFilter(QubexFilter())\n",
    "logger.addHandler(handler)"
   ]
  },
  {
   "cell_type": "markdown",
   "metadata": {},
   "source": [
    "## Transpile with Tranqu"
   ]
  },
  {
   "cell_type": "code",
   "execution_count": 3,
   "metadata": {},
   "outputs": [],
   "source": [
    "from qubex.circuit.qulacs import QulacsBackend\n",
    "from tranqu import Tranqu"
   ]
  },
  {
   "cell_type": "markdown",
   "metadata": {},
   "source": [
    "## Define calibration data"
   ]
  },
  {
   "cell_type": "code",
   "execution_count": 4,
   "metadata": {},
   "outputs": [],
   "source": [
    "oqtopus_device ={\n",
    "  \"name\": \"1\",\n",
    "  \"qubits\": [\n",
    "    {\n",
    "      \"id\": 0,\n",
    "      \"physical_id\": 5,\n",
    "      \"position\": {\n",
    "        \"x\": 3,\n",
    "        \"y\": 0\n",
    "      },\n",
    "      \"fidelity\": 99.0,\n",
    "      \"meas_error\": {\n",
    "        \"prob_meas1_prep0\": 0.0,\n",
    "        \"prob_meas0_prep1\": 0.0\n",
    "      },\n",
    "      \"qubit_lifetime\": {\n",
    "        \"t1\": 0.0,\n",
    "        \"t2\": 0.0\n",
    "      },\n",
    "      \"gate_duration\": {\n",
    "        \"rz\": 0,\n",
    "        \"sx\": 0,\n",
    "        \"x\": 0\n",
    "      }\n",
    "    },\n",
    "    {\n",
    "      \"id\": 1,\n",
    "      \"physical_id\": 7,\n",
    "      \"position\": {\n",
    "        \"x\": 3,\n",
    "        \"y\": -1\n",
    "      },\n",
    "      \"fidelity\": 99.0,\n",
    "      \"meas_error\": {\n",
    "        \"prob_meas1_prep0\": 0.0,\n",
    "        \"prob_meas0_prep1\": 0.0\n",
    "      },\n",
    "      \"qubit_lifetime\": {\n",
    "        \"t1\": 0.0,\n",
    "        \"t2\": 0.0\n",
    "      },\n",
    "      \"gate_duration\": {\n",
    "        \"rz\": 0,\n",
    "        \"sx\": 0,\n",
    "        \"x\": 0\n",
    "      }\n",
    "    }\n",
    "  ],\n",
    "  \"couplings\": [\n",
    "    {\n",
    "      \"control\": 0,\n",
    "      \"target\": 1,\n",
    "      \"fidelity\": 99.0,\n",
    "      \"gate_duration\": {\n",
    "        \"cx\": 0,\n",
    "        \"rzx90\": 0\n",
    "      }\n",
    "    }\n",
    "  ],\n",
    "  \"timestamp\": \"2025-02-06 23:34:15.157724\"\n",
    "}"
   ]
  },
  {
   "cell_type": "code",
   "execution_count": 5,
   "metadata": {},
   "outputs": [],
   "source": [
    "program = \"\"\"OPENQASM 3.0;\n",
    "include \"stdgates.inc\";\n",
    "qubit[2] q;\n",
    "\n",
    "h q[0];\n",
    "cx q[0], q[1];\n",
    "\"\"\"\n",
    "options = {\n",
    "    \"basis_gates\": [ \"sx\", \"x\", \"rz\", \"cx\"]\n",
    "}\n",
    "\n",
    "tranqu = Tranqu()\n",
    "result = tranqu.transpile(\n",
    "    program=program,\n",
    "    transpiler_lib=\"qiskit\",\n",
    "    program_lib=\"openqasm3\",\n",
    "    transpiler_options=options,\n",
    "    device=oqtopus_device,\n",
    "    device_lib=\"oqtopus\",\n",
    ")\n"
   ]
  },
  {
   "cell_type": "code",
   "execution_count": 6,
   "metadata": {},
   "outputs": [
    {
     "name": "stdout",
     "output_type": "stream",
     "text": [
      "OPENQASM 3.0;\n",
      "include \"stdgates.inc\";\n",
      "rz(pi/2) $0;\n",
      "sx $0;\n",
      "rz(pi/2) $0;\n",
      "cx $0, $1;\n",
      "\n"
     ]
    }
   ],
   "source": [
    "qasm_program = result.transpiled_program\n",
    "print(qasm_program)"
   ]
  },
  {
   "cell_type": "code",
   "execution_count": 7,
   "metadata": {},
   "outputs": [],
   "source": [
    "def virtual_physical_map(device_topology_json: dict):\n",
    "\tdevice_topology = device_topology_json\n",
    "\tqubits = {\n",
    "\t\tqubit[\"id\"]: qubit[\"physical_id\"] for qubit in device_topology[\"qubits\"]\n",
    "\t}\n",
    "\tcouplings = {\n",
    "\t\t(c[\"control\"], c[\"target\"]): (qubits[c[\"control\"]], qubits[c[\"target\"]])\n",
    "\t\tfor c in device_topology[\"couplings\"]\n",
    "\t}\n",
    "\treturn {\"qubits\": qubits, \"couplings\": couplings}"
   ]
  },
  {
   "cell_type": "markdown",
   "metadata": {},
   "source": [
    "## Create virtual-physical mapping from calibration data"
   ]
  },
  {
   "cell_type": "code",
   "execution_count": 8,
   "metadata": {},
   "outputs": [
    {
     "name": "stdout",
     "output_type": "stream",
     "text": [
      "{'qubits': {0: 5, 1: 7}, 'couplings': {(0, 1): (5, 7)}}\n"
     ]
    }
   ],
   "source": [
    "_virtual_physical_map = virtual_physical_map(oqtopus_device)\n",
    "print(_virtual_physical_map)"
   ]
  },
  {
   "cell_type": "markdown",
   "metadata": {},
   "source": [
    "## Define Qulacs Backend and Load OpenQASM3"
   ]
  },
  {
   "cell_type": "code",
   "execution_count": 9,
   "metadata": {},
   "outputs": [
    {
     "name": "stdout",
     "output_type": "stream",
     "text": [
      "{\"asctime\": \"2025-02-09 21:16:33,820\", \"name\": \"qubex.circuit.base\", \"levelname\": \"INFO\", \"message\": \"Loading QASM 3 program: OPENQASM 3.0;\\ninclude \\\"stdgates.inc\\\";\\nrz(pi/2) $0;\\nsx $0;\\nrz(pi/2) $0;\\ncx $0, $1;\\n, job_id=test_job\"}\n"
     ]
    }
   ],
   "source": [
    "backend = QulacsBackend(virtual_physical_map=_virtual_physical_map)\n",
    "backend.load_program(qasm_program)\n"
   ]
  },
  {
   "cell_type": "code",
   "execution_count": 10,
   "metadata": {},
   "outputs": [
    {
     "name": "stdout",
     "output_type": "stream",
     "text": [
      "{\"asctime\": \"2025-02-09 21:16:34,984\", \"name\": \"qubex.circuit.qulacs\", \"levelname\": \"INFO\", \"message\": \"QASM 3 program: OPENQASM 3.0;\\ninclude \\\"stdgates.inc\\\";\\nrz(pi/2) $0;\\nsx $0;\\nrz(pi/2) $0;\\ncx $0, $1;\\n, job_id=test_job\"}\n",
      "{\"asctime\": \"2025-02-09 21:16:34,994\", \"name\": \"qubex.circuit.base\", \"levelname\": \"DEBUG\", \"message\": \"Applying RZ gate: 0, Physical qubit: 5, angle=1.5707963267948966, job_id=test_job\"}\n",
      "{\"asctime\": \"2025-02-09 21:16:34,995\", \"name\": \"qubex.circuit.base\", \"levelname\": \"DEBUG\", \"message\": \"Applying X90 gate: 0, Physical qubit: 5, job_id=test_job\"}\n",
      "{\"asctime\": \"2025-02-09 21:16:34,995\", \"name\": \"qubex.circuit.base\", \"levelname\": \"DEBUG\", \"message\": \"Applying RZ gate: 0, Physical qubit: 5, angle=1.5707963267948966, job_id=test_job\"}\n",
      "{\"asctime\": \"2025-02-09 21:16:34,995\", \"name\": \"qubex.circuit.base\", \"levelname\": \"DEBUG\", \"message\": \"Applying CNOT gate: 0 -> 1, Physical qubits: 5 -> 7, job_id=test_job\"}\n",
      "{\"asctime\": \"2025-02-09 21:16:34,995\", \"name\": \"qubex.circuit.qulacs\", \"levelname\": \"INFO\", \"message\": \"Compilation complete, job_id=test_job\"}\n"
     ]
    }
   ],
   "source": [
    "backend.compile()"
   ]
  },
  {
   "cell_type": "code",
   "execution_count": 11,
   "metadata": {},
   "outputs": [
    {
     "name": "stdout",
     "output_type": "stream",
     "text": [
      "   ___     ___     ___           \n",
      "  |RZ |   |sqX|   |RZ |          \n",
      "--|   |---|   |---|   |-----●----\n",
      "  |___|   |___|   |___|     |    \n",
      "                           _|_   \n",
      "                          |CX |  \n",
      "--------------------------|   |--\n",
      "                          |___|  \n"
     ]
    }
   ],
   "source": [
    "from qulacsvis import circuit_drawer\n",
    "circuit_drawer(backend.get_circuit)"
   ]
  },
  {
   "cell_type": "code",
   "execution_count": 12,
   "metadata": {},
   "outputs": [
    {
     "name": "stdout",
     "output_type": "stream",
     "text": [
      "{\"asctime\": \"2025-02-09 21:16:37,591\", \"name\": \"qubex.circuit.qulacs\", \"levelname\": \"INFO\", \"message\": \"Executing quantum circuit with 1024 shots\"}\n",
      "{\"asctime\": \"2025-02-09 21:16:37,592\", \"name\": \"qubex.circuit.qulacs\", \"levelname\": \"INFO\", \"message\": \"Execution complete, counts: {'11': 507, '00': 517}, job_id=test_job\"}\n",
      "{'11': 507, '00': 517}\n"
     ]
    }
   ],
   "source": [
    "result = backend.execute()\n",
    "print(backend.result)"
   ]
  },
  {
   "cell_type": "code",
   "execution_count": 13,
   "metadata": {},
   "outputs": [
    {
     "data": {
      "image/png": "[encoded data removed]",
      "text/plain": [
       "<Figure size 640x480 with 1 Axes>"
      ]
     },
     "execution_count": 13,
     "metadata": {},
     "output_type": "execute_result"
    }
   ],
   "source": [
    "backend.plot_histogram()"
   ]
  },
  {
   "cell_type": "code",
   "execution_count": null,
   "metadata": {},
   "outputs": [],
   "source": []
  }
 ],
 "metadata": {
  "kernelspec": {
   "display_name": ".venv",
   "language": "python",
   "name": "python3"
  },
  "language_info": {
   "codemirror_mode": {
    "name": "ipython",
    "version": 3
   },
   "file_extension": ".py",
   "mimetype": "text/x-python",
   "name": "python",
   "nbconvert_exporter": "python",
   "pygments_lexer": "ipython3",
   "version": "3.10.12"
  }
 },
 "nbformat": 4,
 "nbformat_minor": 2
}
