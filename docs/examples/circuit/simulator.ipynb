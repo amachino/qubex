{
 "cells": [
  {
   "cell_type": "code",
   "execution_count": 1,
   "metadata": {},
   "outputs": [],
   "source": [
    "from qubex.circuit.simulator import SimulatorBackend"
   ]
  },
  {
   "cell_type": "code",
   "execution_count": 2,
   "metadata": {},
   "outputs": [],
   "source": [
    "# virtual_physical_map = {'qubits': {0: 5, 1: 7}, 'couplings': {(1, 0): (7, 5)}}\n",
    "\n",
    "virtual_physical_map={\n",
    "\t\"qubits\": {0: 5, 1: 7},\n",
    "\t\"couplings\": {(0, 1): (5, 7), (1, 0): (7, 5)},\n",
    "}\n",
    "backend = SimulatorBackend(virtual_physical_map=virtual_physical_map)\n",
    "\n",
    "qasm_program = \"\"\"\n",
    "OPENQASM 3;\n",
    "include \"stdgates.inc\";\n",
    "qubit[2] q;\n",
    "bit[2] c;\n",
    "rz(1.5708) q[0];\n",
    "sx q[0];\n",
    "rz(1.5708) q[0];\n",
    "cx q[0], q[1];\n",
    "c[0] = measure q[0];\n",
    "c[1] = measure q[1];\n",
    "\"\"\"\n",
    "\n",
    "backend.load_program(qasm_program)"
   ]
  },
  {
   "cell_type": "code",
   "execution_count": 3,
   "metadata": {},
   "outputs": [
    {
     "data": {
      "text/plain": [
       "['Q05', 'Q07']"
      ]
     },
     "execution_count": 3,
     "metadata": {},
     "output_type": "execute_result"
    }
   ],
   "source": [
    "backend.qubits"
   ]
  },
  {
   "cell_type": "code",
   "execution_count": 4,
   "metadata": {},
   "outputs": [
    {
     "data": {
      "text/plain": [
       "['Q07-Q05']"
      ]
     },
     "execution_count": 4,
     "metadata": {},
     "output_type": "execute_result"
    }
   ],
   "source": [
    "backend.couplings"
   ]
  },
  {
   "cell_type": "code",
   "execution_count": 5,
   "metadata": {},
   "outputs": [
    {
     "data": {
      "text/plain": [
       "{0: 'Q05', 1: 'Q07'}"
      ]
     },
     "execution_count": 5,
     "metadata": {},
     "output_type": "execute_result"
    }
   ],
   "source": [
    "backend.virtual_to_physical"
   ]
  },
  {
   "cell_type": "code",
   "execution_count": 6,
   "metadata": {},
   "outputs": [
    {
     "data": {
      "text/plain": [
       "{'Q05': 0, 'Q07': 1}"
      ]
     },
     "execution_count": 6,
     "metadata": {},
     "output_type": "execute_result"
    }
   ],
   "source": [
    "backend.physical_to_virtual"
   ]
  },
  {
   "cell_type": "code",
   "execution_count": 7,
   "metadata": {},
   "outputs": [],
   "source": [
    "result = backend.execute()"
   ]
  },
  {
   "cell_type": "code",
   "execution_count": 8,
   "metadata": {},
   "outputs": [
    {
     "data": {
      "text/plain": [
       "{'00': 512, '11': 512}"
      ]
     },
     "execution_count": 8,
     "metadata": {},
     "output_type": "execute_result"
    }
   ],
   "source": [
    "result"
   ]
  },
  {
   "cell_type": "code",
   "execution_count": 7,
   "metadata": {},
   "outputs": [
    {
     "data": {
      "text/plain": [
       "{'00': 455, '01': 0, '10': 0, '11': 545}"
      ]
     },
     "execution_count": 7,
     "metadata": {},
     "output_type": "execute_result"
    }
   ],
   "source": [
    "from qubex.circuit.dummy import DummyBackend\n",
    "nodes = [\"Q05\",\"Q07\"]\n",
    "edges =  [\"Q05-Q07\"]\n",
    "backend = DummyBackend(chip_id=\"64Q\", nodes=nodes, edges=edges)\n",
    "\n",
    "qasm_program = \"\"\"\n",
    "OPENQASM 3;\n",
    "include \"stdgates.inc\";\n",
    "qubit[2] q;\n",
    "bit[2] c;\n",
    "rz(1.5708) q[0];\n",
    "sx q[0];\n",
    "rz(1.5708) q[0];\n",
    "cx q[0], q[1];\n",
    "c[0] = measure q[0];\n",
    "c[1] = measure q[1];\n",
    "\"\"\"\n",
    "\n",
    "backend.load_program(qasm_program)\n",
    "backend.execute()"
   ]
  },
  {
   "cell_type": "code",
   "execution_count": null,
   "metadata": {},
   "outputs": [],
   "source": [
    "result"
   ]
  },
  {
   "cell_type": "code",
   "execution_count": null,
   "metadata": {},
   "outputs": [],
   "source": [
    "result = backend.execute()"
   ]
  },
  {
   "cell_type": "code",
   "execution_count": null,
   "metadata": {},
   "outputs": [],
   "source": [
    "result.probabilities"
   ]
  },
  {
   "cell_type": "code",
   "execution_count": null,
   "metadata": {},
   "outputs": [],
   "source": [
    "backend.virtual_to_physical"
   ]
  },
  {
   "cell_type": "code",
   "execution_count": null,
   "metadata": {},
   "outputs": [],
   "source": []
  },
  {
   "cell_type": "code",
   "execution_count": null,
   "metadata": {},
   "outputs": [],
   "source": [
    "result.probabilities"
   ]
  },
  {
   "cell_type": "code",
   "execution_count": null,
   "metadata": {},
   "outputs": [],
   "source": []
  }
 ],
 "metadata": {
  "kernelspec": {
   "display_name": ".venv",
   "language": "python",
   "name": "python3"
  },
  "language_info": {
   "codemirror_mode": {
    "name": "ipython",
    "version": 3
   },
   "file_extension": ".py",
   "mimetype": "text/x-python",
   "name": "python",
   "nbconvert_exporter": "python",
   "pygments_lexer": "ipython3",
   "version": "3.10.12"
  }
 },
 "nbformat": 4,
 "nbformat_minor": 2
}
