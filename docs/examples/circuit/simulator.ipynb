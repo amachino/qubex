{
 "cells": [
  {
   "cell_type": "code",
   "execution_count": 53,
   "metadata": {},
   "outputs": [
    {
     "name": "stdout",
     "output_type": "stream",
     "text": [
      "Note: you may need to restart the kernel to use updated packages.\n"
     ]
    }
   ],
   "source": [
    "%pip install -q tranqu"
   ]
  },
  {
   "cell_type": "code",
   "execution_count": 54,
   "metadata": {},
   "outputs": [],
   "source": [
    "from qubex.circuit.simulator import SimulatorBackend\n",
    "from tranqu import Tranqu"
   ]
  },
  {
   "cell_type": "code",
   "execution_count": 30,
   "metadata": {},
   "outputs": [],
   "source": [
    "oqtopus_device ={\n",
    "  \"name\": \"1\",\n",
    "  \"qubits\": [\n",
    "    {\n",
    "      \"id\": 0,\n",
    "      \"physical_id\": 5,\n",
    "      \"position\": {\n",
    "        \"x\": 3,\n",
    "        \"y\": 0\n",
    "      },\n",
    "      \"fidelity\": 0.0,\n",
    "      \"meas_error\": {\n",
    "        \"prob_meas1_prep0\": 0.0,\n",
    "        \"prob_meas0_prep1\": 0.0\n",
    "      },\n",
    "      \"qubit_lifetime\": {\n",
    "        \"t1\": 0.0,\n",
    "        \"t2\": 0.0\n",
    "      },\n",
    "      \"gate_duration\": {\n",
    "        \"rz\": 0,\n",
    "        \"sx\": 0,\n",
    "        \"x\": 0\n",
    "      }\n",
    "    },\n",
    "    {\n",
    "      \"id\": 1,\n",
    "      \"physical_id\": 7,\n",
    "      \"position\": {\n",
    "        \"x\": 3,\n",
    "        \"y\": -1\n",
    "      },\n",
    "      \"fidelity\": 0.0,\n",
    "      \"meas_error\": {\n",
    "        \"prob_meas1_prep0\": 0.0,\n",
    "        \"prob_meas0_prep1\": 0.0\n",
    "      },\n",
    "      \"qubit_lifetime\": {\n",
    "        \"t1\": 0.0,\n",
    "        \"t2\": 0.0\n",
    "      },\n",
    "      \"gate_duration\": {\n",
    "        \"rz\": 0,\n",
    "        \"sx\": 0,\n",
    "        \"x\": 0\n",
    "      }\n",
    "    }\n",
    "  ],\n",
    "  \"couplings\": [\n",
    "    {\n",
    "      \"control\": 0,\n",
    "      \"target\": 1,\n",
    "      \"fidelity\": 0.0,\n",
    "      \"gate_duration\": {\n",
    "        \"cx\": 0,\n",
    "        \"rzx90\": 0\n",
    "      }\n",
    "    }\n",
    "  ],\n",
    "  \"timestamp\": \"2025-02-06 23:34:15.157724\"\n",
    "}"
   ]
  },
  {
   "cell_type": "code",
   "execution_count": 52,
   "metadata": {},
   "outputs": [
    {
     "name": "stderr",
     "output_type": "stream",
     "text": [
      "Traceback (most recent call last):\n",
      "  File \"/home/edge/work/qubex/.venv/bin/ouqu-tp\", line 8, in <module>\n",
      "    sys.exit(main())\n",
      "  File \"/home/edge/work/qubex/.venv/lib/python3.10/site-packages/ouqu_tp/cli/main.py\", line 43, in main\n",
      "    raise Exception(\n",
      "Exception: [ERROR] staq seems to be not installed.\n",
      "please install staq from https://github.com/softwareQinc/staq\n",
      "Traceback (most recent call last):\n",
      "  File \"/home/edge/work/qubex/.venv/lib/python3.10/site-packages/ouqu_tp/servicers/ouqu_tp.py\", line 35, in transpile\n",
      "    result, mapping = ouqu(qasm, cn_json)\n",
      "  File \"/home/edge/work/qubex/.venv/lib/python3.10/site-packages/ouqu_tp/servicers/exec_ouqu.py\", line 185, in ouqu\n",
      "    result = exec_ouqu(qasm_str, device_topology_json)\n",
      "  File \"/home/edge/work/qubex/.venv/lib/python3.10/site-packages/ouqu_tp/servicers/exec_ouqu.py\", line 164, in exec_ouqu\n",
      "    raise Exception(subprocess_output.stderr)\n",
      "Exception: Traceback (most recent call last):\n",
      "  File \"/home/edge/work/qubex/.venv/bin/ouqu-tp\", line 8, in <module>\n",
      "    sys.exit(main())\n",
      "  File \"/home/edge/work/qubex/.venv/lib/python3.10/site-packages/ouqu_tp/cli/main.py\", line 43, in main\n",
      "    raise Exception(\n",
      "Exception: [ERROR] staq seems to be not installed.\n",
      "please install staq from https://github.com/softwareQinc/staq\n",
      "\n"
     ]
    },
    {
     "ename": "AttributeError",
     "evalue": "'NoneType' object has no attribute 'line'",
     "output_type": "error",
     "traceback": [
      "\u001b[0;31m---------------------------------------------------------------------------\u001b[0m",
      "\u001b[0;31mAttributeError\u001b[0m                            Traceback (most recent call last)",
      "Cell \u001b[0;32mIn[52], line 13\u001b[0m\n\u001b[1;32m      8\u001b[0m options \u001b[38;5;241m=\u001b[39m {\n\u001b[1;32m      9\u001b[0m     \u001b[38;5;124m\"\u001b[39m\u001b[38;5;124mbasis_gates\u001b[39m\u001b[38;5;124m\"\u001b[39m: [ \u001b[38;5;124m\"\u001b[39m\u001b[38;5;124msx\u001b[39m\u001b[38;5;124m\"\u001b[39m, \u001b[38;5;124m\"\u001b[39m\u001b[38;5;124mx\u001b[39m\u001b[38;5;124m\"\u001b[39m, \u001b[38;5;124m\"\u001b[39m\u001b[38;5;124mrz\u001b[39m\u001b[38;5;124m\"\u001b[39m, \u001b[38;5;124m\"\u001b[39m\u001b[38;5;124mcx\u001b[39m\u001b[38;5;124m\"\u001b[39m]\n\u001b[1;32m     10\u001b[0m }\n\u001b[1;32m     12\u001b[0m tranqu \u001b[38;5;241m=\u001b[39m Tranqu()\n\u001b[0;32m---> 13\u001b[0m result \u001b[38;5;241m=\u001b[39m \u001b[43mtranqu\u001b[49m\u001b[38;5;241;43m.\u001b[39;49m\u001b[43mtranspile\u001b[49m\u001b[43m(\u001b[49m\n\u001b[1;32m     14\u001b[0m \u001b[43m    \u001b[49m\u001b[43mprogram\u001b[49m\u001b[38;5;241;43m=\u001b[39;49m\u001b[43mprogram\u001b[49m\u001b[43m,\u001b[49m\n\u001b[1;32m     15\u001b[0m \u001b[43m    \u001b[49m\u001b[43mprogram_lib\u001b[49m\u001b[38;5;241;43m=\u001b[39;49m\u001b[38;5;124;43m\"\u001b[39;49m\u001b[38;5;124;43mopenqasm3\u001b[39;49m\u001b[38;5;124;43m\"\u001b[39;49m\u001b[43m,\u001b[49m\n\u001b[1;32m     16\u001b[0m \u001b[43m    \u001b[49m\u001b[43mtranspiler_lib\u001b[49m\u001b[38;5;241;43m=\u001b[39;49m\u001b[38;5;124;43m\"\u001b[39;49m\u001b[38;5;124;43mouqu-tp\u001b[39;49m\u001b[38;5;124;43m\"\u001b[39;49m\u001b[43m,\u001b[49m\n\u001b[1;32m     17\u001b[0m \u001b[43m    \u001b[49m\u001b[43mtranspiler_options\u001b[49m\u001b[38;5;241;43m=\u001b[39;49m\u001b[43moptions\u001b[49m\u001b[43m,\u001b[49m\n\u001b[1;32m     18\u001b[0m \u001b[43m    \u001b[49m\u001b[43mdevice\u001b[49m\u001b[38;5;241;43m=\u001b[39;49m\u001b[43moqtopus_device\u001b[49m\u001b[43m,\u001b[49m\n\u001b[1;32m     19\u001b[0m \u001b[43m    \u001b[49m\u001b[43mdevice_lib\u001b[49m\u001b[38;5;241;43m=\u001b[39;49m\u001b[38;5;124;43m\"\u001b[39;49m\u001b[38;5;124;43moqtopus\u001b[39;49m\u001b[38;5;124;43m\"\u001b[39;49m\u001b[43m,\u001b[49m\n\u001b[1;32m     20\u001b[0m \u001b[43m)\u001b[49m\n",
      "File \u001b[0;32m~/work/qubex/.venv/lib/python3.10/site-packages/tranqu/tranqu.py:165\u001b[0m, in \u001b[0;36mTranqu.transpile\u001b[0;34m(self, program, program_lib, transpiler_lib, transpiler_options, device, device_lib)\u001b[0m\n\u001b[1;32m    141\u001b[0m \u001b[38;5;250m\u001b[39m\u001b[38;5;124;03m\"\"\"Transpile the program using the specified transpiler.\u001b[39;00m\n\u001b[1;32m    142\u001b[0m \n\u001b[1;32m    143\u001b[0m \u001b[38;5;124;03mArgs:\u001b[39;00m\n\u001b[0;32m   (...)\u001b[0m\n\u001b[1;32m    155\u001b[0m \n\u001b[1;32m    156\u001b[0m \u001b[38;5;124;03m\"\"\"\u001b[39;00m\n\u001b[1;32m    157\u001b[0m dispatcher \u001b[38;5;241m=\u001b[39m TranspilerDispatcher(\n\u001b[1;32m    158\u001b[0m     \u001b[38;5;28mself\u001b[39m\u001b[38;5;241m.\u001b[39m_transpiler_manager,\n\u001b[1;32m    159\u001b[0m     \u001b[38;5;28mself\u001b[39m\u001b[38;5;241m.\u001b[39m_program_converter_manager,\n\u001b[0;32m   (...)\u001b[0m\n\u001b[1;32m    162\u001b[0m     \u001b[38;5;28mself\u001b[39m\u001b[38;5;241m.\u001b[39m_device_type_manager,\n\u001b[1;32m    163\u001b[0m )\n\u001b[0;32m--> 165\u001b[0m \u001b[38;5;28;01mreturn\u001b[39;00m \u001b[43mdispatcher\u001b[49m\u001b[38;5;241;43m.\u001b[39;49m\u001b[43mdispatch\u001b[49m\u001b[43m(\u001b[49m\n\u001b[1;32m    166\u001b[0m \u001b[43m    \u001b[49m\u001b[43mprogram\u001b[49m\u001b[43m,\u001b[49m\n\u001b[1;32m    167\u001b[0m \u001b[43m    \u001b[49m\u001b[43mprogram_lib\u001b[49m\u001b[43m,\u001b[49m\n\u001b[1;32m    168\u001b[0m \u001b[43m    \u001b[49m\u001b[43mtranspiler_lib\u001b[49m\u001b[43m,\u001b[49m\n\u001b[1;32m    169\u001b[0m \u001b[43m    \u001b[49m\u001b[43mtranspiler_options\u001b[49m\u001b[43m,\u001b[49m\n\u001b[1;32m    170\u001b[0m \u001b[43m    \u001b[49m\u001b[43mdevice\u001b[49m\u001b[43m,\u001b[49m\n\u001b[1;32m    171\u001b[0m \u001b[43m    \u001b[49m\u001b[43mdevice_lib\u001b[49m\u001b[43m,\u001b[49m\n\u001b[1;32m    172\u001b[0m \u001b[43m\u001b[49m\u001b[43m)\u001b[49m\n",
      "File \u001b[0;32m~/work/qubex/.venv/lib/python3.10/site-packages/tranqu/transpiler_dispatcher.py:128\u001b[0m, in \u001b[0;36mTranspilerDispatcher.dispatch\u001b[0;34m(self, program, program_lib, transpiler_lib, transpiler_options, device, device_lib)\u001b[0m\n\u001b[1;32m    122\u001b[0m     converted_program \u001b[38;5;241m=\u001b[39m program\n\u001b[1;32m    124\u001b[0m converted_device \u001b[38;5;241m=\u001b[39m \u001b[38;5;28mself\u001b[39m\u001b[38;5;241m.\u001b[39m_convert_device(\n\u001b[1;32m    125\u001b[0m     device, from_lib\u001b[38;5;241m=\u001b[39mresolved_device_lib, to_lib\u001b[38;5;241m=\u001b[39mselected_transpiler_lib\n\u001b[1;32m    126\u001b[0m )\n\u001b[0;32m--> 128\u001b[0m result \u001b[38;5;241m=\u001b[39m \u001b[43mtranspiler\u001b[49m\u001b[38;5;241;43m.\u001b[39;49m\u001b[43mtranspile\u001b[49m\u001b[43m(\u001b[49m\n\u001b[1;32m    129\u001b[0m \u001b[43m    \u001b[49m\u001b[43mconverted_program\u001b[49m\u001b[43m,\u001b[49m\n\u001b[1;32m    130\u001b[0m \u001b[43m    \u001b[49m\u001b[43mtranspiler_options\u001b[49m\u001b[43m,\u001b[49m\n\u001b[1;32m    131\u001b[0m \u001b[43m    \u001b[49m\u001b[43mconverted_device\u001b[49m\u001b[43m,\u001b[49m\n\u001b[1;32m    132\u001b[0m \u001b[43m\u001b[49m\u001b[43m)\u001b[49m\n\u001b[1;32m    134\u001b[0m \u001b[38;5;28;01mif\u001b[39;00m transpiler\u001b[38;5;241m.\u001b[39mprogram_lib \u001b[38;5;241m!=\u001b[39m resolved_program_lib:\n\u001b[1;32m    135\u001b[0m     result\u001b[38;5;241m.\u001b[39mtranspiled_program \u001b[38;5;241m=\u001b[39m \u001b[38;5;28mself\u001b[39m\u001b[38;5;241m.\u001b[39m_convert_program(\n\u001b[1;32m    136\u001b[0m         result\u001b[38;5;241m.\u001b[39mtranspiled_program,\n\u001b[1;32m    137\u001b[0m         from_lib\u001b[38;5;241m=\u001b[39mtranspiler\u001b[38;5;241m.\u001b[39mprogram_lib,\n\u001b[1;32m    138\u001b[0m         to_lib\u001b[38;5;241m=\u001b[39mresolved_program_lib,\n\u001b[1;32m    139\u001b[0m     )\n",
      "File \u001b[0;32m~/work/qubex/.venv/lib/python3.10/site-packages/tranqu/transpiler/ouqu_tp_transpiler.py:49\u001b[0m, in \u001b[0;36mOuquTpTranspiler.transpile\u001b[0;34m(self, program, options, device)\u001b[0m\n\u001b[1;32m     46\u001b[0m transpile_response \u001b[38;5;241m=\u001b[39m \u001b[38;5;28mself\u001b[39m\u001b[38;5;241m.\u001b[39m_ouqu_tp\u001b[38;5;241m.\u001b[39mtranspile(program, device)\n\u001b[1;32m     48\u001b[0m original_circuit \u001b[38;5;241m=\u001b[39m loads(program)\n\u001b[0;32m---> 49\u001b[0m transpiled_circuit \u001b[38;5;241m=\u001b[39m \u001b[43mloads\u001b[49m\u001b[43m(\u001b[49m\u001b[43mtranspile_response\u001b[49m\u001b[38;5;241;43m.\u001b[39;49m\u001b[43mqasm\u001b[49m\u001b[43m)\u001b[49m\n\u001b[1;32m     51\u001b[0m stats \u001b[38;5;241m=\u001b[39m {\n\u001b[1;32m     52\u001b[0m     \u001b[38;5;124m\"\u001b[39m\u001b[38;5;124mbefore\u001b[39m\u001b[38;5;124m\"\u001b[39m: \u001b[38;5;28mself\u001b[39m\u001b[38;5;241m.\u001b[39m_qiskit_stats_extractor\u001b[38;5;241m.\u001b[39mextract_stats_from(original_circuit),\n\u001b[1;32m     53\u001b[0m     \u001b[38;5;124m\"\u001b[39m\u001b[38;5;124mafter\u001b[39m\u001b[38;5;124m\"\u001b[39m: \u001b[38;5;28mself\u001b[39m\u001b[38;5;241m.\u001b[39m_qiskit_stats_extractor\u001b[38;5;241m.\u001b[39mextract_stats_from(\n\u001b[1;32m     54\u001b[0m         transpiled_circuit\n\u001b[1;32m     55\u001b[0m     ),\n\u001b[1;32m     56\u001b[0m }\n\u001b[1;32m     58\u001b[0m mapping \u001b[38;5;241m=\u001b[39m \u001b[38;5;28mself\u001b[39m\u001b[38;5;241m.\u001b[39m_layout_mapper\u001b[38;5;241m.\u001b[39mcreate_mapping_from_layout(transpiled_circuit)\n",
      "File \u001b[0;32m~/work/qubex/.venv/lib/python3.10/site-packages/qiskit/utils/lazy_tester.py:149\u001b[0m, in \u001b[0;36mLazyDependencyManager.require_in_call.<locals>.decorator.<locals>.out\u001b[0;34m(*args, **kwargs)\u001b[0m\n\u001b[1;32m    146\u001b[0m \u001b[38;5;129m@functools\u001b[39m\u001b[38;5;241m.\u001b[39mwraps(function)\n\u001b[1;32m    147\u001b[0m \u001b[38;5;28;01mdef\u001b[39;00m\u001b[38;5;250m \u001b[39m\u001b[38;5;21mout\u001b[39m(\u001b[38;5;241m*\u001b[39margs, \u001b[38;5;241m*\u001b[39m\u001b[38;5;241m*\u001b[39mkwargs):\n\u001b[1;32m    148\u001b[0m     \u001b[38;5;28mself\u001b[39m\u001b[38;5;241m.\u001b[39mrequire_now(feature)\n\u001b[0;32m--> 149\u001b[0m     \u001b[38;5;28;01mreturn\u001b[39;00m \u001b[43mfunction\u001b[49m\u001b[43m(\u001b[49m\u001b[38;5;241;43m*\u001b[39;49m\u001b[43margs\u001b[49m\u001b[43m,\u001b[49m\u001b[43m \u001b[49m\u001b[38;5;241;43m*\u001b[39;49m\u001b[38;5;241;43m*\u001b[39;49m\u001b[43mkwargs\u001b[49m\u001b[43m)\u001b[49m\n",
      "File \u001b[0;32m~/work/qubex/.venv/lib/python3.10/site-packages/qiskit/qasm3/__init__.py:342\u001b[0m, in \u001b[0;36mloads\u001b[0;34m(program)\u001b[0m\n\u001b[1;32m    339\u001b[0m \u001b[38;5;28;01mimport\u001b[39;00m\u001b[38;5;250m \u001b[39m\u001b[38;5;21;01mqiskit_qasm3_import\u001b[39;00m\n\u001b[1;32m    341\u001b[0m \u001b[38;5;28;01mtry\u001b[39;00m:\n\u001b[0;32m--> 342\u001b[0m     \u001b[38;5;28;01mreturn\u001b[39;00m \u001b[43mqiskit_qasm3_import\u001b[49m\u001b[38;5;241;43m.\u001b[39;49m\u001b[43mparse\u001b[49m\u001b[43m(\u001b[49m\u001b[43mprogram\u001b[49m\u001b[43m)\u001b[49m\n\u001b[1;32m    343\u001b[0m \u001b[38;5;28;01mexcept\u001b[39;00m qiskit_qasm3_import\u001b[38;5;241m.\u001b[39mConversionError \u001b[38;5;28;01mas\u001b[39;00m exc:\n\u001b[1;32m    344\u001b[0m     \u001b[38;5;28;01mraise\u001b[39;00m QASM3ImporterError(\u001b[38;5;28mstr\u001b[39m(exc)) \u001b[38;5;28;01mfrom\u001b[39;00m\u001b[38;5;250m \u001b[39m\u001b[38;5;21;01mexc\u001b[39;00m\n",
      "File \u001b[0;32m~/work/qubex/.venv/lib/python3.10/site-packages/qiskit_qasm3_import/api.py:27\u001b[0m, in \u001b[0;36mparse\u001b[0;34m(string)\u001b[0m\n\u001b[1;32m     24\u001b[0m \u001b[38;5;28;01mdef\u001b[39;00m\u001b[38;5;250m \u001b[39m\u001b[38;5;21mparse\u001b[39m(string: \u001b[38;5;28mstr\u001b[39m, \u001b[38;5;241m/\u001b[39m) \u001b[38;5;241m-\u001b[39m\u001b[38;5;241m>\u001b[39m QuantumCircuit:\n\u001b[1;32m     25\u001b[0m \u001b[38;5;250m    \u001b[39m\u001b[38;5;124;03m\"\"\"Wrapper around :func:`.convert`, which first parses the OpenQASM 3 program into AST form, and\u001b[39;00m\n\u001b[1;32m     26\u001b[0m \u001b[38;5;124;03m    then converts the output to Qiskit format.\"\"\"\u001b[39;00m\n\u001b[0;32m---> 27\u001b[0m     \u001b[38;5;28;01mreturn\u001b[39;00m convert(\u001b[43mopenqasm3\u001b[49m\u001b[38;5;241;43m.\u001b[39;49m\u001b[43mparse\u001b[49m\u001b[43m(\u001b[49m\u001b[43mstring\u001b[49m\u001b[43m)\u001b[49m)\n",
      "File \u001b[0;32m~/work/qubex/.venv/lib/python3.10/site-packages/openqasm3/parser.py:90\u001b[0m, in \u001b[0;36mparse\u001b[0;34m(input_, permissive)\u001b[0m\n\u001b[1;32m     88\u001b[0m \u001b[38;5;28;01mexcept\u001b[39;00m (RecognitionException, ParseCancellationException) \u001b[38;5;28;01mas\u001b[39;00m exc:\n\u001b[1;32m     89\u001b[0m     \u001b[38;5;28;01mraise\u001b[39;00m QASM3ParsingError() \u001b[38;5;28;01mfrom\u001b[39;00m\u001b[38;5;250m \u001b[39m\u001b[38;5;21;01mexc\u001b[39;00m\n\u001b[0;32m---> 90\u001b[0m \u001b[38;5;28;01mreturn\u001b[39;00m \u001b[43mQASMNodeVisitor\u001b[49m\u001b[43m(\u001b[49m\u001b[43m)\u001b[49m\u001b[38;5;241;43m.\u001b[39;49m\u001b[43mvisitProgram\u001b[49m\u001b[43m(\u001b[49m\u001b[43mtree\u001b[49m\u001b[43m)\u001b[49m\n",
      "File \u001b[0;32m~/work/qubex/.venv/lib/python3.10/site-packages/openqasm3/parser.py:119\u001b[0m, in \u001b[0;36mspan.<locals>.wrapped\u001b[0;34m(*args, **kwargs)\u001b[0m\n\u001b[1;32m    118\u001b[0m \u001b[38;5;28;01mdef\u001b[39;00m\u001b[38;5;250m \u001b[39m\u001b[38;5;21mwrapped\u001b[39m(\u001b[38;5;241m*\u001b[39margs, \u001b[38;5;241m*\u001b[39m\u001b[38;5;241m*\u001b[39mkwargs):\n\u001b[0;32m--> 119\u001b[0m     span \u001b[38;5;241m=\u001b[39m \u001b[43mget_span\u001b[49m\u001b[43m(\u001b[49m\u001b[43margs\u001b[49m\u001b[43m[\u001b[49m\u001b[38;5;241;43m1\u001b[39;49m\u001b[43m]\u001b[49m\u001b[43m)\u001b[49m  \u001b[38;5;66;03m# args[1] is ctx\u001b[39;00m\n\u001b[1;32m    120\u001b[0m     node \u001b[38;5;241m=\u001b[39m func(\u001b[38;5;241m*\u001b[39margs, \u001b[38;5;241m*\u001b[39m\u001b[38;5;241m*\u001b[39mkwargs)\n\u001b[1;32m    121\u001b[0m     \u001b[38;5;28;01mif\u001b[39;00m node \u001b[38;5;129;01mis\u001b[39;00m \u001b[38;5;28;01mNone\u001b[39;00m:\n",
      "File \u001b[0;32m~/work/qubex/.venv/lib/python3.10/site-packages/openqasm3/parser.py:96\u001b[0m, in \u001b[0;36mget_span\u001b[0;34m(node)\u001b[0m\n\u001b[1;32m     94\u001b[0m \u001b[38;5;250m\u001b[39m\u001b[38;5;124;03m\"\"\"Get the span of a node\"\"\"\u001b[39;00m\n\u001b[1;32m     95\u001b[0m \u001b[38;5;28;01mif\u001b[39;00m \u001b[38;5;28misinstance\u001b[39m(node, ParserRuleContext):\n\u001b[0;32m---> 96\u001b[0m     \u001b[38;5;28;01mreturn\u001b[39;00m ast\u001b[38;5;241m.\u001b[39mSpan(node\u001b[38;5;241m.\u001b[39mstart\u001b[38;5;241m.\u001b[39mline, node\u001b[38;5;241m.\u001b[39mstart\u001b[38;5;241m.\u001b[39mcolumn, \u001b[43mnode\u001b[49m\u001b[38;5;241;43m.\u001b[39;49m\u001b[43mstop\u001b[49m\u001b[38;5;241;43m.\u001b[39;49m\u001b[43mline\u001b[49m, node\u001b[38;5;241m.\u001b[39mstop\u001b[38;5;241m.\u001b[39mcolumn)\n\u001b[1;32m     97\u001b[0m \u001b[38;5;28;01melse\u001b[39;00m:\n\u001b[1;32m     98\u001b[0m     \u001b[38;5;28;01mreturn\u001b[39;00m ast\u001b[38;5;241m.\u001b[39mSpan(node\u001b[38;5;241m.\u001b[39msymbol\u001b[38;5;241m.\u001b[39mline, node\u001b[38;5;241m.\u001b[39msymbol\u001b[38;5;241m.\u001b[39mstart, node\u001b[38;5;241m.\u001b[39msymbol\u001b[38;5;241m.\u001b[39mline, node\u001b[38;5;241m.\u001b[39msymbol\u001b[38;5;241m.\u001b[39mstop)\n",
      "\u001b[0;31mAttributeError\u001b[0m: 'NoneType' object has no attribute 'line'"
     ]
    }
   ],
   "source": [
    "program = \"\"\"OPENQASM 3.0;\n",
    "include \"stdgates.inc\";\n",
    "qubit[2] q;\n",
    "\n",
    "h q[0];\n",
    "cx q[0], q[1];\n",
    "\"\"\"\n",
    "options = {\n",
    "    \"basis_gates\": [ \"sx\", \"x\", \"rz\", \"cx\"]\n",
    "}\n",
    "\n",
    "tranqu = Tranqu()\n",
    "result = tranqu.transpile(\n",
    "    program=program,\n",
    "    program_lib=\"openqasm3\",\n",
    "    transpiler_lib=\"ouqu-tp\",\n",
    "    transpiler_options=options,\n",
    "    device=oqtopus_device,\n",
    "    device_lib=\"oqtopus\",\n",
    ")"
   ]
  },
  {
   "cell_type": "code",
   "execution_count": 48,
   "metadata": {},
   "outputs": [],
   "source": [
    "def virtual_physical_map(device_topology_json: dict):\n",
    "\tdevice_topology = device_topology_json\n",
    "\tqubits = {\n",
    "\t\tqubit[\"id\"]: qubit[\"physical_id\"] for qubit in device_topology[\"qubits\"]\n",
    "\t}\n",
    "\tcouplings = {\n",
    "\t\t(c[\"control\"], c[\"target\"]): (qubits[c[\"control\"]], qubits[c[\"target\"]])\n",
    "\t\tfor c in device_topology[\"couplings\"]\n",
    "\t}\n",
    "\treturn {\"qubits\": qubits, \"couplings\": couplings}"
   ]
  },
  {
   "cell_type": "code",
   "execution_count": 49,
   "metadata": {},
   "outputs": [
    {
     "name": "stdout",
     "output_type": "stream",
     "text": [
      "{'qubits': {0: 5, 1: 7}, 'couplings': {(0, 1): (5, 7)}}\n"
     ]
    }
   ],
   "source": [
    "_virtual_physical_map = virtual_physical_map(oqtopus_device)\n",
    "print(_virtual_physical_map)"
   ]
  },
  {
   "cell_type": "code",
   "execution_count": 50,
   "metadata": {},
   "outputs": [
    {
     "name": "stdout",
     "output_type": "stream",
     "text": [
      "OPENQASM 3.0;\n",
      "include \"stdgates.inc\";\n",
      "qubit[2] q;\n",
      "rz(pi/2) q[0];\n",
      "sx q[0];\n",
      "rz(pi/2) q[0];\n",
      "cx q[0], q[1];\n",
      "\n"
     ]
    }
   ],
   "source": [
    "qasm_program = result.transpiled_program\n",
    "print(qasm_program)"
   ]
  },
  {
   "cell_type": "code",
   "execution_count": 44,
   "metadata": {},
   "outputs": [
    {
     "name": "stdout",
     "output_type": "stream",
     "text": [
      "OPENQASM 3.0;\n",
      "include \"stdgates.inc\";\n",
      "rz(pi/2) $0;\n",
      "sx $0;\n",
      "rz(pi/2) $0;\n",
      "cx $0, $1;\n",
      "\n"
     ]
    }
   ],
   "source": [
    "backend = SimulatorBackend(virtual_physical_map=_virtual_physical_map)\n",
    "backend.load_program(qasm_program)\n",
    "print(backend.program)\n"
   ]
  },
  {
   "cell_type": "code",
   "execution_count": 45,
   "metadata": {},
   "outputs": [
    {
     "name": "stdout",
     "output_type": "stream",
     "text": [
      "CircuitInstruction(operation=Instruction(name='rz', num_qubits=1, num_clbits=0, params=[1.5707963267948966]), qubits=(<qiskit.circuit.quantumregister.Qubit object at 0x7f4b851764c0>,), clbits=())\n",
      "<qiskit.circuit.quantumregister.Qubit object at 0x7f4b851764c0>\n",
      "None\n"
     ]
    },
    {
     "ename": "KeyError",
     "evalue": "None",
     "output_type": "error",
     "traceback": [
      "\u001b[0;31m---------------------------------------------------------------------------\u001b[0m",
      "\u001b[0;31mKeyError\u001b[0m                                  Traceback (most recent call last)",
      "Cell \u001b[0;32mIn[45], line 1\u001b[0m\n\u001b[0;32m----> 1\u001b[0m \u001b[43mbackend\u001b[49m\u001b[38;5;241;43m.\u001b[39;49m\u001b[43mcompile\u001b[49m\u001b[43m(\u001b[49m\u001b[43m)\u001b[49m\n",
      "File \u001b[0;32m~/work/qubex/src/qubex/circuit/simulator.py:97\u001b[0m, in \u001b[0;36mSimulatorBackend.compile\u001b[0;34m(self)\u001b[0m\n\u001b[1;32m     95\u001b[0m virtual_index \u001b[38;5;241m=\u001b[39m instruction\u001b[38;5;241m.\u001b[39mqubits[\u001b[38;5;241m0\u001b[39m]\u001b[38;5;241m.\u001b[39m_index\n\u001b[1;32m     96\u001b[0m \u001b[38;5;28mprint\u001b[39m(virtual_index)\n\u001b[0;32m---> 97\u001b[0m physical_label \u001b[38;5;241m=\u001b[39m \u001b[38;5;28;43mself\u001b[39;49m\u001b[38;5;241;43m.\u001b[39;49m\u001b[43mvirtual_physical_qubits\u001b[49m\u001b[43m[\u001b[49m\u001b[43mvirtual_index\u001b[49m\u001b[43m]\u001b[49m\n\u001b[1;32m     99\u001b[0m \u001b[38;5;28;01mif\u001b[39;00m name \u001b[38;5;241m==\u001b[39m \u001b[38;5;124m\"\u001b[39m\u001b[38;5;124msx\u001b[39m\u001b[38;5;124m\"\u001b[39m:\n\u001b[1;32m    100\u001b[0m     \u001b[38;5;28mself\u001b[39m\u001b[38;5;241m.\u001b[39mx90(physical_label)\n",
      "\u001b[0;31mKeyError\u001b[0m: None"
     ]
    }
   ],
   "source": [
    "backend.compile()"
   ]
  },
  {
   "cell_type": "code",
   "execution_count": 46,
   "metadata": {},
   "outputs": [
    {
     "name": "stdout",
     "output_type": "stream",
     "text": [
      "CircuitInstruction(operation=Instruction(name='rz', num_qubits=1, num_clbits=0, params=[1.5708]), qubits=(Qubit(QuantumRegister(2, 'q'), 0),), clbits=())\n",
      "Qubit(QuantumRegister(2, 'q'), 0)\n",
      "0\n",
      "CircuitInstruction(operation=Instruction(name='sx', num_qubits=1, num_clbits=0, params=[]), qubits=(Qubit(QuantumRegister(2, 'q'), 0),), clbits=())\n",
      "Qubit(QuantumRegister(2, 'q'), 0)\n",
      "0\n",
      "CircuitInstruction(operation=Instruction(name='rz', num_qubits=1, num_clbits=0, params=[1.5708]), qubits=(Qubit(QuantumRegister(2, 'q'), 0),), clbits=())\n",
      "Qubit(QuantumRegister(2, 'q'), 0)\n",
      "0\n",
      "CircuitInstruction(operation=Instruction(name='cx', num_qubits=2, num_clbits=0, params=[]), qubits=(Qubit(QuantumRegister(2, 'q'), 0), Qubit(QuantumRegister(2, 'q'), 1)), clbits=())\n",
      "Qubit(QuantumRegister(2, 'q'), 0)\n",
      "0\n",
      "CircuitInstruction(operation=Instruction(name='measure', num_qubits=1, num_clbits=1, params=[]), qubits=(Qubit(QuantumRegister(2, 'q'), 0),), clbits=(Clbit(ClassicalRegister(2, 'c'), 0),))\n",
      "Qubit(QuantumRegister(2, 'q'), 0)\n",
      "0\n",
      "CircuitInstruction(operation=Instruction(name='measure', num_qubits=1, num_clbits=1, params=[]), qubits=(Qubit(QuantumRegister(2, 'q'), 1),), clbits=(Clbit(ClassicalRegister(2, 'c'), 1),))\n",
      "Qubit(QuantumRegister(2, 'q'), 1)\n",
      "1\n"
     ]
    }
   ],
   "source": [
    "qasm_program = \"\"\"\n",
    "OPENQASM 3;\n",
    "include \"stdgates.inc\";\n",
    "qubit[2] q;\n",
    "bit[2] c;\n",
    "rz(1.5708) q[0];\n",
    "sx q[0];\n",
    "rz(1.5708) q[0];\n",
    "cx q[0], q[1];\n",
    "c[0] = measure q[0];\n",
    "c[1] = measure q[1];\n",
    "\"\"\"\n",
    "backend.load_program(qasm_program)\n",
    "backend.compile()"
   ]
  },
  {
   "cell_type": "code",
   "execution_count": 78,
   "metadata": {},
   "outputs": [
    {
     "data": {
      "text/plain": [
       "['Q05', 'Q07']"
      ]
     },
     "execution_count": 78,
     "metadata": {},
     "output_type": "execute_result"
    }
   ],
   "source": [
    "backend.qubits"
   ]
  },
  {
   "cell_type": "code",
   "execution_count": 26,
   "metadata": {},
   "outputs": [
    {
     "data": {
      "text/plain": [
       "['Q05-Q07', 'Q07-Q05']"
      ]
     },
     "execution_count": 26,
     "metadata": {},
     "output_type": "execute_result"
    }
   ],
   "source": [
    "backend.couplings"
   ]
  },
  {
   "cell_type": "code",
   "execution_count": 27,
   "metadata": {},
   "outputs": [
    {
     "data": {
      "text/plain": [
       "{0: 'Q05', 1: 'Q07'}"
      ]
     },
     "execution_count": 27,
     "metadata": {},
     "output_type": "execute_result"
    }
   ],
   "source": [
    "backend.virtual_to_physical"
   ]
  },
  {
   "cell_type": "code",
   "execution_count": 28,
   "metadata": {},
   "outputs": [
    {
     "data": {
      "text/plain": [
       "{'Q05': 0, 'Q07': 1}"
      ]
     },
     "execution_count": 28,
     "metadata": {},
     "output_type": "execute_result"
    }
   ],
   "source": [
    "backend.physical_to_virtual"
   ]
  },
  {
   "cell_type": "code",
   "execution_count": 29,
   "metadata": {},
   "outputs": [],
   "source": [
    "result = backend.execute()"
   ]
  },
  {
   "cell_type": "code",
   "execution_count": 30,
   "metadata": {},
   "outputs": [
    {
     "data": {
      "text/plain": [
       "{'00': 510, '11': 514}"
      ]
     },
     "execution_count": 30,
     "metadata": {},
     "output_type": "execute_result"
    }
   ],
   "source": [
    "result"
   ]
  },
  {
   "cell_type": "code",
   "execution_count": 7,
   "metadata": {},
   "outputs": [
    {
     "data": {
      "text/plain": [
       "{'00': 455, '01': 0, '10': 0, '11': 545}"
      ]
     },
     "execution_count": 7,
     "metadata": {},
     "output_type": "execute_result"
    }
   ],
   "source": [
    "from qubex.circuit.dummy import DummyBackend\n",
    "nodes = [\"Q05\",\"Q07\"]\n",
    "edges =  [\"Q05-Q07\"]\n",
    "backend = DummyBackend(chip_id=\"64Q\", nodes=nodes, edges=edges)\n",
    "\n",
    "qasm_program = \"\"\"\n",
    "OPENQASM 3;\n",
    "include \"stdgates.inc\";\n",
    "qubit[2] q;\n",
    "bit[2] c;\n",
    "rz(1.5708) q[0];\n",
    "sx q[0];\n",
    "rz(1.5708) q[0];\n",
    "cx q[0], q[1];\n",
    "c[0] = measure q[0];\n",
    "c[1] = measure q[1];\n",
    "\"\"\"\n",
    "\n",
    "backend.load_program(qasm_program)\n",
    "backend.execute()"
   ]
  },
  {
   "cell_type": "code",
   "execution_count": null,
   "metadata": {},
   "outputs": [],
   "source": [
    "result"
   ]
  },
  {
   "cell_type": "code",
   "execution_count": null,
   "metadata": {},
   "outputs": [],
   "source": [
    "result = backend.execute()"
   ]
  },
  {
   "cell_type": "code",
   "execution_count": null,
   "metadata": {},
   "outputs": [],
   "source": [
    "result.probabilities"
   ]
  },
  {
   "cell_type": "code",
   "execution_count": null,
   "metadata": {},
   "outputs": [],
   "source": [
    "backend.virtual_to_physical"
   ]
  },
  {
   "cell_type": "code",
   "execution_count": null,
   "metadata": {},
   "outputs": [],
   "source": []
  },
  {
   "cell_type": "code",
   "execution_count": null,
   "metadata": {},
   "outputs": [],
   "source": [
    "result.probabilities"
   ]
  },
  {
   "cell_type": "code",
   "execution_count": null,
   "metadata": {},
   "outputs": [],
   "source": []
  }
 ],
 "metadata": {
  "kernelspec": {
   "display_name": ".venv",
   "language": "python",
   "name": "python3"
  },
  "language_info": {
   "codemirror_mode": {
    "name": "ipython",
    "version": 3
   },
   "file_extension": ".py",
   "mimetype": "text/x-python",
   "name": "python",
   "nbconvert_exporter": "python",
   "pygments_lexer": "ipython3",
   "version": "3.10.12"
  }
 },
 "nbformat": 4,
 "nbformat_minor": 2
}
